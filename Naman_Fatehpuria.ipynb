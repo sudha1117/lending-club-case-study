{
 "cells": [
  {
   "cell_type": "markdown",
   "id": "a9acb6d4",
   "metadata": {},
   "source": [
    "# LENDING CLUB CASE STUDY"
   ]
  },
  {
   "cell_type": "code",
   "execution_count": 155,
   "id": "af04cce3",
   "metadata": {},
   "outputs": [],
   "source": [
    "import pandas as pd\n",
    "import numpy as np\n",
    "import matplotlib.pyplot as plt\n",
    "import seaborn as sns\n",
    "import warnings\n",
    "warnings.filterwarnings('ignore')"
   ]
  },
  {
   "cell_type": "markdown",
   "id": "e4eb6f3c",
   "metadata": {},
   "source": [
    "## 1. Data Sourcing"
   ]
  },
  {
   "cell_type": "markdown",
   "id": "669e2cdd",
   "metadata": {},
   "source": [
    "#### Load `Data_Dictionary.xlsx`"
   ]
  },
  {
   "cell_type": "code",
   "execution_count": 156,
   "id": "1f4191c0",
   "metadata": {},
   "outputs": [
    {
     "data": {
      "text/html": [
       "<div>\n",
       "<style scoped>\n",
       "    .dataframe tbody tr th:only-of-type {\n",
       "        vertical-align: middle;\n",
       "    }\n",
       "\n",
       "    .dataframe tbody tr th {\n",
       "        vertical-align: top;\n",
       "    }\n",
       "\n",
       "    .dataframe thead th {\n",
       "        text-align: right;\n",
       "    }\n",
       "</style>\n",
       "<table border=\"1\" class=\"dataframe\">\n",
       "  <thead>\n",
       "    <tr style=\"text-align: right;\">\n",
       "      <th></th>\n",
       "      <th>LoanStatNew</th>\n",
       "      <th>Description</th>\n",
       "    </tr>\n",
       "  </thead>\n",
       "  <tbody>\n",
       "    <tr>\n",
       "      <th>0</th>\n",
       "      <td>acc_now_delinq</td>\n",
       "      <td>The number of accounts on which the borrower is now delinquent.</td>\n",
       "    </tr>\n",
       "    <tr>\n",
       "      <th>1</th>\n",
       "      <td>acc_open_past_24mths</td>\n",
       "      <td>Number of trades opened in past 24 months.</td>\n",
       "    </tr>\n",
       "    <tr>\n",
       "      <th>2</th>\n",
       "      <td>addr_state</td>\n",
       "      <td>The state provided by the borrower in the loan application</td>\n",
       "    </tr>\n",
       "    <tr>\n",
       "      <th>3</th>\n",
       "      <td>all_util</td>\n",
       "      <td>Balance to credit limit on all trades</td>\n",
       "    </tr>\n",
       "    <tr>\n",
       "      <th>4</th>\n",
       "      <td>annual_inc</td>\n",
       "      <td>The self-reported annual income provided by the borrower during registration.</td>\n",
       "    </tr>\n",
       "    <tr>\n",
       "      <th>...</th>\n",
       "      <td>...</td>\n",
       "      <td>...</td>\n",
       "    </tr>\n",
       "    <tr>\n",
       "      <th>112</th>\n",
       "      <td>verification_status</td>\n",
       "      <td>Indicates if income was verified by LC, not verified, or if the income source was verified</td>\n",
       "    </tr>\n",
       "    <tr>\n",
       "      <th>113</th>\n",
       "      <td>verified_status_joint</td>\n",
       "      <td>Indicates if the co-borrowers' joint income was verified by LC, not verified, or if the income source was verified</td>\n",
       "    </tr>\n",
       "    <tr>\n",
       "      <th>114</th>\n",
       "      <td>zip_code</td>\n",
       "      <td>The first 3 numbers of the zip code provided by the borrower in the loan application.</td>\n",
       "    </tr>\n",
       "    <tr>\n",
       "      <th>115</th>\n",
       "      <td>NaN</td>\n",
       "      <td>NaN</td>\n",
       "    </tr>\n",
       "    <tr>\n",
       "      <th>116</th>\n",
       "      <td>NaN</td>\n",
       "      <td>* Employer Title replaces Employer Name for all loans listed after 9/23/2013</td>\n",
       "    </tr>\n",
       "  </tbody>\n",
       "</table>\n",
       "<p>117 rows × 2 columns</p>\n",
       "</div>"
      ],
      "text/plain": [
       "               LoanStatNew  \\\n",
       "0           acc_now_delinq   \n",
       "1     acc_open_past_24mths   \n",
       "2               addr_state   \n",
       "3                 all_util   \n",
       "4               annual_inc   \n",
       "..                     ...   \n",
       "112    verification_status   \n",
       "113  verified_status_joint   \n",
       "114               zip_code   \n",
       "115                    NaN   \n",
       "116                    NaN   \n",
       "\n",
       "                                                                                                            Description  \n",
       "0                                                       The number of accounts on which the borrower is now delinquent.  \n",
       "1                                                                            Number of trades opened in past 24 months.  \n",
       "2                                                            The state provided by the borrower in the loan application  \n",
       "3                                                                                 Balance to credit limit on all trades  \n",
       "4                                         The self-reported annual income provided by the borrower during registration.  \n",
       "..                                                                                                                  ...  \n",
       "112                          Indicates if income was verified by LC, not verified, or if the income source was verified  \n",
       "113  Indicates if the co-borrowers' joint income was verified by LC, not verified, or if the income source was verified  \n",
       "114                               The first 3 numbers of the zip code provided by the borrower in the loan application.  \n",
       "115                                                                                                                 NaN  \n",
       "116                                        * Employer Title replaces Employer Name for all loans listed after 9/23/2013  \n",
       "\n",
       "[117 rows x 2 columns]"
      ]
     },
     "execution_count": 156,
     "metadata": {},
     "output_type": "execute_result"
    }
   ],
   "source": [
    "#pd.set_option('display.max_rows', None)\n",
    "pd.set_option('display.max_colwidth', None)\n",
    "pd.set_option('display.max_columns', None)\n",
    "\n",
    "pd.read_excel(\"Data_Dictionary.xlsx\", header=0)"
   ]
  },
  {
   "cell_type": "markdown",
   "id": "d91de622",
   "metadata": {},
   "source": [
    "#### Load -  `loan.csv`"
   ]
  },
  {
   "cell_type": "code",
   "execution_count": 157,
   "id": "5bf0c92e",
   "metadata": {},
   "outputs": [],
   "source": [
    "loan = pd.read_csv('loan.csv', dtype={'next_pymnt_d': object})"
   ]
  },
  {
   "cell_type": "markdown",
   "id": "93604f32",
   "metadata": {},
   "source": [
    "## 2. Data Understanding"
   ]
  },
  {
   "cell_type": "code",
   "execution_count": 158,
   "id": "0002330a",
   "metadata": {},
   "outputs": [
    {
     "name": "stdout",
     "output_type": "stream",
     "text": [
      "<class 'pandas.core.frame.DataFrame'>\n",
      "RangeIndex: 39717 entries, 0 to 39716\n",
      "Columns: 111 entries, id to total_il_high_credit_limit\n",
      "dtypes: float64(74), int64(13), object(24)\n",
      "memory usage: 33.6+ MB\n",
      "None\n"
     ]
    }
   ],
   "source": [
    "print(loan.info())"
   ]
  },
  {
   "cell_type": "code",
   "execution_count": 159,
   "id": "11cd7e85",
   "metadata": {},
   "outputs": [
    {
     "name": "stdout",
     "output_type": "stream",
     "text": [
      "(39717, 111)\n"
     ]
    }
   ],
   "source": [
    "print(loan.shape)"
   ]
  },
  {
   "cell_type": "code",
   "execution_count": 160,
   "id": "c12a1dca",
   "metadata": {},
   "outputs": [
    {
     "name": "stdout",
     "output_type": "stream",
     "text": [
      "Index(['id', 'member_id', 'loan_amnt', 'funded_amnt', 'funded_amnt_inv',\n",
      "       'term', 'int_rate', 'installment', 'grade', 'sub_grade',\n",
      "       ...\n",
      "       'num_tl_90g_dpd_24m', 'num_tl_op_past_12m', 'pct_tl_nvr_dlq',\n",
      "       'percent_bc_gt_75', 'pub_rec_bankruptcies', 'tax_liens',\n",
      "       'tot_hi_cred_lim', 'total_bal_ex_mort', 'total_bc_limit',\n",
      "       'total_il_high_credit_limit'],\n",
      "      dtype='object', length=111)\n"
     ]
    }
   ],
   "source": [
    "print(loan.columns)"
   ]
  },
  {
   "cell_type": "markdown",
   "id": "a453f00c",
   "metadata": {},
   "source": [
    "## 3. Data Cleaning"
   ]
  },
  {
   "cell_type": "markdown",
   "id": "f5a33a02",
   "metadata": {},
   "source": [
    "#### Step 3.1 - Remove Nulls columns over 90%"
   ]
  },
  {
   "cell_type": "code",
   "execution_count": 161,
   "id": "63a68add",
   "metadata": {},
   "outputs": [
    {
     "data": {
      "text/plain": [
       "id                              0.000000\n",
       "member_id                       0.000000\n",
       "loan_amnt                       0.000000\n",
       "funded_amnt                     0.000000\n",
       "funded_amnt_inv                 0.000000\n",
       "                                 ...    \n",
       "tax_liens                       0.098195\n",
       "tot_hi_cred_lim               100.000000\n",
       "total_bal_ex_mort             100.000000\n",
       "total_bc_limit                100.000000\n",
       "total_il_high_credit_limit    100.000000\n",
       "Length: 111, dtype: float64"
      ]
     },
     "execution_count": 161,
     "metadata": {},
     "output_type": "execute_result"
    }
   ],
   "source": [
    "#Checking Null Values in percentage across the columns\n",
    "loan.isna().sum()*100/len(loan)"
   ]
  },
  {
   "cell_type": "code",
   "execution_count": 162,
   "id": "5a23a5bf",
   "metadata": {},
   "outputs": [],
   "source": [
    "loan = loan.loc[:, loan.isna().sum() < len(loan)*.9]"
   ]
  },
  {
   "cell_type": "code",
   "execution_count": 163,
   "id": "d75ae071",
   "metadata": {},
   "outputs": [
    {
     "data": {
      "text/plain": [
       "(39717, 55)"
      ]
     },
     "execution_count": 163,
     "metadata": {},
     "output_type": "execute_result"
    }
   ],
   "source": [
    "loan.shape"
   ]
  },
  {
   "cell_type": "code",
   "execution_count": 164,
   "id": "b74e582f",
   "metadata": {},
   "outputs": [
    {
     "data": {
      "text/plain": [
       "Index(['id', 'member_id', 'loan_amnt', 'funded_amnt', 'funded_amnt_inv',\n",
       "       'term', 'int_rate', 'installment', 'grade', 'sub_grade', 'emp_title',\n",
       "       'emp_length', 'home_ownership', 'annual_inc', 'verification_status',\n",
       "       'issue_d', 'loan_status', 'pymnt_plan', 'url', 'desc', 'purpose',\n",
       "       'title', 'zip_code', 'addr_state', 'dti', 'delinq_2yrs',\n",
       "       'earliest_cr_line', 'inq_last_6mths', 'mths_since_last_delinq',\n",
       "       'open_acc', 'pub_rec', 'revol_bal', 'revol_util', 'total_acc',\n",
       "       'initial_list_status', 'out_prncp', 'out_prncp_inv', 'total_pymnt',\n",
       "       'total_pymnt_inv', 'total_rec_prncp', 'total_rec_int',\n",
       "       'total_rec_late_fee', 'recoveries', 'collection_recovery_fee',\n",
       "       'last_pymnt_d', 'last_pymnt_amnt', 'last_credit_pull_d',\n",
       "       'collections_12_mths_ex_med', 'policy_code', 'application_type',\n",
       "       'acc_now_delinq', 'chargeoff_within_12_mths', 'delinq_amnt',\n",
       "       'pub_rec_bankruptcies', 'tax_liens'],\n",
       "      dtype='object')"
      ]
     },
     "execution_count": 164,
     "metadata": {},
     "output_type": "execute_result"
    }
   ],
   "source": [
    "loan.columns"
   ]
  },
  {
   "cell_type": "markdown",
   "id": "e172f732",
   "metadata": {},
   "source": [
    "#### Step 3.2: Remove duplicates based on ID column"
   ]
  },
  {
   "cell_type": "code",
   "execution_count": 165,
   "id": "7d029bdb",
   "metadata": {},
   "outputs": [
    {
     "data": {
      "text/plain": [
       "False"
      ]
     },
     "execution_count": 165,
     "metadata": {},
     "output_type": "execute_result"
    }
   ],
   "source": [
    "loan['id'].duplicated().any() # No Duplicates"
   ]
  },
  {
   "cell_type": "markdown",
   "id": "a9714c67",
   "metadata": {},
   "source": [
    "#### Step 3.3 Removing Columns"
   ]
  },
  {
   "cell_type": "code",
   "execution_count": 166,
   "id": "0d420642",
   "metadata": {},
   "outputs": [],
   "source": [
    "#Customer Behaviour Variables\n",
    "loan.drop([\"delinq_2yrs\",\n",
    "           \"earliest_cr_line\",\n",
    "           \"inq_last_6mths\",\n",
    "           \"open_acc\",\n",
    "           \"pub_rec\",\n",
    "           \"revol_bal\",\n",
    "           \"revol_util\",\n",
    "           \"total_acc\",\n",
    "           \"out_prncp\",\n",
    "           \"out_prncp_inv\",\n",
    "           \"total_pymnt\",\n",
    "           \"total_pymnt_inv\",\n",
    "           \"total_rec_prncp\",\n",
    "           \"total_rec_int\",\n",
    "           \"total_rec_late_fee\", \n",
    "           \"recoveries\",\n",
    "           \"collection_recovery_fee\",\n",
    "           \"last_pymnt_d\",\n",
    "           \"last_pymnt_amnt\",\n",
    "           \"last_credit_pull_d\",\n",
    "           \"application_type\"\n",
    "           ],axis = 1, inplace=True)"
   ]
  },
  {
   "cell_type": "code",
   "execution_count": 167,
   "id": "6d8261ff",
   "metadata": {},
   "outputs": [
    {
     "data": {
      "text/plain": [
       "(39717, 34)"
      ]
     },
     "execution_count": 167,
     "metadata": {},
     "output_type": "execute_result"
    }
   ],
   "source": [
    "loan.shape"
   ]
  },
  {
   "cell_type": "code",
   "execution_count": 168,
   "id": "5447fc54",
   "metadata": {},
   "outputs": [
    {
     "data": {
      "text/plain": [
       "Index(['id', 'member_id', 'loan_amnt', 'funded_amnt', 'funded_amnt_inv',\n",
       "       'term', 'int_rate', 'installment', 'grade', 'sub_grade', 'emp_title',\n",
       "       'emp_length', 'home_ownership', 'annual_inc', 'verification_status',\n",
       "       'issue_d', 'loan_status', 'pymnt_plan', 'url', 'desc', 'purpose',\n",
       "       'title', 'zip_code', 'addr_state', 'dti', 'mths_since_last_delinq',\n",
       "       'initial_list_status', 'collections_12_mths_ex_med', 'policy_code',\n",
       "       'acc_now_delinq', 'chargeoff_within_12_mths', 'delinq_amnt',\n",
       "       'pub_rec_bankruptcies', 'tax_liens'],\n",
       "      dtype='object')"
      ]
     },
     "execution_count": 168,
     "metadata": {},
     "output_type": "execute_result"
    }
   ],
   "source": [
    "loan.columns"
   ]
  },
  {
   "cell_type": "code",
   "execution_count": 169,
   "id": "6261eda1",
   "metadata": {},
   "outputs": [],
   "source": [
    "# Removing Columns - Single Value in each column\n",
    "loan.drop([\"pymnt_plan\",\n",
    "           'collections_12_mths_ex_med',\n",
    "           'policy_code',\n",
    "           'acc_now_delinq',\n",
    "           'chargeoff_within_12_mths',\n",
    "           'delinq_amnt',\n",
    "           'pub_rec_bankruptcies',\n",
    "           'tax_liens'\n",
    "          ],axis = 1, inplace=True)"
   ]
  },
  {
   "cell_type": "code",
   "execution_count": 170,
   "id": "541443e6",
   "metadata": {},
   "outputs": [],
   "source": [
    "# Removing Columns - Columns assinged when loan is approved\n",
    "loan.drop(['id',\n",
    "           'member_id',\n",
    "           \"emp_title\",\n",
    "           \"url\",\n",
    "           'desc',\n",
    "           'purpose',\n",
    "           'title',\n",
    "           \"zip_code\", # Incomplete zip code\n",
    "           \"mths_since_last_delinq\",\n",
    "           \"initial_list_status\"\n",
    "          ],axis = 1, inplace=True)"
   ]
  },
  {
   "cell_type": "code",
   "execution_count": 171,
   "id": "e6b8bd62",
   "metadata": {},
   "outputs": [],
   "source": [
    "# Removing Columns - Similar Columns\n",
    "loan.drop([\"funded_amnt\", \n",
    "           \"funded_amnt_inv\"] ,axis = 1, inplace=True)"
   ]
  },
  {
   "cell_type": "code",
   "execution_count": 172,
   "id": "b615e870",
   "metadata": {},
   "outputs": [
    {
     "data": {
      "text/plain": [
       "(39717, 14)"
      ]
     },
     "execution_count": 172,
     "metadata": {},
     "output_type": "execute_result"
    }
   ],
   "source": [
    "loan.shape"
   ]
  },
  {
   "cell_type": "code",
   "execution_count": 173,
   "id": "4df40f2b",
   "metadata": {},
   "outputs": [
    {
     "data": {
      "text/plain": [
       "Index(['loan_amnt', 'term', 'int_rate', 'installment', 'grade', 'sub_grade',\n",
       "       'emp_length', 'home_ownership', 'annual_inc', 'verification_status',\n",
       "       'issue_d', 'loan_status', 'addr_state', 'dti'],\n",
       "      dtype='object')"
      ]
     },
     "execution_count": 173,
     "metadata": {},
     "output_type": "execute_result"
    }
   ],
   "source": [
    "# Final List of columns to work on.\n",
    "loan.columns"
   ]
  },
  {
   "cell_type": "markdown",
   "id": "b0b4ca4e",
   "metadata": {},
   "source": [
    "#### Step 3.4 - Removing rows `loan_status` == `Current`"
   ]
  },
  {
   "cell_type": "code",
   "execution_count": 174,
   "id": "a2aee2b4",
   "metadata": {},
   "outputs": [
    {
     "name": "stdout",
     "output_type": "stream",
     "text": [
      "Fully Paid     32950\n",
      "Charged Off     5627\n",
      "Current         1140\n",
      "Name: loan_status, dtype: int64\n"
     ]
    }
   ],
   "source": [
    "print(loan[\"loan_status\"].value_counts())"
   ]
  },
  {
   "cell_type": "code",
   "execution_count": 175,
   "id": "24de5d4c",
   "metadata": {},
   "outputs": [],
   "source": [
    "loan = loan[loan[\"loan_status\"] != 'Current']"
   ]
  },
  {
   "cell_type": "code",
   "execution_count": 176,
   "id": "6d2731bc",
   "metadata": {},
   "outputs": [
    {
     "data": {
      "text/plain": [
       "(38577, 14)"
      ]
     },
     "execution_count": 176,
     "metadata": {},
     "output_type": "execute_result"
    }
   ],
   "source": [
    "loan.shape"
   ]
  },
  {
   "cell_type": "markdown",
   "id": "3a36c3ec",
   "metadata": {},
   "source": [
    "#### Step 3.5 - Fixing `term` column (Removing `month`)"
   ]
  },
  {
   "cell_type": "code",
   "execution_count": 177,
   "id": "d6e4a4a7",
   "metadata": {},
   "outputs": [
    {
     "data": {
      "text/plain": [
       "array([' 36 months', ' 60 months'], dtype=object)"
      ]
     },
     "execution_count": 177,
     "metadata": {},
     "output_type": "execute_result"
    }
   ],
   "source": [
    "loan.term.unique()"
   ]
  },
  {
   "cell_type": "code",
   "execution_count": 178,
   "id": "0d305688",
   "metadata": {},
   "outputs": [],
   "source": [
    "loan.term = loan.term.apply(lambda x: int(x.replace(\" months\", \"\")))"
   ]
  },
  {
   "cell_type": "code",
   "execution_count": 179,
   "id": "b30d639e",
   "metadata": {},
   "outputs": [
    {
     "data": {
      "text/plain": [
       "36    29096\n",
       "60     9481\n",
       "Name: term, dtype: int64"
      ]
     },
     "execution_count": 179,
     "metadata": {},
     "output_type": "execute_result"
    }
   ],
   "source": [
    "loan.term.value_counts()"
   ]
  },
  {
   "cell_type": "markdown",
   "id": "7cc531c1",
   "metadata": {},
   "source": [
    "#### Step 3.6 - Fixing `int_rate` column (Removing `%`)"
   ]
  },
  {
   "cell_type": "code",
   "execution_count": 180,
   "id": "84ad7cca",
   "metadata": {},
   "outputs": [],
   "source": [
    "loan.int_rate = loan.int_rate.apply(lambda x: float(x[:-1]))"
   ]
  },
  {
   "cell_type": "code",
   "execution_count": 181,
   "id": "ae15831c",
   "metadata": {},
   "outputs": [
    {
     "data": {
      "text/plain": [
       "0    10.65\n",
       "1    15.27\n",
       "2    15.96\n",
       "3    13.49\n",
       "5     7.90\n",
       "Name: int_rate, dtype: float64"
      ]
     },
     "execution_count": 181,
     "metadata": {},
     "output_type": "execute_result"
    }
   ],
   "source": [
    "loan.int_rate.head()"
   ]
  },
  {
   "cell_type": "markdown",
   "id": "d2bc0d30",
   "metadata": {},
   "source": [
    "#### Step 3.7 - Fixing column `emp_length` (removing `years` and `+`)  "
   ]
  },
  {
   "cell_type": "code",
   "execution_count": 182,
   "id": "1c379afe",
   "metadata": {},
   "outputs": [
    {
     "data": {
      "text/plain": [
       "array(['10+ years', '< 1 year', '3 years', '8 years', '9 years',\n",
       "       '4 years', '5 years', '1 year', '6 years', '2 years', '7 years',\n",
       "       nan], dtype=object)"
      ]
     },
     "execution_count": 182,
     "metadata": {},
     "output_type": "execute_result"
    }
   ],
   "source": [
    "loan.emp_length.unique()"
   ]
  },
  {
   "cell_type": "code",
   "execution_count": 183,
   "id": "c2b75084",
   "metadata": {},
   "outputs": [],
   "source": [
    "loan.emp_length = loan.emp_length.astype('str')"
   ]
  },
  {
   "cell_type": "code",
   "execution_count": 184,
   "id": "6201a001",
   "metadata": {},
   "outputs": [],
   "source": [
    "loan.emp_length = loan.emp_length.apply(lambda x: x.strip(\" years\"))"
   ]
  },
  {
   "cell_type": "code",
   "execution_count": 185,
   "id": "ea74810c",
   "metadata": {},
   "outputs": [
    {
     "data": {
      "text/plain": [
       "array(['10+', '< 1', '3', '8', '9', '4', '5', '1', '6', '2', '7', 'nan'],\n",
       "      dtype=object)"
      ]
     },
     "execution_count": 185,
     "metadata": {},
     "output_type": "execute_result"
    }
   ],
   "source": [
    "loan.emp_length.unique()"
   ]
  },
  {
   "cell_type": "code",
   "execution_count": 186,
   "id": "c791514d",
   "metadata": {},
   "outputs": [],
   "source": [
    "def clean(input):\n",
    "    if \"nan\" in input:\n",
    "        return int(-1)\n",
    "    elif \"+\" in input:\n",
    "        return int(input.replace(\"+\", \"\"))\n",
    "    elif \"<\" in input:\n",
    "        return int(input.replace(\"< \", \"\"))\n",
    "    else:\n",
    "        return int(input)\n",
    "\n",
    "loan.emp_length = loan.emp_length.apply(clean)"
   ]
  },
  {
   "cell_type": "code",
   "execution_count": 187,
   "id": "fba85081",
   "metadata": {},
   "outputs": [
    {
     "data": {
      "text/plain": [
       "array([10,  1,  3,  8,  9,  4,  5,  6,  2,  7, -1])"
      ]
     },
     "execution_count": 187,
     "metadata": {},
     "output_type": "execute_result"
    }
   ],
   "source": [
    "loan.emp_length.unique()"
   ]
  },
  {
   "cell_type": "code",
   "execution_count": 188,
   "id": "09bcda0b",
   "metadata": {},
   "outputs": [
    {
     "data": {
      "text/plain": [
       "array(['Verified', 'Source Verified', 'Not Verified'], dtype=object)"
      ]
     },
     "execution_count": 188,
     "metadata": {},
     "output_type": "execute_result"
    }
   ],
   "source": [
    "loan.verification_status.unique()"
   ]
  },
  {
   "cell_type": "code",
   "execution_count": 189,
   "id": "53bc01c7",
   "metadata": {},
   "outputs": [
    {
     "data": {
      "text/plain": [
       "array(['RENT', 'OWN', 'MORTGAGE', 'OTHER', 'NONE'], dtype=object)"
      ]
     },
     "execution_count": 189,
     "metadata": {},
     "output_type": "execute_result"
    }
   ],
   "source": [
    "loan.home_ownership.unique()"
   ]
  },
  {
   "cell_type": "code",
   "execution_count": 190,
   "id": "fa8675e1",
   "metadata": {},
   "outputs": [
    {
     "data": {
      "text/plain": [
       "array(['Fully Paid', 'Charged Off'], dtype=object)"
      ]
     },
     "execution_count": 190,
     "metadata": {},
     "output_type": "execute_result"
    }
   ],
   "source": [
    "loan.loan_status.unique()"
   ]
  },
  {
   "cell_type": "markdown",
   "id": "b73c8606",
   "metadata": {},
   "source": [
    "#### Step 3.8 - Deriving `issue_month` and `issue_year` from `issue_d`"
   ]
  },
  {
   "cell_type": "code",
   "execution_count": 191,
   "id": "1c6b06c7",
   "metadata": {},
   "outputs": [],
   "source": [
    "from datetime import datetime\n",
    "loan[\"issued_month\"] = pd.DatetimeIndex(loan.issue_d.apply(lambda x : datetime.strptime(x, '%b-%y'))).month"
   ]
  },
  {
   "cell_type": "code",
   "execution_count": 192,
   "id": "f7248264",
   "metadata": {},
   "outputs": [
    {
     "data": {
      "text/plain": [
       "array([12, 11, 10,  9,  8,  7,  6,  5,  4,  3,  2,  1])"
      ]
     },
     "execution_count": 192,
     "metadata": {},
     "output_type": "execute_result"
    }
   ],
   "source": [
    "loan.issued_month.unique()"
   ]
  },
  {
   "cell_type": "code",
   "execution_count": 193,
   "id": "2350ffb2",
   "metadata": {},
   "outputs": [],
   "source": [
    "loan[\"issued_year\"] = pd.DatetimeIndex(loan.issue_d.apply(lambda x : datetime.strptime(x, '%b-%y'))).year"
   ]
  },
  {
   "cell_type": "code",
   "execution_count": 194,
   "id": "1595515d",
   "metadata": {},
   "outputs": [
    {
     "data": {
      "text/plain": [
       "array([2011, 2010, 2009, 2008, 2007])"
      ]
     },
     "execution_count": 194,
     "metadata": {},
     "output_type": "execute_result"
    }
   ],
   "source": [
    "loan.issued_year.unique()"
   ]
  },
  {
   "cell_type": "code",
   "execution_count": 195,
   "id": "dd8ca157",
   "metadata": {},
   "outputs": [],
   "source": [
    "loan.drop([\"issue_d\"] ,axis = 1, inplace=True)"
   ]
  },
  {
   "cell_type": "code",
   "execution_count": 196,
   "id": "d9f2760b",
   "metadata": {},
   "outputs": [
    {
     "data": {
      "text/plain": [
       "Index(['loan_amnt', 'term', 'int_rate', 'installment', 'grade', 'sub_grade',\n",
       "       'emp_length', 'home_ownership', 'annual_inc', 'verification_status',\n",
       "       'loan_status', 'addr_state', 'dti', 'issued_month', 'issued_year'],\n",
       "      dtype='object')"
      ]
     },
     "execution_count": 196,
     "metadata": {},
     "output_type": "execute_result"
    }
   ],
   "source": [
    "loan.columns"
   ]
  },
  {
   "cell_type": "code",
   "execution_count": 197,
   "id": "d542d5d1",
   "metadata": {},
   "outputs": [
    {
     "data": {
      "text/html": [
       "<div>\n",
       "<style scoped>\n",
       "    .dataframe tbody tr th:only-of-type {\n",
       "        vertical-align: middle;\n",
       "    }\n",
       "\n",
       "    .dataframe tbody tr th {\n",
       "        vertical-align: top;\n",
       "    }\n",
       "\n",
       "    .dataframe thead th {\n",
       "        text-align: right;\n",
       "    }\n",
       "</style>\n",
       "<table border=\"1\" class=\"dataframe\">\n",
       "  <thead>\n",
       "    <tr style=\"text-align: right;\">\n",
       "      <th></th>\n",
       "      <th>loan_amnt</th>\n",
       "      <th>term</th>\n",
       "      <th>int_rate</th>\n",
       "      <th>installment</th>\n",
       "      <th>grade</th>\n",
       "      <th>sub_grade</th>\n",
       "      <th>emp_length</th>\n",
       "      <th>home_ownership</th>\n",
       "      <th>annual_inc</th>\n",
       "      <th>verification_status</th>\n",
       "      <th>loan_status</th>\n",
       "      <th>addr_state</th>\n",
       "      <th>dti</th>\n",
       "      <th>issued_month</th>\n",
       "      <th>issued_year</th>\n",
       "    </tr>\n",
       "  </thead>\n",
       "  <tbody>\n",
       "    <tr>\n",
       "      <th>0</th>\n",
       "      <td>5000</td>\n",
       "      <td>36</td>\n",
       "      <td>10.65</td>\n",
       "      <td>162.87</td>\n",
       "      <td>B</td>\n",
       "      <td>B2</td>\n",
       "      <td>10</td>\n",
       "      <td>RENT</td>\n",
       "      <td>24000.0</td>\n",
       "      <td>Verified</td>\n",
       "      <td>Fully Paid</td>\n",
       "      <td>AZ</td>\n",
       "      <td>27.65</td>\n",
       "      <td>12</td>\n",
       "      <td>2011</td>\n",
       "    </tr>\n",
       "    <tr>\n",
       "      <th>1</th>\n",
       "      <td>2500</td>\n",
       "      <td>60</td>\n",
       "      <td>15.27</td>\n",
       "      <td>59.83</td>\n",
       "      <td>C</td>\n",
       "      <td>C4</td>\n",
       "      <td>1</td>\n",
       "      <td>RENT</td>\n",
       "      <td>30000.0</td>\n",
       "      <td>Source Verified</td>\n",
       "      <td>Charged Off</td>\n",
       "      <td>GA</td>\n",
       "      <td>1.00</td>\n",
       "      <td>12</td>\n",
       "      <td>2011</td>\n",
       "    </tr>\n",
       "    <tr>\n",
       "      <th>2</th>\n",
       "      <td>2400</td>\n",
       "      <td>36</td>\n",
       "      <td>15.96</td>\n",
       "      <td>84.33</td>\n",
       "      <td>C</td>\n",
       "      <td>C5</td>\n",
       "      <td>10</td>\n",
       "      <td>RENT</td>\n",
       "      <td>12252.0</td>\n",
       "      <td>Not Verified</td>\n",
       "      <td>Fully Paid</td>\n",
       "      <td>IL</td>\n",
       "      <td>8.72</td>\n",
       "      <td>12</td>\n",
       "      <td>2011</td>\n",
       "    </tr>\n",
       "    <tr>\n",
       "      <th>3</th>\n",
       "      <td>10000</td>\n",
       "      <td>36</td>\n",
       "      <td>13.49</td>\n",
       "      <td>339.31</td>\n",
       "      <td>C</td>\n",
       "      <td>C1</td>\n",
       "      <td>10</td>\n",
       "      <td>RENT</td>\n",
       "      <td>49200.0</td>\n",
       "      <td>Source Verified</td>\n",
       "      <td>Fully Paid</td>\n",
       "      <td>CA</td>\n",
       "      <td>20.00</td>\n",
       "      <td>12</td>\n",
       "      <td>2011</td>\n",
       "    </tr>\n",
       "    <tr>\n",
       "      <th>5</th>\n",
       "      <td>5000</td>\n",
       "      <td>36</td>\n",
       "      <td>7.90</td>\n",
       "      <td>156.46</td>\n",
       "      <td>A</td>\n",
       "      <td>A4</td>\n",
       "      <td>3</td>\n",
       "      <td>RENT</td>\n",
       "      <td>36000.0</td>\n",
       "      <td>Source Verified</td>\n",
       "      <td>Fully Paid</td>\n",
       "      <td>AZ</td>\n",
       "      <td>11.20</td>\n",
       "      <td>12</td>\n",
       "      <td>2011</td>\n",
       "    </tr>\n",
       "  </tbody>\n",
       "</table>\n",
       "</div>"
      ],
      "text/plain": [
       "   loan_amnt  term  int_rate  installment grade sub_grade  emp_length  \\\n",
       "0       5000    36     10.65       162.87     B        B2          10   \n",
       "1       2500    60     15.27        59.83     C        C4           1   \n",
       "2       2400    36     15.96        84.33     C        C5          10   \n",
       "3      10000    36     13.49       339.31     C        C1          10   \n",
       "5       5000    36      7.90       156.46     A        A4           3   \n",
       "\n",
       "  home_ownership  annual_inc verification_status  loan_status addr_state  \\\n",
       "0           RENT     24000.0            Verified   Fully Paid         AZ   \n",
       "1           RENT     30000.0     Source Verified  Charged Off         GA   \n",
       "2           RENT     12252.0        Not Verified   Fully Paid         IL   \n",
       "3           RENT     49200.0     Source Verified   Fully Paid         CA   \n",
       "5           RENT     36000.0     Source Verified   Fully Paid         AZ   \n",
       "\n",
       "     dti  issued_month  issued_year  \n",
       "0  27.65            12         2011  \n",
       "1   1.00            12         2011  \n",
       "2   8.72            12         2011  \n",
       "3  20.00            12         2011  \n",
       "5  11.20            12         2011  "
      ]
     },
     "execution_count": 197,
     "metadata": {},
     "output_type": "execute_result"
    }
   ],
   "source": [
    "loan.head()"
   ]
  },
  {
   "cell_type": "markdown",
   "id": "235867df",
   "metadata": {},
   "source": [
    "## 4. Outlier Treatment"
   ]
  },
  {
   "cell_type": "markdown",
   "id": "2078e110",
   "metadata": {},
   "source": [
    "#### Step 4.1 - Treating `annual_inc`"
   ]
  },
  {
   "cell_type": "code",
   "execution_count": 198,
   "id": "377d395a",
   "metadata": {},
   "outputs": [
    {
     "data": {
      "text/plain": [
       "<AxesSubplot:xlabel='annual_inc'>"
      ]
     },
     "execution_count": 198,
     "metadata": {},
     "output_type": "execute_result"
    },
    {
     "data": {
      "image/png": "[encoded data removed]",
      "text/plain": [
       "<Figure size 640x480 with 1 Axes>"
      ]
     },
     "metadata": {},
     "output_type": "display_data"
    }
   ],
   "source": [
    "sns.boxplot(loan['annual_inc'])"
   ]
  },
  {
   "cell_type": "code",
   "execution_count": 199,
   "id": "34b1b73e",
   "metadata": {},
   "outputs": [
    {
     "data": {
      "text/plain": [
       "0.50     58868.0\n",
       "0.75     82000.0\n",
       "0.90    115000.0\n",
       "0.95    140004.0\n",
       "0.97    165000.0\n",
       "0.98    187000.0\n",
       "0.99    234144.0\n",
       "Name: annual_inc, dtype: float64"
      ]
     },
     "execution_count": 199,
     "metadata": {},
     "output_type": "execute_result"
    }
   ],
   "source": [
    "quantile_info = loan.annual_inc.quantile([0.5, 0.75,0.90, 0.95, 0.97,0.98, 0.99])\n",
    "quantile_info"
   ]
  },
  {
   "cell_type": "code",
   "execution_count": 200,
   "id": "74f6ab24",
   "metadata": {},
   "outputs": [],
   "source": [
    "annual_inc_99_per = loan['annual_inc'].quantile(0.99)\n",
    "loan = loan[loan.annual_inc <= annual_inc_99_per]"
   ]
  },
  {
   "cell_type": "code",
   "execution_count": 201,
   "id": "7a2169a3",
   "metadata": {},
   "outputs": [
    {
     "data": {
      "text/plain": [
       "<AxesSubplot:xlabel='annual_inc'>"
      ]
     },
     "execution_count": 201,
     "metadata": {},
     "output_type": "execute_result"
    },
    {
     "data": {
      "image/png": "[encoded data removed]",
      "text/plain": [
       "<Figure size 640x480 with 1 Axes>"
      ]
     },
     "metadata": {},
     "output_type": "display_data"
    }
   ],
   "source": [
    "sns.boxplot(loan.annual_inc)"
   ]
  },
  {
   "cell_type": "markdown",
   "id": "7437ece2",
   "metadata": {},
   "source": [
    "## 5. Univariant Analysis"
   ]
  },
  {
   "cell_type": "markdown",
   "id": "fe3c4472",
   "metadata": {},
   "source": [
    "#### Step 5.1 -  `loan_status` "
   ]
  },
  {
   "cell_type": "code",
   "execution_count": 202,
   "id": "8cdfcd58",
   "metadata": {},
   "outputs": [
    {
     "data": {
      "text/plain": [
       "<AxesSubplot:xlabel='loan_status', ylabel='count'>"
      ]
     },
     "execution_count": 202,
     "metadata": {},
     "output_type": "execute_result"
    },
    {
     "data": {
      "image/png": "[encoded data removed]",
      "text/plain": [
       "<Figure size 640x480 with 1 Axes>"
      ]
     },
     "metadata": {},
     "output_type": "display_data"
    }
   ],
   "source": [
    "sns.countplot(x = 'loan_status', data = loan)"
   ]
  },
  {
   "cell_type": "markdown",
   "id": "906ee15e",
   "metadata": {},
   "source": [
    "#### Step 5.2 - `term` "
   ]
  },
  {
   "cell_type": "code",
   "execution_count": 203,
   "id": "99de8cc0",
   "metadata": {},
   "outputs": [
    {
     "data": {
      "text/plain": [
       "<AxesSubplot:xlabel='term', ylabel='count'>"
      ]
     },
     "execution_count": 203,
     "metadata": {},
     "output_type": "execute_result"
    },
    {
     "data": {
      "image/png": "[encoded data removed]",
      "text/plain": [
       "<Figure size 640x480 with 1 Axes>"
      ]
     },
     "metadata": {},
     "output_type": "display_data"
    }
   ],
   "source": [
    "sns.countplot(x = 'term', data = loan)"
   ]
  },
  {
   "cell_type": "markdown",
   "id": "4575d8c6",
   "metadata": {},
   "source": [
    "#### Step 5.3 - `home_ownership` "
   ]
  },
  {
   "cell_type": "code",
   "execution_count": 204,
   "id": "b2e724cb",
   "metadata": {},
   "outputs": [
    {
     "data": {
      "text/plain": [
       "array(['RENT', 'OWN', 'MORTGAGE', 'OTHER', 'NONE'], dtype=object)"
      ]
     },
     "execution_count": 204,
     "metadata": {},
     "output_type": "execute_result"
    }
   ],
   "source": [
    "loan['home_ownership'].unique()"
   ]
  },
  {
   "cell_type": "code",
   "execution_count": 205,
   "id": "602499c6",
   "metadata": {},
   "outputs": [],
   "source": [
    "#replacing 'NONE' with 'OTHERS'\n",
    "loan['home_ownership'].replace(to_replace = ['NONE'],value='OTHER',inplace = True)"
   ]
  },
  {
   "cell_type": "code",
   "execution_count": 206,
   "id": "f361c0d8",
   "metadata": {},
   "outputs": [
    {
     "data": {
      "text/plain": [
       "array(['RENT', 'OWN', 'MORTGAGE', 'OTHER'], dtype=object)"
      ]
     },
     "execution_count": 206,
     "metadata": {},
     "output_type": "execute_result"
    }
   ],
   "source": [
    "loan['home_ownership'].unique()"
   ]
  },
  {
   "cell_type": "code",
   "execution_count": 207,
   "id": "5ef05264",
   "metadata": {},
   "outputs": [
    {
     "data": {
      "text/plain": [
       "<AxesSubplot:xlabel='home_ownership', ylabel='count'>"
      ]
     },
     "execution_count": 207,
     "metadata": {},
     "output_type": "execute_result"
    },
    {
     "data": {
      "image/png": "[encoded data removed]",
      "text/plain": [
       "<Figure size 640x480 with 1 Axes>"
      ]
     },
     "metadata": {},
     "output_type": "display_data"
    }
   ],
   "source": [
    "sns.countplot(x = 'home_ownership', data = loan)"
   ]
  },
  {
   "cell_type": "markdown",
   "id": "30cc36a6",
   "metadata": {},
   "source": [
    "#### Step 5.4 - `addr_state` "
   ]
  },
  {
   "cell_type": "code",
   "execution_count": 208,
   "id": "7134746f",
   "metadata": {},
   "outputs": [
    {
     "data": {
      "text/plain": [
       "[Text(0, 0, 'AZ'),\n",
       " Text(1, 0, 'GA'),\n",
       " Text(2, 0, 'IL'),\n",
       " Text(3, 0, 'CA'),\n",
       " Text(4, 0, 'NC'),\n",
       " Text(5, 0, 'TX'),\n",
       " Text(6, 0, 'VA'),\n",
       " Text(7, 0, 'MO'),\n",
       " Text(8, 0, 'CT'),\n",
       " Text(9, 0, 'UT'),\n",
       " Text(10, 0, 'FL'),\n",
       " Text(11, 0, 'NY'),\n",
       " Text(12, 0, 'PA'),\n",
       " Text(13, 0, 'MN'),\n",
       " Text(14, 0, 'NJ'),\n",
       " Text(15, 0, 'OR'),\n",
       " Text(16, 0, 'KY'),\n",
       " Text(17, 0, 'OH'),\n",
       " Text(18, 0, 'SC'),\n",
       " Text(19, 0, 'RI'),\n",
       " Text(20, 0, 'LA'),\n",
       " Text(21, 0, 'MA'),\n",
       " Text(22, 0, 'WA'),\n",
       " Text(23, 0, 'WI'),\n",
       " Text(24, 0, 'AL'),\n",
       " Text(25, 0, 'NV'),\n",
       " Text(26, 0, 'AK'),\n",
       " Text(27, 0, 'CO'),\n",
       " Text(28, 0, 'MD'),\n",
       " Text(29, 0, 'WV'),\n",
       " Text(30, 0, 'VT'),\n",
       " Text(31, 0, 'MI'),\n",
       " Text(32, 0, 'DC'),\n",
       " Text(33, 0, 'SD'),\n",
       " Text(34, 0, 'NH'),\n",
       " Text(35, 0, 'AR'),\n",
       " Text(36, 0, 'NM'),\n",
       " Text(37, 0, 'KS'),\n",
       " Text(38, 0, 'HI'),\n",
       " Text(39, 0, 'OK'),\n",
       " Text(40, 0, 'MT'),\n",
       " Text(41, 0, 'WY'),\n",
       " Text(42, 0, 'DE'),\n",
       " Text(43, 0, 'MS'),\n",
       " Text(44, 0, 'TN'),\n",
       " Text(45, 0, 'IA'),\n",
       " Text(46, 0, 'NE'),\n",
       " Text(47, 0, 'ID'),\n",
       " Text(48, 0, 'IN'),\n",
       " Text(49, 0, 'ME')]"
      ]
     },
     "execution_count": 208,
     "metadata": {},
     "output_type": "execute_result"
    },
    {
     "data": {
      "image/png": "[encoded data removed]",
      "text/plain": [
       "<Figure size 640x480 with 1 Axes>"
      ]
     },
     "metadata": {},
     "output_type": "display_data"
    }
   ],
   "source": [
    "g = sns.countplot(x = 'addr_state', data = loan)\n",
    "g.set_xticklabels(g.get_xticklabels(), rotation=90)"
   ]
  },
  {
   "cell_type": "markdown",
   "id": "3c39c6ee",
   "metadata": {},
   "source": [
    "#### Step 5.5 -  `int_rate` "
   ]
  },
  {
   "cell_type": "code",
   "execution_count": 209,
   "id": "f869cabc",
   "metadata": {},
   "outputs": [
    {
     "data": {
      "image/png": "[encoded data removed]",
      "text/plain": [
       "<Figure size 640x480 with 1 Axes>"
      ]
     },
     "metadata": {},
     "output_type": "display_data"
    }
   ],
   "source": [
    "x = [7.5, 12.5, 17.5, 22.5]\n",
    "labels = ['5 - 10', '11 - 15','16 - 20','21 - 25']\n",
    "plt.hist(loan['int_rate'], bins = [5,10,15,20,25],rwidth = 0.7, color = \"orange\", edgecolor = 'k')\n",
    "plt.xticks(x, labels, rotation ='vertical')\n",
    "plt.show()"
   ]
  },
  {
   "cell_type": "code",
   "execution_count": null,
   "id": "fb9616dd",
   "metadata": {},
   "outputs": [],
   "source": []
  },
  {
   "cell_type": "code",
   "execution_count": 210,
   "id": "b235f38e",
   "metadata": {},
   "outputs": [
    {
     "data": {
      "image/png": "[encoded data removed]",
      "text/plain": [
       "<Figure size 1200x600 with 1 Axes>"
      ]
     },
     "metadata": {},
     "output_type": "display_data"
    }
   ],
   "source": [
    "plt.figure(figsize=(12,6), facecolor='Cyan')\n",
    "plt.title('Univariate Analysis: Loan amount', fontdict={'fontsize': 15, 'fontweight' : 5, 'color' : 'black'})\n",
    "sns.histplot(x = loan.loan_amnt)\n",
    "xy_fontdict = {'fontsize':15, 'fontweight':5, 'color':'black'}\n",
    "plt.xlabel('Loan Amount', fontdict=xy_fontdict)\n",
    "plt.ylabel('Loam Amount Frequency', fontdict=xy_fontdict)\n",
    "plt.show()"
   ]
  },
  {
   "cell_type": "code",
   "execution_count": null,
   "id": "6c1be947",
   "metadata": {},
   "outputs": [],
   "source": []
  },
  {
   "cell_type": "code",
   "execution_count": 211,
   "id": "f4525671",
   "metadata": {},
   "outputs": [
    {
     "data": {
      "text/plain": [
       "<AxesSubplot:ylabel='Density'>"
      ]
     },
     "execution_count": 211,
     "metadata": {},
     "output_type": "execute_result"
    },
    {
     "data": {
      "image/png": "[encoded data removed]",
      "text/plain": [
       "<Figure size 640x480 with 1 Axes>"
      ]
     },
     "metadata": {},
     "output_type": "display_data"
    }
   ],
   "source": [
    "loan['dti'].plot(kind='kde')\n",
    "#Most loans are lent to borrowers with DTI ratio in between 10 and 20."
   ]
  },
  {
   "cell_type": "code",
   "execution_count": 212,
   "id": "0e20fd88",
   "metadata": {},
   "outputs": [
    {
     "data": {
      "text/plain": [
       "Text(0.5, 9.444444444444438, 'Employment length (in years)')"
      ]
     },
     "execution_count": 212,
     "metadata": {},
     "output_type": "execute_result"
    },
    {
     "data": {
      "image/png": "[encoded data removed]",
      "text/plain": [
       "<Figure size 500x500 with 1 Axes>"
      ]
     },
     "metadata": {},
     "output_type": "display_data"
    }
   ],
   "source": [
    "sns.displot(loan.emp_length)\n",
    "plt.xlabel('Employment length (in years)')"
   ]
  },
  {
   "cell_type": "markdown",
   "id": "f9a49b50",
   "metadata": {},
   "source": [
    "#### Step 5.6 Observation from Univariant Analysis\n",
    "- Majority of the loans are fully paid, only about ~5500(15%) loans are charged-off\n",
    "- Majority of the loan applications opts for 36 months loan term. About ~30,000 (75%)\n",
    "- Minority of the folks who has loan are actually home owners (about ~2500 home owners only)\n",
    "- Majority of the loan applications are from California State\n",
    "- Majority of the loan amount are from ~5K to ~15K\n",
    "- Most loans are lent to borrowers with DTI ratio in between 10 and 20.\n",
    "- Majority of the home owners have either high work experience of 10 + years or 1 year. "
   ]
  },
  {
   "cell_type": "markdown",
   "id": "057c217d",
   "metadata": {},
   "source": [
    "## 6. Segmented Univariate Analysis"
   ]
  },
  {
   "cell_type": "code",
   "execution_count": 213,
   "id": "837a1357",
   "metadata": {},
   "outputs": [
    {
     "data": {
      "text/plain": [
       "loan_status\n",
       "Charged Off    12042.814291\n",
       "Fully Paid     10777.220382\n",
       "Name: loan_amnt, dtype: float64"
      ]
     },
     "execution_count": 213,
     "metadata": {},
     "output_type": "execute_result"
    }
   ],
   "source": [
    "loan.groupby([\"loan_status\"])[\"loan_amnt\"].agg(np.mean)"
   ]
  },
  {
   "cell_type": "code",
   "execution_count": 214,
   "id": "642a175d",
   "metadata": {},
   "outputs": [
    {
     "data": {
      "text/plain": [
       "loan_status\n",
       "Charged Off    13.808626\n",
       "Fully Paid     11.594082\n",
       "Name: int_rate, dtype: float64"
      ]
     },
     "execution_count": 214,
     "metadata": {},
     "output_type": "execute_result"
    }
   ],
   "source": [
    "loan.groupby([\"loan_status\"])[\"int_rate\"].agg(np.mean)"
   ]
  },
  {
   "cell_type": "code",
   "execution_count": 215,
   "id": "d05823c3",
   "metadata": {},
   "outputs": [
    {
     "data": {
      "text/plain": [
       "loan_status\n",
       "Charged Off    14.044989\n",
       "Fully Paid     13.211646\n",
       "Name: dti, dtype: float64"
      ]
     },
     "execution_count": 215,
     "metadata": {},
     "output_type": "execute_result"
    }
   ],
   "source": [
    "loan.groupby([\"loan_status\"])[\"dti\"].agg(np.mean)"
   ]
  },
  {
   "cell_type": "code",
   "execution_count": 216,
   "id": "85c2157a",
   "metadata": {},
   "outputs": [
    {
     "data": {
      "text/plain": [
       "loan_status\n",
       "Charged Off    59840.876109\n",
       "Fully Paid     66250.824386\n",
       "Name: annual_inc, dtype: float64"
      ]
     },
     "execution_count": 216,
     "metadata": {},
     "output_type": "execute_result"
    }
   ],
   "source": [
    "loan.groupby([\"loan_status\"])[\"annual_inc\"].agg(np.mean)"
   ]
  },
  {
   "cell_type": "code",
   "execution_count": 217,
   "id": "f905b1f0",
   "metadata": {},
   "outputs": [
    {
     "data": {
      "text/plain": [
       "loan_status\n",
       "Charged Off    334.277242\n",
       "Fully Paid     317.483484\n",
       "Name: installment, dtype: float64"
      ]
     },
     "execution_count": 217,
     "metadata": {},
     "output_type": "execute_result"
    }
   ],
   "source": [
    "loan.groupby([\"loan_status\"])[\"installment\"].agg(np.mean)"
   ]
  },
  {
   "cell_type": "code",
   "execution_count": 218,
   "id": "2f404a47",
   "metadata": {},
   "outputs": [
    {
     "data": {
      "text/plain": [
       "loan_status  grade\n",
       "Charged Off  A         7801.247920\n",
       "             B        10852.422207\n",
       "             C        11006.054396\n",
       "             D        12184.172662\n",
       "             E        15782.137784\n",
       "             F        19059.134615\n",
       "             G        18557.575758\n",
       "Fully Paid   A         8625.871907\n",
       "             B        10870.165732\n",
       "             C        10691.705662\n",
       "             D        12006.730524\n",
       "             E        15446.432319\n",
       "             F        17244.158879\n",
       "             G        20827.105263\n",
       "Name: loan_amnt, dtype: float64"
      ]
     },
     "execution_count": 218,
     "metadata": {},
     "output_type": "execute_result"
    }
   ],
   "source": [
    "loan.groupby([\"loan_status\", \"grade\"])[\"loan_amnt\"].agg(np.mean)"
   ]
  },
  {
   "cell_type": "code",
   "execution_count": 219,
   "id": "ff876ccb",
   "metadata": {},
   "outputs": [
    {
     "data": {
      "text/plain": [
       "loan_status  home_ownership\n",
       "Charged Off  MORTGAGE          14010.469157\n",
       "             OTHER             13747.222222\n",
       "             OWN               10996.306818\n",
       "             RENT              10591.058782\n",
       "Fully Paid   MORTGAGE          12081.579676\n",
       "             OTHER              9559.567901\n",
       "             OWN                9868.617870\n",
       "             RENT               9719.859693\n",
       "Name: loan_amnt, dtype: float64"
      ]
     },
     "execution_count": 219,
     "metadata": {},
     "output_type": "execute_result"
    }
   ],
   "source": [
    "loan.groupby([\"loan_status\", \"home_ownership\"])[\"loan_amnt\"].agg(np.mean)"
   ]
  },
  {
   "cell_type": "code",
   "execution_count": 220,
   "id": "728c8cbb",
   "metadata": {},
   "outputs": [
    {
     "data": {
      "text/plain": [
       "loan_status  verification_status\n",
       "Charged Off  Not Verified            8630.622066\n",
       "             Source Verified        10625.562588\n",
       "             Verified               16611.368110\n",
       "Fully Paid   Not Verified            8314.532956\n",
       "             Source Verified         9708.796410\n",
       "             Verified               15211.213621\n",
       "Name: loan_amnt, dtype: float64"
      ]
     },
     "execution_count": 220,
     "metadata": {},
     "output_type": "execute_result"
    }
   ],
   "source": [
    "loan.groupby([\"loan_status\", \"verification_status\"])[\"loan_amnt\"].agg(np.mean)"
   ]
  },
  {
   "cell_type": "markdown",
   "id": "f274dafa",
   "metadata": {},
   "source": [
    "#### Step 6.1 Observation from Segmented Univariate Analysis\n",
    "- Loan amount for charged-off loans are higher than fully paid loans\n",
    "- Interests rate are higher for charged off loans.\n",
    "- DTI ration for charged-off loans are higher.\n",
    "- Annual income for fully paid loan are higher.\n",
    "- Interestingly, loan amount goes up with pooper grade.\n",
    "- The loan amounts are higher for people with Mortage then people with own houses.\n",
    "- The loan amounts are higer for verified individuals"
   ]
  },
  {
   "cell_type": "code",
   "execution_count": null,
   "id": "41d88df8",
   "metadata": {},
   "outputs": [],
   "source": []
  }
 ],
 "metadata": {
  "kernelspec": {
   "display_name": "Python 3 (ipykernel)",
   "language": "python",
   "name": "python3"
  },
  "language_info": {
   "codemirror_mode": {
    "name": "ipython",
    "version": 3
   },
   "file_extension": ".py",
   "mimetype": "text/x-python",
   "name": "python",
   "nbconvert_exporter": "python",
   "pygments_lexer": "ipython3",
   "version": "3.9.13"
  }
 },
 "nbformat": 4,
 "nbformat_minor": 5
}
