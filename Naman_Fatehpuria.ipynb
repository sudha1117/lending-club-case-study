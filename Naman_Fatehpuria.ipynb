{
 "cells": [
  {
   "cell_type": "markdown",
   "id": "a9acb6d4",
   "metadata": {},
   "source": [
    "# LENDING CLUB CASE STUDY"
   ]
  },
  {
   "cell_type": "code",
   "execution_count": 475,
   "id": "af04cce3",
   "metadata": {},
   "outputs": [],
   "source": [
    "import pandas as pd\n",
    "import numpy as np\n",
    "import matplotlib.pyplot as plt\n",
    "import seaborn as sns\n",
    "import warnings\n",
    "warnings.filterwarnings('ignore')"
   ]
  },
  {
   "cell_type": "markdown",
   "id": "e4eb6f3c",
   "metadata": {},
   "source": [
    "## 1. Data Sourcing"
   ]
  },
  {
   "cell_type": "markdown",
   "id": "669e2cdd",
   "metadata": {},
   "source": [
    "#### Load `Data_Dictionary.xlsx`"
   ]
  },
  {
   "cell_type": "code",
   "execution_count": 476,
   "id": "1f4191c0",
   "metadata": {},
   "outputs": [
    {
     "data": {
      "text/html": [
       "<div>\n",
       "<style scoped>\n",
       "    .dataframe tbody tr th:only-of-type {\n",
       "        vertical-align: middle;\n",
       "    }\n",
       "\n",
       "    .dataframe tbody tr th {\n",
       "        vertical-align: top;\n",
       "    }\n",
       "\n",
       "    .dataframe thead th {\n",
       "        text-align: right;\n",
       "    }\n",
       "</style>\n",
       "<table border=\"1\" class=\"dataframe\">\n",
       "  <thead>\n",
       "    <tr style=\"text-align: right;\">\n",
       "      <th></th>\n",
       "      <th>LoanStatNew</th>\n",
       "      <th>Description</th>\n",
       "    </tr>\n",
       "  </thead>\n",
       "  <tbody>\n",
       "    <tr>\n",
       "      <th>0</th>\n",
       "      <td>acc_now_delinq</td>\n",
       "      <td>The number of accounts on which the borrower is now delinquent.</td>\n",
       "    </tr>\n",
       "    <tr>\n",
       "      <th>1</th>\n",
       "      <td>acc_open_past_24mths</td>\n",
       "      <td>Number of trades opened in past 24 months.</td>\n",
       "    </tr>\n",
       "    <tr>\n",
       "      <th>2</th>\n",
       "      <td>addr_state</td>\n",
       "      <td>The state provided by the borrower in the loan application</td>\n",
       "    </tr>\n",
       "    <tr>\n",
       "      <th>3</th>\n",
       "      <td>all_util</td>\n",
       "      <td>Balance to credit limit on all trades</td>\n",
       "    </tr>\n",
       "    <tr>\n",
       "      <th>4</th>\n",
       "      <td>annual_inc</td>\n",
       "      <td>The self-reported annual income provided by the borrower during registration.</td>\n",
       "    </tr>\n",
       "    <tr>\n",
       "      <th>...</th>\n",
       "      <td>...</td>\n",
       "      <td>...</td>\n",
       "    </tr>\n",
       "    <tr>\n",
       "      <th>112</th>\n",
       "      <td>verification_status</td>\n",
       "      <td>Indicates if income was verified by LC, not verified, or if the income source was verified</td>\n",
       "    </tr>\n",
       "    <tr>\n",
       "      <th>113</th>\n",
       "      <td>verified_status_joint</td>\n",
       "      <td>Indicates if the co-borrowers' joint income was verified by LC, not verified, or if the income source was verified</td>\n",
       "    </tr>\n",
       "    <tr>\n",
       "      <th>114</th>\n",
       "      <td>zip_code</td>\n",
       "      <td>The first 3 numbers of the zip code provided by the borrower in the loan application.</td>\n",
       "    </tr>\n",
       "    <tr>\n",
       "      <th>115</th>\n",
       "      <td>NaN</td>\n",
       "      <td>NaN</td>\n",
       "    </tr>\n",
       "    <tr>\n",
       "      <th>116</th>\n",
       "      <td>NaN</td>\n",
       "      <td>* Employer Title replaces Employer Name for all loans listed after 9/23/2013</td>\n",
       "    </tr>\n",
       "  </tbody>\n",
       "</table>\n",
       "<p>117 rows × 2 columns</p>\n",
       "</div>"
      ],
      "text/plain": [
       "               LoanStatNew  \\\n",
       "0           acc_now_delinq   \n",
       "1     acc_open_past_24mths   \n",
       "2               addr_state   \n",
       "3                 all_util   \n",
       "4               annual_inc   \n",
       "..                     ...   \n",
       "112    verification_status   \n",
       "113  verified_status_joint   \n",
       "114               zip_code   \n",
       "115                    NaN   \n",
       "116                    NaN   \n",
       "\n",
       "                                                                                                            Description  \n",
       "0                                                       The number of accounts on which the borrower is now delinquent.  \n",
       "1                                                                            Number of trades opened in past 24 months.  \n",
       "2                                                            The state provided by the borrower in the loan application  \n",
       "3                                                                                 Balance to credit limit on all trades  \n",
       "4                                         The self-reported annual income provided by the borrower during registration.  \n",
       "..                                                                                                                  ...  \n",
       "112                          Indicates if income was verified by LC, not verified, or if the income source was verified  \n",
       "113  Indicates if the co-borrowers' joint income was verified by LC, not verified, or if the income source was verified  \n",
       "114                               The first 3 numbers of the zip code provided by the borrower in the loan application.  \n",
       "115                                                                                                                 NaN  \n",
       "116                                        * Employer Title replaces Employer Name for all loans listed after 9/23/2013  \n",
       "\n",
       "[117 rows x 2 columns]"
      ]
     },
     "execution_count": 476,
     "metadata": {},
     "output_type": "execute_result"
    }
   ],
   "source": [
    "#pd.set_option('display.max_rows', None)\n",
    "pd.set_option('display.max_colwidth', None)\n",
    "pd.set_option('display.max_columns', None)\n",
    "\n",
    "pd.read_excel(\"Data_Dictionary.xlsx\", header=0)"
   ]
  },
  {
   "cell_type": "markdown",
   "id": "d91de622",
   "metadata": {},
   "source": [
    "#### Load -  `loan.csv`"
   ]
  },
  {
   "cell_type": "code",
   "execution_count": 477,
   "id": "5bf0c92e",
   "metadata": {},
   "outputs": [],
   "source": [
    "loan = pd.read_csv('loan.csv', dtype={'next_pymnt_d': object})"
   ]
  },
  {
   "cell_type": "markdown",
   "id": "93604f32",
   "metadata": {},
   "source": [
    "## 2. Data Understanding"
   ]
  },
  {
   "cell_type": "code",
   "execution_count": 478,
   "id": "0002330a",
   "metadata": {},
   "outputs": [
    {
     "name": "stdout",
     "output_type": "stream",
     "text": [
      "<class 'pandas.core.frame.DataFrame'>\n",
      "RangeIndex: 39717 entries, 0 to 39716\n",
      "Columns: 111 entries, id to total_il_high_credit_limit\n",
      "dtypes: float64(74), int64(13), object(24)\n",
      "memory usage: 33.6+ MB\n",
      "None\n"
     ]
    }
   ],
   "source": [
    "print(loan.info())"
   ]
  },
  {
   "cell_type": "code",
   "execution_count": 479,
   "id": "11cd7e85",
   "metadata": {},
   "outputs": [
    {
     "name": "stdout",
     "output_type": "stream",
     "text": [
      "(39717, 111)\n"
     ]
    }
   ],
   "source": [
    "print(loan.shape)"
   ]
  },
  {
   "cell_type": "code",
   "execution_count": 480,
   "id": "c12a1dca",
   "metadata": {},
   "outputs": [
    {
     "name": "stdout",
     "output_type": "stream",
     "text": [
      "Index(['id', 'member_id', 'loan_amnt', 'funded_amnt', 'funded_amnt_inv',\n",
      "       'term', 'int_rate', 'installment', 'grade', 'sub_grade',\n",
      "       ...\n",
      "       'num_tl_90g_dpd_24m', 'num_tl_op_past_12m', 'pct_tl_nvr_dlq',\n",
      "       'percent_bc_gt_75', 'pub_rec_bankruptcies', 'tax_liens',\n",
      "       'tot_hi_cred_lim', 'total_bal_ex_mort', 'total_bc_limit',\n",
      "       'total_il_high_credit_limit'],\n",
      "      dtype='object', length=111)\n"
     ]
    }
   ],
   "source": [
    "print(loan.columns)"
   ]
  },
  {
   "cell_type": "markdown",
   "id": "a453f00c",
   "metadata": {},
   "source": [
    "## 3. Data Cleaning"
   ]
  },
  {
   "cell_type": "markdown",
   "id": "f5a33a02",
   "metadata": {},
   "source": [
    "#### Step 3.1 - Remove Nulls columns over 90%"
   ]
  },
  {
   "cell_type": "code",
   "execution_count": 481,
   "id": "63a68add",
   "metadata": {},
   "outputs": [
    {
     "data": {
      "text/plain": [
       "id                              0.000000\n",
       "member_id                       0.000000\n",
       "loan_amnt                       0.000000\n",
       "funded_amnt                     0.000000\n",
       "funded_amnt_inv                 0.000000\n",
       "                                 ...    \n",
       "tax_liens                       0.098195\n",
       "tot_hi_cred_lim               100.000000\n",
       "total_bal_ex_mort             100.000000\n",
       "total_bc_limit                100.000000\n",
       "total_il_high_credit_limit    100.000000\n",
       "Length: 111, dtype: float64"
      ]
     },
     "execution_count": 481,
     "metadata": {},
     "output_type": "execute_result"
    }
   ],
   "source": [
    "#Checking Null Values in percentage across the columns\n",
    "loan.isna().sum()*100/len(loan)"
   ]
  },
  {
   "cell_type": "code",
   "execution_count": 482,
   "id": "5a23a5bf",
   "metadata": {},
   "outputs": [],
   "source": [
    "loan = loan.loc[:, loan.isna().sum() < len(loan)*.9]"
   ]
  },
  {
   "cell_type": "code",
   "execution_count": 483,
   "id": "d75ae071",
   "metadata": {},
   "outputs": [
    {
     "data": {
      "text/plain": [
       "(39717, 55)"
      ]
     },
     "execution_count": 483,
     "metadata": {},
     "output_type": "execute_result"
    }
   ],
   "source": [
    "loan.shape"
   ]
  },
  {
   "cell_type": "code",
   "execution_count": 484,
   "id": "b74e582f",
   "metadata": {},
   "outputs": [
    {
     "data": {
      "text/plain": [
       "Index(['id', 'member_id', 'loan_amnt', 'funded_amnt', 'funded_amnt_inv',\n",
       "       'term', 'int_rate', 'installment', 'grade', 'sub_grade', 'emp_title',\n",
       "       'emp_length', 'home_ownership', 'annual_inc', 'verification_status',\n",
       "       'issue_d', 'loan_status', 'pymnt_plan', 'url', 'desc', 'purpose',\n",
       "       'title', 'zip_code', 'addr_state', 'dti', 'delinq_2yrs',\n",
       "       'earliest_cr_line', 'inq_last_6mths', 'mths_since_last_delinq',\n",
       "       'open_acc', 'pub_rec', 'revol_bal', 'revol_util', 'total_acc',\n",
       "       'initial_list_status', 'out_prncp', 'out_prncp_inv', 'total_pymnt',\n",
       "       'total_pymnt_inv', 'total_rec_prncp', 'total_rec_int',\n",
       "       'total_rec_late_fee', 'recoveries', 'collection_recovery_fee',\n",
       "       'last_pymnt_d', 'last_pymnt_amnt', 'last_credit_pull_d',\n",
       "       'collections_12_mths_ex_med', 'policy_code', 'application_type',\n",
       "       'acc_now_delinq', 'chargeoff_within_12_mths', 'delinq_amnt',\n",
       "       'pub_rec_bankruptcies', 'tax_liens'],\n",
       "      dtype='object')"
      ]
     },
     "execution_count": 484,
     "metadata": {},
     "output_type": "execute_result"
    }
   ],
   "source": [
    "loan.columns"
   ]
  },
  {
   "cell_type": "markdown",
   "id": "e172f732",
   "metadata": {},
   "source": [
    "#### Step 3.2: Remove duplicates based on ID column"
   ]
  },
  {
   "cell_type": "code",
   "execution_count": 485,
   "id": "7d029bdb",
   "metadata": {},
   "outputs": [
    {
     "data": {
      "text/plain": [
       "False"
      ]
     },
     "execution_count": 485,
     "metadata": {},
     "output_type": "execute_result"
    }
   ],
   "source": [
    "loan['id'].duplicated().any() # No Duplicates"
   ]
  },
  {
   "cell_type": "markdown",
   "id": "46bcb842",
   "metadata": {},
   "source": [
    "#### Step 3.3 Removing Columns"
   ]
  },
  {
   "cell_type": "code",
   "execution_count": 486,
   "id": "0d420642",
   "metadata": {},
   "outputs": [],
   "source": [
    "#Customer Behaviour Variables\n",
    "loan.drop([\"delinq_2yrs\",\n",
    "           \"earliest_cr_line\",\n",
    "           \"inq_last_6mths\",\n",
    "           \"open_acc\",\n",
    "           \"pub_rec\",\n",
    "           \"revol_bal\",\n",
    "           \"revol_util\",\n",
    "           \"total_acc\",\n",
    "           \"out_prncp\",\n",
    "           \"out_prncp_inv\",\n",
    "           \"total_pymnt\",\n",
    "           \"total_pymnt_inv\",\n",
    "           \"total_rec_prncp\",\n",
    "           \"total_rec_int\",\n",
    "           \"total_rec_late_fee\", \n",
    "           \"recoveries\",\n",
    "           \"collection_recovery_fee\",\n",
    "           \"last_pymnt_d\",\n",
    "           \"last_pymnt_amnt\",\n",
    "           \"last_credit_pull_d\",\n",
    "           \"application_type\"\n",
    "           ],axis = 1, inplace=True)"
   ]
  },
  {
   "cell_type": "code",
   "execution_count": 487,
   "id": "6d8261ff",
   "metadata": {},
   "outputs": [
    {
     "data": {
      "text/plain": [
       "(39717, 34)"
      ]
     },
     "execution_count": 487,
     "metadata": {},
     "output_type": "execute_result"
    }
   ],
   "source": [
    "loan.shape"
   ]
  },
  {
   "cell_type": "code",
   "execution_count": 488,
   "id": "5447fc54",
   "metadata": {},
   "outputs": [
    {
     "data": {
      "text/plain": [
       "Index(['id', 'member_id', 'loan_amnt', 'funded_amnt', 'funded_amnt_inv',\n",
       "       'term', 'int_rate', 'installment', 'grade', 'sub_grade', 'emp_title',\n",
       "       'emp_length', 'home_ownership', 'annual_inc', 'verification_status',\n",
       "       'issue_d', 'loan_status', 'pymnt_plan', 'url', 'desc', 'purpose',\n",
       "       'title', 'zip_code', 'addr_state', 'dti', 'mths_since_last_delinq',\n",
       "       'initial_list_status', 'collections_12_mths_ex_med', 'policy_code',\n",
       "       'acc_now_delinq', 'chargeoff_within_12_mths', 'delinq_amnt',\n",
       "       'pub_rec_bankruptcies', 'tax_liens'],\n",
       "      dtype='object')"
      ]
     },
     "execution_count": 488,
     "metadata": {},
     "output_type": "execute_result"
    }
   ],
   "source": [
    "loan.columns"
   ]
  },
  {
   "cell_type": "code",
   "execution_count": 489,
   "id": "3452487f",
   "metadata": {},
   "outputs": [],
   "source": [
    "# Removing Columns - Single Value in each column\n",
    "loan.drop([\"pymnt_plan\",\n",
    "           'collections_12_mths_ex_med',\n",
    "           'policy_code',\n",
    "           'acc_now_delinq',\n",
    "           'chargeoff_within_12_mths',\n",
    "           'delinq_amnt',\n",
    "           'pub_rec_bankruptcies',\n",
    "           'tax_liens'\n",
    "          ],axis = 1, inplace=True)"
   ]
  },
  {
   "cell_type": "code",
   "execution_count": 490,
   "id": "4397c9a7",
   "metadata": {},
   "outputs": [],
   "source": [
    "# Removing Columns - Columns assinged when loan is approved\n",
    "loan.drop(['id',\n",
    "           'member_id',\n",
    "           \"emp_title\",\n",
    "           \"url\",\n",
    "           'desc',\n",
    "           'purpose',\n",
    "           'title',\n",
    "           \"zip_code\", # Incomplete zip code\n",
    "           \"mths_since_last_delinq\",\n",
    "           \"initial_list_status\"\n",
    "          ],axis = 1, inplace=True)"
   ]
  },
  {
   "cell_type": "code",
   "execution_count": 491,
   "id": "e6b8bd62",
   "metadata": {},
   "outputs": [],
   "source": [
    "# Removing Columns - Similar Columns\n",
    "loan.drop([\"funded_amnt\", \n",
    "           \"funded_amnt_inv\"] ,axis = 1, inplace=True)"
   ]
  },
  {
   "cell_type": "code",
   "execution_count": 492,
   "id": "b615e870",
   "metadata": {},
   "outputs": [
    {
     "data": {
      "text/plain": [
       "(39717, 14)"
      ]
     },
     "execution_count": 492,
     "metadata": {},
     "output_type": "execute_result"
    }
   ],
   "source": [
    "loan.shape"
   ]
  },
  {
   "cell_type": "code",
   "execution_count": 493,
   "id": "1d697750",
   "metadata": {},
   "outputs": [
    {
     "data": {
      "text/plain": [
       "Index(['loan_amnt', 'term', 'int_rate', 'installment', 'grade', 'sub_grade',\n",
       "       'emp_length', 'home_ownership', 'annual_inc', 'verification_status',\n",
       "       'issue_d', 'loan_status', 'addr_state', 'dti'],\n",
       "      dtype='object')"
      ]
     },
     "execution_count": 493,
     "metadata": {},
     "output_type": "execute_result"
    }
   ],
   "source": [
    "# Final List of columns to work on.\n",
    "loan.columns"
   ]
  },
  {
   "cell_type": "markdown",
   "id": "b0b4ca4e",
   "metadata": {},
   "source": [
    "#### Step 3.4 - Removing rows `loan_status` == `Current`"
   ]
  },
  {
   "cell_type": "code",
   "execution_count": 494,
   "id": "a2aee2b4",
   "metadata": {},
   "outputs": [
    {
     "name": "stdout",
     "output_type": "stream",
     "text": [
      "Fully Paid     32950\n",
      "Charged Off     5627\n",
      "Current         1140\n",
      "Name: loan_status, dtype: int64\n"
     ]
    }
   ],
   "source": [
    "print(loan[\"loan_status\"].value_counts())"
   ]
  },
  {
   "cell_type": "code",
   "execution_count": 495,
   "id": "24de5d4c",
   "metadata": {},
   "outputs": [],
   "source": [
    "loan = loan[loan[\"loan_status\"] != 'Current']"
   ]
  },
  {
   "cell_type": "code",
   "execution_count": 496,
   "id": "6d2731bc",
   "metadata": {},
   "outputs": [
    {
     "data": {
      "text/plain": [
       "(38577, 14)"
      ]
     },
     "execution_count": 496,
     "metadata": {},
     "output_type": "execute_result"
    }
   ],
   "source": [
    "loan.shape"
   ]
  },
  {
   "cell_type": "markdown",
   "id": "3a36c3ec",
   "metadata": {},
   "source": [
    "#### Step 3.5 - Fixing `term` column (Removing `month`)"
   ]
  },
  {
   "cell_type": "code",
   "execution_count": 497,
   "id": "d6e4a4a7",
   "metadata": {},
   "outputs": [
    {
     "data": {
      "text/plain": [
       "array([' 36 months', ' 60 months'], dtype=object)"
      ]
     },
     "execution_count": 497,
     "metadata": {},
     "output_type": "execute_result"
    }
   ],
   "source": [
    "loan.term.unique()"
   ]
  },
  {
   "cell_type": "code",
   "execution_count": 498,
   "id": "0d305688",
   "metadata": {},
   "outputs": [],
   "source": [
    "loan.term = loan.term.apply(lambda x: int(x.replace(\" months\", \"\")))"
   ]
  },
  {
   "cell_type": "code",
   "execution_count": 499,
   "id": "b30d639e",
   "metadata": {},
   "outputs": [
    {
     "data": {
      "text/plain": [
       "36    29096\n",
       "60     9481\n",
       "Name: term, dtype: int64"
      ]
     },
     "execution_count": 499,
     "metadata": {},
     "output_type": "execute_result"
    }
   ],
   "source": [
    "loan.term.value_counts()"
   ]
  },
  {
   "cell_type": "markdown",
   "id": "7cc531c1",
   "metadata": {},
   "source": [
    "#### Step 3.6 - Fixing `int_rate` column (Removing `%`)"
   ]
  },
  {
   "cell_type": "code",
   "execution_count": 500,
   "id": "84ad7cca",
   "metadata": {},
   "outputs": [],
   "source": [
    "loan.int_rate = loan.int_rate.apply(lambda x: float(x[:-1]))"
   ]
  },
  {
   "cell_type": "code",
   "execution_count": 501,
   "id": "ae15831c",
   "metadata": {},
   "outputs": [
    {
     "data": {
      "text/plain": [
       "0    10.65\n",
       "1    15.27\n",
       "2    15.96\n",
       "3    13.49\n",
       "5     7.90\n",
       "Name: int_rate, dtype: float64"
      ]
     },
     "execution_count": 501,
     "metadata": {},
     "output_type": "execute_result"
    }
   ],
   "source": [
    "loan.int_rate.head()"
   ]
  },
  {
   "cell_type": "markdown",
   "id": "d2bc0d30",
   "metadata": {},
   "source": [
    "#### Step 3.7 - Fixing column `emp_length` (removing `years` and `+`)  "
   ]
  },
  {
   "cell_type": "code",
   "execution_count": 502,
   "id": "1c379afe",
   "metadata": {},
   "outputs": [
    {
     "data": {
      "text/plain": [
       "array(['10+ years', '< 1 year', '3 years', '8 years', '9 years',\n",
       "       '4 years', '5 years', '1 year', '6 years', '2 years', '7 years',\n",
       "       nan], dtype=object)"
      ]
     },
     "execution_count": 502,
     "metadata": {},
     "output_type": "execute_result"
    }
   ],
   "source": [
    "loan.emp_length.unique()"
   ]
  },
  {
   "cell_type": "code",
   "execution_count": 503,
   "id": "c2b75084",
   "metadata": {},
   "outputs": [],
   "source": [
    "loan.emp_length = loan.emp_length.astype('str')"
   ]
  },
  {
   "cell_type": "code",
   "execution_count": 504,
   "id": "6201a001",
   "metadata": {},
   "outputs": [],
   "source": [
    "loan.emp_length = loan.emp_length.apply(lambda x: x.strip(\" years\"))"
   ]
  },
  {
   "cell_type": "code",
   "execution_count": 505,
   "id": "ea74810c",
   "metadata": {},
   "outputs": [
    {
     "data": {
      "text/plain": [
       "array(['10+', '< 1', '3', '8', '9', '4', '5', '1', '6', '2', '7', 'nan'],\n",
       "      dtype=object)"
      ]
     },
     "execution_count": 505,
     "metadata": {},
     "output_type": "execute_result"
    }
   ],
   "source": [
    "loan.emp_length.unique()"
   ]
  },
  {
   "cell_type": "code",
   "execution_count": 506,
   "id": "c791514d",
   "metadata": {},
   "outputs": [],
   "source": [
    "def clean(input):\n",
    "    if \"nan\" in input:\n",
    "        return int(-1)\n",
    "    elif \"+\" in input:\n",
    "        return int(input.replace(\"+\", \"\"))\n",
    "    elif \"<\" in input:\n",
    "        return int(input.replace(\"< \", \"\"))\n",
    "    else:\n",
    "        return int(input)\n",
    "\n",
    "loan.emp_length = loan.emp_length.apply(clean)"
   ]
  },
  {
   "cell_type": "code",
   "execution_count": 507,
   "id": "fba85081",
   "metadata": {},
   "outputs": [
    {
     "data": {
      "text/plain": [
       "array([10,  1,  3,  8,  9,  4,  5,  6,  2,  7, -1])"
      ]
     },
     "execution_count": 507,
     "metadata": {},
     "output_type": "execute_result"
    }
   ],
   "source": [
    "loan.emp_length.unique()"
   ]
  },
  {
   "cell_type": "code",
   "execution_count": 508,
   "id": "09bcda0b",
   "metadata": {},
   "outputs": [
    {
     "data": {
      "text/plain": [
       "array(['Verified', 'Source Verified', 'Not Verified'], dtype=object)"
      ]
     },
     "execution_count": 508,
     "metadata": {},
     "output_type": "execute_result"
    }
   ],
   "source": [
    "loan.verification_status.unique()"
   ]
  },
  {
   "cell_type": "code",
   "execution_count": 509,
   "id": "53bc01c7",
   "metadata": {},
   "outputs": [
    {
     "data": {
      "text/plain": [
       "array(['RENT', 'OWN', 'MORTGAGE', 'OTHER', 'NONE'], dtype=object)"
      ]
     },
     "execution_count": 509,
     "metadata": {},
     "output_type": "execute_result"
    }
   ],
   "source": [
    "loan.home_ownership.unique()"
   ]
  },
  {
   "cell_type": "code",
   "execution_count": 510,
   "id": "fa8675e1",
   "metadata": {},
   "outputs": [
    {
     "data": {
      "text/plain": [
       "array(['Fully Paid', 'Charged Off'], dtype=object)"
      ]
     },
     "execution_count": 510,
     "metadata": {},
     "output_type": "execute_result"
    }
   ],
   "source": [
    "loan.loan_status.unique()"
   ]
  },
  {
   "cell_type": "markdown",
   "id": "b73c8606",
   "metadata": {},
   "source": [
    "#### Step 3.8 - Deriving `issue_month` and `issue_year` from `issue_d`"
   ]
  },
  {
   "cell_type": "code",
   "execution_count": 511,
   "id": "1c6b06c7",
   "metadata": {},
   "outputs": [],
   "source": [
    "from datetime import datetime\n",
    "loan[\"issued_month\"] = pd.DatetimeIndex(loan.issue_d.apply(lambda x : datetime.strptime(x, '%b-%y'))).month"
   ]
  },
  {
   "cell_type": "code",
   "execution_count": 512,
   "id": "f7248264",
   "metadata": {},
   "outputs": [
    {
     "data": {
      "text/plain": [
       "array([12, 11, 10,  9,  8,  7,  6,  5,  4,  3,  2,  1])"
      ]
     },
     "execution_count": 512,
     "metadata": {},
     "output_type": "execute_result"
    }
   ],
   "source": [
    "loan.issued_month.unique()"
   ]
  },
  {
   "cell_type": "code",
   "execution_count": null,
   "id": "2350ffb2",
   "metadata": {},
   "outputs": [],
   "source": [
    "loan[\"issued_year\"] = pd.DatetimeIndex(loan.issue_d.apply(lambda x : datetime.strptime(x, '%b-%y'))).year"
   ]
  },
  {
   "cell_type": "code",
   "execution_count": null,
   "id": "1595515d",
   "metadata": {},
   "outputs": [],
   "source": [
    "loan.issued_year.unique()"
   ]
  },
  {
   "cell_type": "code",
   "execution_count": null,
   "id": "dd8ca157",
   "metadata": {},
   "outputs": [],
   "source": [
    "loan.drop([\"issue_d\"] ,axis = 1, inplace=True)"
   ]
  },
  {
   "cell_type": "markdown",
   "id": "36fe14be",
   "metadata": {},
   "source": [
    "#### Step 3.9 - Driving numeric value from `sub_grade`"
   ]
  },
  {
   "cell_type": "code",
   "execution_count": null,
   "id": "7c0025a9",
   "metadata": {},
   "outputs": [],
   "source": [
    "loan.sub_grade = loan.sub_grade.astype(\"string\")"
   ]
  },
  {
   "cell_type": "code",
   "execution_count": null,
   "id": "055dee21",
   "metadata": {},
   "outputs": [],
   "source": [
    "loan.sub_grade = loan.sub_grade.apply(lambda x: int(x[-1]))"
   ]
  },
  {
   "cell_type": "code",
   "execution_count": null,
   "id": "d9f2760b",
   "metadata": {},
   "outputs": [],
   "source": [
    "loan.columns"
   ]
  },
  {
   "cell_type": "code",
   "execution_count": null,
   "id": "d542d5d1",
   "metadata": {},
   "outputs": [],
   "source": [
    "loan.head()"
   ]
  },
  {
   "cell_type": "markdown",
   "id": "e4d1310c",
   "metadata": {},
   "source": [
    "## 4. Outlier Treatment"
   ]
  },
  {
   "cell_type": "markdown",
   "id": "d653029e",
   "metadata": {},
   "source": [
    "#### Step 4.1 - Treating `annual_inc`"
   ]
  },
  {
   "cell_type": "code",
   "execution_count": null,
   "id": "abc06e00",
   "metadata": {},
   "outputs": [],
   "source": [
    "sns.boxplot(loan['annual_inc'])"
   ]
  },
  {
   "cell_type": "code",
   "execution_count": null,
   "id": "fb70e157",
   "metadata": {},
   "outputs": [],
   "source": [
    "quantile_info = loan.annual_inc.quantile([0.5, 0.75,0.90, 0.95, 0.97,0.98, 0.99])\n",
    "quantile_info"
   ]
  },
  {
   "cell_type": "code",
   "execution_count": null,
   "id": "f5ab47b8",
   "metadata": {},
   "outputs": [],
   "source": [
    "annual_inc_99_per = loan['annual_inc'].quantile(0.99)\n",
    "loan = loan[loan.annual_inc <= annual_inc_99_per]"
   ]
  },
  {
   "cell_type": "code",
   "execution_count": null,
   "id": "3516fc9b",
   "metadata": {},
   "outputs": [],
   "source": [
    "sns.boxplot(loan.annual_inc)"
   ]
  },
  {
   "cell_type": "markdown",
   "id": "9e29a114",
   "metadata": {},
   "source": [
    "## 5. Univariant Analysis"
   ]
  },
  {
   "cell_type": "markdown",
   "id": "b5f4cf5f",
   "metadata": {},
   "source": [
    "#### Step 5.1 -  `loan_status` "
   ]
  },
  {
   "cell_type": "code",
   "execution_count": null,
   "id": "6e7fd20e",
   "metadata": {},
   "outputs": [],
   "source": [
    "sns.countplot(x = 'loan_status', data = loan)"
   ]
  },
  {
   "cell_type": "markdown",
   "id": "ace99ecb",
   "metadata": {},
   "source": [
    "#### Step 5.2 - `term` "
   ]
  },
  {
   "cell_type": "code",
   "execution_count": null,
   "id": "c540d211",
   "metadata": {},
   "outputs": [],
   "source": [
    "sns.countplot(x = 'term', data = loan)"
   ]
  },
  {
   "cell_type": "markdown",
   "id": "1969d2ba",
   "metadata": {},
   "source": [
    "#### Step 5.3 - `home_ownership` "
   ]
  },
  {
   "cell_type": "code",
   "execution_count": null,
   "id": "7a294f8c",
   "metadata": {},
   "outputs": [],
   "source": [
    "loan['home_ownership'].unique()"
   ]
  },
  {
   "cell_type": "code",
   "execution_count": null,
   "id": "affee338",
   "metadata": {},
   "outputs": [],
   "source": [
    "#replacing 'NONE' with 'OTHERS'\n",
    "loan['home_ownership'].replace(to_replace = ['NONE'],value='OTHER',inplace = True)"
   ]
  },
  {
   "cell_type": "code",
   "execution_count": null,
   "id": "627aaff4",
   "metadata": {},
   "outputs": [],
   "source": [
    "loan['home_ownership'].unique()"
   ]
  },
  {
   "cell_type": "code",
   "execution_count": null,
   "id": "303cad40",
   "metadata": {},
   "outputs": [],
   "source": [
    "sns.countplot(x = 'home_ownership', data = loan)"
   ]
  },
  {
   "cell_type": "markdown",
   "id": "97a55715",
   "metadata": {},
   "source": [
    "#### Step 5.4 - `addr_state` "
   ]
  },
  {
   "cell_type": "code",
   "execution_count": null,
   "id": "5dbe3d77",
   "metadata": {},
   "outputs": [],
   "source": [
    "g = sns.countplot(x = 'addr_state', data = loan)\n",
    "g.set_xticklabels(g.get_xticklabels(), rotation=90)"
   ]
  },
  {
   "cell_type": "markdown",
   "id": "ff728cb0",
   "metadata": {},
   "source": [
    "#### Step 5.5 -  `int_rate` "
   ]
  },
  {
   "cell_type": "code",
   "execution_count": null,
   "id": "94706839",
   "metadata": {},
   "outputs": [],
   "source": [
    "x = [7.5, 12.5, 17.5, 22.5]\n",
    "labels = ['5 - 10', '11 - 15','16 - 20','21 - 25']\n",
    "plt.hist(loan['int_rate'], bins = [5,10,15,20,25],rwidth = 0.7, color = \"orange\", edgecolor = 'k')\n",
    "plt.xticks(x, labels, rotation ='vertical')\n",
    "plt.show()"
   ]
  },
  {
   "cell_type": "code",
   "execution_count": null,
   "id": "3bfc485b",
   "metadata": {},
   "outputs": [],
   "source": []
  },
  {
   "cell_type": "code",
   "execution_count": null,
   "id": "d552e667",
   "metadata": {},
   "outputs": [],
   "source": [
    "plt.figure(figsize=(12,6), facecolor='Cyan')\n",
    "plt.title('Univariate Analysis: Loan amount', fontdict={'fontsize': 15, 'fontweight' : 5, 'color' : 'black'})\n",
    "sns.histplot(x = loan.loan_amnt)\n",
    "xy_fontdict = {'fontsize':15, 'fontweight':5, 'color':'black'}\n",
    "plt.xlabel('Loan Amount', fontdict=xy_fontdict)\n",
    "plt.ylabel('Loam Amount Frequency', fontdict=xy_fontdict)\n",
    "plt.show()"
   ]
  },
  {
   "cell_type": "code",
   "execution_count": null,
   "id": "194be060",
   "metadata": {},
   "outputs": [],
   "source": []
  },
  {
   "cell_type": "code",
   "execution_count": null,
   "id": "1a45ab10",
   "metadata": {},
   "outputs": [],
   "source": [
    "loan['dti'].plot(kind='kde')\n",
    "#Most loans are lent to borrowers with DTI ratio in between 10 and 20."
   ]
  },
  {
   "cell_type": "code",
   "execution_count": null,
   "id": "d396549c",
   "metadata": {},
   "outputs": [],
   "source": [
    "sns.displot(loan.emp_length)\n",
    "plt.xlabel('Employment length (in years)')"
   ]
  },
  {
   "cell_type": "markdown",
   "id": "5ec597e0",
   "metadata": {},
   "source": [
    "#### Step 5.6 Observation from Univariant Analysis\n",
    "- Majority of the loans are fully paid, only about ~5500(15%) loans are charged-off\n",
    "- Majority of the loan applications opts for 36 months loan term. About ~30,000 (75%)\n",
    "- Minority of the folks who has loan are actually home owners (about ~2500 home owners only)\n",
    "- Majority of the loan applications are from California State\n",
    "- Majority of the loan amount are from ~5K to ~15K\n",
    "- Most loans are lent to borrowers with DTI ratio in between 10 and 20.\n",
    "- Majority of the home owners have either high work experience of 10 + years or 1 year. "
   ]
  },
  {
   "cell_type": "markdown",
   "id": "e639eeb6",
   "metadata": {},
   "source": [
    "## 6. Segmented Univariate Analysis"
   ]
  },
  {
   "cell_type": "code",
   "execution_count": null,
   "id": "14b6f812",
   "metadata": {},
   "outputs": [],
   "source": [
    "loan.groupby([\"loan_status\", 'home_ownership'])[\"loan_amnt\"].agg(np.mean)"
   ]
  },
  {
   "cell_type": "code",
   "execution_count": null,
   "id": "d01bb9b6",
   "metadata": {},
   "outputs": [],
   "source": [
    "loan.groupby([\"loan_status\", 'emp_length'])[\"loan_amnt\"].agg(np.mean)"
   ]
  },
  {
   "cell_type": "code",
   "execution_count": null,
   "id": "3528a007",
   "metadata": {},
   "outputs": [],
   "source": [
    "loan.groupby([\"loan_status\"])[\"int_rate\"].agg(np.mean)"
   ]
  },
  {
   "cell_type": "code",
   "execution_count": null,
   "id": "85ad3cbe",
   "metadata": {},
   "outputs": [],
   "source": [
    "loan.groupby([\"loan_status\"])[\"dti\"].agg(np.mean)"
   ]
  },
  {
   "cell_type": "code",
   "execution_count": null,
   "id": "b1467f83",
   "metadata": {},
   "outputs": [],
   "source": [
    "loan.groupby([\"loan_status\"])[\"annual_inc\"].agg(np.mean)"
   ]
  },
  {
   "cell_type": "code",
   "execution_count": null,
   "id": "e6d0b33d",
   "metadata": {},
   "outputs": [],
   "source": [
    "loan.groupby([\"loan_status\"])[\"installment\"].agg(np.mean)"
   ]
  },
  {
   "cell_type": "code",
   "execution_count": null,
   "id": "21f30aa5",
   "metadata": {},
   "outputs": [],
   "source": [
    "loan.groupby([\"loan_status\", \"grade\"])[\"loan_amnt\"].agg(np.mean)"
   ]
  },
  {
   "cell_type": "code",
   "execution_count": null,
   "id": "ff806759",
   "metadata": {},
   "outputs": [],
   "source": [
    "loan.groupby([\"loan_status\", \"home_ownership\"])[\"loan_amnt\"].agg(np.mean)"
   ]
  },
  {
   "cell_type": "code",
   "execution_count": null,
   "id": "bb5c0489",
   "metadata": {},
   "outputs": [],
   "source": [
    "loan.groupby([\"loan_status\", \"verification_status\"])[\"loan_amnt\"].agg(np.mean)"
   ]
  },
  {
   "cell_type": "markdown",
   "id": "ed56e257",
   "metadata": {},
   "source": [
    "#### Step 6.1 Observation from Segmented Univariate Analysis\n",
    "- Loan amount for charged-off loans are higher than fully paid loans\n",
    "- Interests rate are higher for charged off loans.\n",
    "- DTI ration for charged-off loans are higher.\n",
    "- Annual income for fully paid loan are higher.\n",
    "- Interestingly, loan amount goes up with pooper grade.\n",
    "- The loan amounts are higher for people with Mortage then people with own houses.\n",
    "- The loan amounts are higer for verified individuals"
   ]
  },
  {
   "cell_type": "code",
   "execution_count": null,
   "id": "4b81a3b3",
   "metadata": {},
   "outputs": [],
   "source": []
  },
  {
   "cell_type": "markdown",
   "id": "dca8c23e",
   "metadata": {},
   "source": [
    "## 7. Bivariate Analysis"
   ]
  },
  {
   "cell_type": "markdown",
   "id": "70635275",
   "metadata": {},
   "source": [
    "#### Step 7.1 - Continous Variable - Bivariant Analysis"
   ]
  },
  {
   "cell_type": "code",
   "execution_count": null,
   "id": "c45b8048",
   "metadata": {},
   "outputs": [],
   "source": [
    "plt.figure(figsize=(15,15))\n",
    "cont_var= ['loan_amnt', 'int_rate', 'installment','annual_inc','dti', 'issued_year', 'issued_month', 'term', 'emp_length']\n",
    "corr = loan[cont_var].corr()\n",
    "g=sns.heatmap(corr, annot=True, center=0.5)\n",
    "bottom, top = g.get_ylim()\n",
    "g.set_ylim(bottom + 0.5,top - 0.5)"
   ]
  },
  {
   "cell_type": "markdown",
   "id": "d0d38dec",
   "metadata": {},
   "source": [
    "#### Step 7.2 - Categorical Variable - Bivariant Analysis"
   ]
  },
  {
   "cell_type": "code",
   "execution_count": null,
   "id": "c83cccff",
   "metadata": {},
   "outputs": [],
   "source": [
    "pd.pivot_table(loan, index=[\"grade\"],columns=['loan_status'], aggfunc=np.mean)"
   ]
  },
  {
   "cell_type": "code",
   "execution_count": null,
   "id": "b20b237d",
   "metadata": {},
   "outputs": [],
   "source": [
    "pd.pivot_table(loan, index=[\"home_ownership\"],columns=['loan_status'], aggfunc=np.mean)"
   ]
  },
  {
   "cell_type": "code",
   "execution_count": null,
   "id": "01c72075",
   "metadata": {},
   "outputs": [],
   "source": [
    "pd.pivot_table(loan, index=[\"term\"],columns=['loan_status'], aggfunc=np.mean)"
   ]
  },
  {
   "cell_type": "code",
   "execution_count": null,
   "id": "917fa7fb",
   "metadata": {},
   "outputs": [],
   "source": [
    "pd.pivot_table(loan, index=[\"verification_status\"],columns=['loan_status'], aggfunc=np.mean)"
   ]
  },
  {
   "cell_type": "markdown",
   "id": "e987d49c",
   "metadata": {},
   "source": [
    "## 8. Recommendations from Case Study"
   ]
  },
  {
   "cell_type": "markdown",
   "id": "67b6d616",
   "metadata": {},
   "source": [
    "The below analysis is for the chanrged-off loans. The probability for defaulting increases with following:\n",
    "- If the applicant home ownership is mortgage and loan amount is greater than 14K.\n",
    "- if the applicant employment duration is 10+ years and loan amount is greater than 14k.\n",
    "- Higher interest rate with around 14% rate, increasses the default posibility.\n",
    "- DTI ration of over 14, increasses the default posibility.\n",
    "- Lower annual income of about 60K, increasses the default posibility.\n",
    "- Grade G loan, with annual income of about 74K are more likely to default.\n",
    "- Owners on Rent with about 50K annual income, and 14% interest are more likely to default.\n",
    "- When the loan is verified and loan amount is over 16K and interest rate is around 15%."
   ]
  },
  {
   "cell_type": "code",
   "execution_count": null,
   "id": "2f1c0277",
   "metadata": {},
   "outputs": [],
   "source": []
  }
 ],
 "metadata": {
  "kernelspec": {
   "display_name": "Python 3 (ipykernel)",
   "language": "python",
   "name": "python3"
  },
  "language_info": {
   "codemirror_mode": {
    "name": "ipython",
    "version": 3
   },
   "file_extension": ".py",
   "mimetype": "text/x-python",
   "name": "python",
   "nbconvert_exporter": "python",
   "pygments_lexer": "ipython3",
   "version": "3.9.13"
  }
 },
 "nbformat": 4,
 "nbformat_minor": 5
}
