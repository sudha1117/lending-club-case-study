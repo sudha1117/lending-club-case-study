{
 "cells": [
  {
   "cell_type": "markdown",
   "id": "98ad1d63",
   "metadata": {},
   "source": [
    "# LENDING CLUB CASE STUDY"
   ]
  },
  {
   "cell_type": "markdown",
   "id": "e53e288a",
   "metadata": {},
   "source": [
    "## Import Libraries"
   ]
  },
  {
   "cell_type": "code",
   "execution_count": 293,
   "id": "35b2a520",
   "metadata": {},
   "outputs": [],
   "source": [
    "import pandas as pd\n",
    "import numpy as np"
   ]
  },
  {
   "cell_type": "markdown",
   "id": "19a8d2a8",
   "metadata": {},
   "source": [
    "## Data Sourcing"
   ]
  },
  {
   "cell_type": "markdown",
   "id": "2f2851fa",
   "metadata": {},
   "source": [
    "#### Load `Data_Dictionary.xlsx`"
   ]
  },
  {
   "cell_type": "code",
   "execution_count": 294,
   "id": "74afd7e0",
   "metadata": {},
   "outputs": [
    {
     "data": {
      "text/html": [
       "<div>\n",
       "<style scoped>\n",
       "    .dataframe tbody tr th:only-of-type {\n",
       "        vertical-align: middle;\n",
       "    }\n",
       "\n",
       "    .dataframe tbody tr th {\n",
       "        vertical-align: top;\n",
       "    }\n",
       "\n",
       "    .dataframe thead th {\n",
       "        text-align: right;\n",
       "    }\n",
       "</style>\n",
       "<table border=\"1\" class=\"dataframe\">\n",
       "  <thead>\n",
       "    <tr style=\"text-align: right;\">\n",
       "      <th></th>\n",
       "      <th>LoanStatNew</th>\n",
       "      <th>Description</th>\n",
       "    </tr>\n",
       "  </thead>\n",
       "  <tbody>\n",
       "    <tr>\n",
       "      <th>0</th>\n",
       "      <td>acc_now_delinq</td>\n",
       "      <td>The number of accounts on which the borrower is now delinquent.</td>\n",
       "    </tr>\n",
       "    <tr>\n",
       "      <th>1</th>\n",
       "      <td>acc_open_past_24mths</td>\n",
       "      <td>Number of trades opened in past 24 months.</td>\n",
       "    </tr>\n",
       "    <tr>\n",
       "      <th>2</th>\n",
       "      <td>addr_state</td>\n",
       "      <td>The state provided by the borrower in the loan application</td>\n",
       "    </tr>\n",
       "    <tr>\n",
       "      <th>3</th>\n",
       "      <td>all_util</td>\n",
       "      <td>Balance to credit limit on all trades</td>\n",
       "    </tr>\n",
       "    <tr>\n",
       "      <th>4</th>\n",
       "      <td>annual_inc</td>\n",
       "      <td>The self-reported annual income provided by the borrower during registration.</td>\n",
       "    </tr>\n",
       "    <tr>\n",
       "      <th>5</th>\n",
       "      <td>annual_inc_joint</td>\n",
       "      <td>The combined self-reported annual income provided by the co-borrowers during registration</td>\n",
       "    </tr>\n",
       "    <tr>\n",
       "      <th>6</th>\n",
       "      <td>application_type</td>\n",
       "      <td>Indicates whether the loan is an individual application or a joint application with two co-borrowers</td>\n",
       "    </tr>\n",
       "    <tr>\n",
       "      <th>7</th>\n",
       "      <td>avg_cur_bal</td>\n",
       "      <td>Average current balance of all accounts</td>\n",
       "    </tr>\n",
       "    <tr>\n",
       "      <th>8</th>\n",
       "      <td>bc_open_to_buy</td>\n",
       "      <td>Total open to buy on revolving bankcards.</td>\n",
       "    </tr>\n",
       "    <tr>\n",
       "      <th>9</th>\n",
       "      <td>bc_util</td>\n",
       "      <td>Ratio of total current balance to high credit/credit limit for all bankcard accounts.</td>\n",
       "    </tr>\n",
       "    <tr>\n",
       "      <th>10</th>\n",
       "      <td>chargeoff_within_12_mths</td>\n",
       "      <td>Number of charge-offs within 12 months</td>\n",
       "    </tr>\n",
       "    <tr>\n",
       "      <th>11</th>\n",
       "      <td>collection_recovery_fee</td>\n",
       "      <td>post charge off collection fee</td>\n",
       "    </tr>\n",
       "    <tr>\n",
       "      <th>12</th>\n",
       "      <td>collections_12_mths_ex_med</td>\n",
       "      <td>Number of collections in 12 months excluding medical collections</td>\n",
       "    </tr>\n",
       "    <tr>\n",
       "      <th>13</th>\n",
       "      <td>delinq_2yrs</td>\n",
       "      <td>The number of 30+ days past-due incidences of delinquency in the borrower's credit file for the past 2 years</td>\n",
       "    </tr>\n",
       "    <tr>\n",
       "      <th>14</th>\n",
       "      <td>delinq_amnt</td>\n",
       "      <td>The past-due amount owed for the accounts on which the borrower is now delinquent.</td>\n",
       "    </tr>\n",
       "    <tr>\n",
       "      <th>15</th>\n",
       "      <td>desc</td>\n",
       "      <td>Loan description provided by the borrower</td>\n",
       "    </tr>\n",
       "    <tr>\n",
       "      <th>16</th>\n",
       "      <td>dti</td>\n",
       "      <td>A ratio calculated using the borrower’s total monthly debt payments on the total debt obligations, excluding mortgage and the requested LC loan, divided by the borrower’s self-reported monthly income.</td>\n",
       "    </tr>\n",
       "    <tr>\n",
       "      <th>17</th>\n",
       "      <td>dti_joint</td>\n",
       "      <td>A ratio calculated using the co-borrowers' total monthly payments on the total debt obligations, excluding mortgages and the requested LC loan, divided by the co-borrowers' combined self-reported monthly income</td>\n",
       "    </tr>\n",
       "    <tr>\n",
       "      <th>18</th>\n",
       "      <td>earliest_cr_line</td>\n",
       "      <td>The month the borrower's earliest reported credit line was opened</td>\n",
       "    </tr>\n",
       "    <tr>\n",
       "      <th>19</th>\n",
       "      <td>emp_length</td>\n",
       "      <td>Employment length in years. Possible values are between 0 and 10 where 0 means less than one year and 10 means ten or more years.</td>\n",
       "    </tr>\n",
       "    <tr>\n",
       "      <th>20</th>\n",
       "      <td>emp_title</td>\n",
       "      <td>The job title supplied by the Borrower when applying for the loan.*</td>\n",
       "    </tr>\n",
       "    <tr>\n",
       "      <th>21</th>\n",
       "      <td>fico_range_high</td>\n",
       "      <td>The upper boundary range the borrower’s FICO at loan origination belongs to.</td>\n",
       "    </tr>\n",
       "    <tr>\n",
       "      <th>22</th>\n",
       "      <td>fico_range_low</td>\n",
       "      <td>The lower boundary range the borrower’s FICO at loan origination belongs to.</td>\n",
       "    </tr>\n",
       "    <tr>\n",
       "      <th>23</th>\n",
       "      <td>funded_amnt</td>\n",
       "      <td>The total amount committed to that loan at that point in time.</td>\n",
       "    </tr>\n",
       "    <tr>\n",
       "      <th>24</th>\n",
       "      <td>funded_amnt_inv</td>\n",
       "      <td>The total amount committed by investors for that loan at that point in time.</td>\n",
       "    </tr>\n",
       "    <tr>\n",
       "      <th>25</th>\n",
       "      <td>grade</td>\n",
       "      <td>LC assigned loan grade</td>\n",
       "    </tr>\n",
       "    <tr>\n",
       "      <th>26</th>\n",
       "      <td>home_ownership</td>\n",
       "      <td>The home ownership status provided by the borrower during registration. Our values are: RENT, OWN, MORTGAGE, OTHER.</td>\n",
       "    </tr>\n",
       "    <tr>\n",
       "      <th>27</th>\n",
       "      <td>id</td>\n",
       "      <td>A unique LC assigned ID for the loan listing.</td>\n",
       "    </tr>\n",
       "    <tr>\n",
       "      <th>28</th>\n",
       "      <td>il_util</td>\n",
       "      <td>Ratio of total current balance to high credit/credit limit on all install acct</td>\n",
       "    </tr>\n",
       "    <tr>\n",
       "      <th>29</th>\n",
       "      <td>initial_list_status</td>\n",
       "      <td>The initial listing status of the loan. Possible values are – W, F</td>\n",
       "    </tr>\n",
       "    <tr>\n",
       "      <th>30</th>\n",
       "      <td>inq_fi</td>\n",
       "      <td>Number of personal finance inquiries</td>\n",
       "    </tr>\n",
       "    <tr>\n",
       "      <th>31</th>\n",
       "      <td>inq_last_12m</td>\n",
       "      <td>Number of credit inquiries in past 12 months</td>\n",
       "    </tr>\n",
       "    <tr>\n",
       "      <th>32</th>\n",
       "      <td>inq_last_6mths</td>\n",
       "      <td>The number of inquiries in past 6 months (excluding auto and mortgage inquiries)</td>\n",
       "    </tr>\n",
       "    <tr>\n",
       "      <th>33</th>\n",
       "      <td>installment</td>\n",
       "      <td>The monthly payment owed by the borrower if the loan originates.</td>\n",
       "    </tr>\n",
       "    <tr>\n",
       "      <th>34</th>\n",
       "      <td>int_rate</td>\n",
       "      <td>Interest Rate on the loan</td>\n",
       "    </tr>\n",
       "    <tr>\n",
       "      <th>35</th>\n",
       "      <td>issue_d</td>\n",
       "      <td>The month which the loan was funded</td>\n",
       "    </tr>\n",
       "    <tr>\n",
       "      <th>36</th>\n",
       "      <td>last_credit_pull_d</td>\n",
       "      <td>The most recent month LC pulled credit for this loan</td>\n",
       "    </tr>\n",
       "    <tr>\n",
       "      <th>37</th>\n",
       "      <td>last_fico_range_high</td>\n",
       "      <td>The upper boundary range the borrower’s last FICO pulled belongs to.</td>\n",
       "    </tr>\n",
       "    <tr>\n",
       "      <th>38</th>\n",
       "      <td>last_fico_range_low</td>\n",
       "      <td>The lower boundary range the borrower’s last FICO pulled belongs to.</td>\n",
       "    </tr>\n",
       "    <tr>\n",
       "      <th>39</th>\n",
       "      <td>last_pymnt_amnt</td>\n",
       "      <td>Last total payment amount received</td>\n",
       "    </tr>\n",
       "    <tr>\n",
       "      <th>40</th>\n",
       "      <td>last_pymnt_d</td>\n",
       "      <td>Last month payment was received</td>\n",
       "    </tr>\n",
       "    <tr>\n",
       "      <th>41</th>\n",
       "      <td>loan_amnt</td>\n",
       "      <td>The listed amount of the loan applied for by the borrower. If at some point in time, the credit department reduces the loan amount, then it will be reflected in this value.</td>\n",
       "    </tr>\n",
       "    <tr>\n",
       "      <th>42</th>\n",
       "      <td>loan_status</td>\n",
       "      <td>Current status of the loan</td>\n",
       "    </tr>\n",
       "    <tr>\n",
       "      <th>43</th>\n",
       "      <td>max_bal_bc</td>\n",
       "      <td>Maximum current balance owed on all revolving accounts</td>\n",
       "    </tr>\n",
       "    <tr>\n",
       "      <th>44</th>\n",
       "      <td>member_id</td>\n",
       "      <td>A unique LC assigned Id for the borrower member.</td>\n",
       "    </tr>\n",
       "    <tr>\n",
       "      <th>45</th>\n",
       "      <td>mo_sin_old_il_acct</td>\n",
       "      <td>Months since oldest bank installment account opened</td>\n",
       "    </tr>\n",
       "    <tr>\n",
       "      <th>46</th>\n",
       "      <td>mo_sin_old_rev_tl_op</td>\n",
       "      <td>Months since oldest revolving account opened</td>\n",
       "    </tr>\n",
       "    <tr>\n",
       "      <th>47</th>\n",
       "      <td>mo_sin_rcnt_rev_tl_op</td>\n",
       "      <td>Months since most recent revolving account opened</td>\n",
       "    </tr>\n",
       "    <tr>\n",
       "      <th>48</th>\n",
       "      <td>mo_sin_rcnt_tl</td>\n",
       "      <td>Months since most recent account opened</td>\n",
       "    </tr>\n",
       "    <tr>\n",
       "      <th>49</th>\n",
       "      <td>mort_acc</td>\n",
       "      <td>Number of mortgage accounts.</td>\n",
       "    </tr>\n",
       "    <tr>\n",
       "      <th>50</th>\n",
       "      <td>mths_since_last_delinq</td>\n",
       "      <td>The number of months since the borrower's last delinquency.</td>\n",
       "    </tr>\n",
       "    <tr>\n",
       "      <th>51</th>\n",
       "      <td>mths_since_last_major_derog</td>\n",
       "      <td>Months since most recent 90-day or worse rating</td>\n",
       "    </tr>\n",
       "    <tr>\n",
       "      <th>52</th>\n",
       "      <td>mths_since_last_record</td>\n",
       "      <td>The number of months since the last public record.</td>\n",
       "    </tr>\n",
       "    <tr>\n",
       "      <th>53</th>\n",
       "      <td>mths_since_rcnt_il</td>\n",
       "      <td>Months since most recent installment accounts opened</td>\n",
       "    </tr>\n",
       "    <tr>\n",
       "      <th>54</th>\n",
       "      <td>mths_since_recent_bc</td>\n",
       "      <td>Months since most recent bankcard account opened.</td>\n",
       "    </tr>\n",
       "    <tr>\n",
       "      <th>55</th>\n",
       "      <td>mths_since_recent_bc_dlq</td>\n",
       "      <td>Months since most recent bankcard delinquency</td>\n",
       "    </tr>\n",
       "    <tr>\n",
       "      <th>56</th>\n",
       "      <td>mths_since_recent_inq</td>\n",
       "      <td>Months since most recent inquiry.</td>\n",
       "    </tr>\n",
       "    <tr>\n",
       "      <th>57</th>\n",
       "      <td>mths_since_recent_revol_delinq</td>\n",
       "      <td>Months since most recent revolving delinquency.</td>\n",
       "    </tr>\n",
       "    <tr>\n",
       "      <th>58</th>\n",
       "      <td>next_pymnt_d</td>\n",
       "      <td>Next scheduled payment date</td>\n",
       "    </tr>\n",
       "    <tr>\n",
       "      <th>59</th>\n",
       "      <td>num_accts_ever_120_pd</td>\n",
       "      <td>Number of accounts ever 120 or more days past due</td>\n",
       "    </tr>\n",
       "    <tr>\n",
       "      <th>60</th>\n",
       "      <td>num_actv_bc_tl</td>\n",
       "      <td>Number of currently active bankcard accounts</td>\n",
       "    </tr>\n",
       "    <tr>\n",
       "      <th>61</th>\n",
       "      <td>num_actv_rev_tl</td>\n",
       "      <td>Number of currently active revolving trades</td>\n",
       "    </tr>\n",
       "    <tr>\n",
       "      <th>62</th>\n",
       "      <td>num_bc_sats</td>\n",
       "      <td>Number of satisfactory bankcard accounts</td>\n",
       "    </tr>\n",
       "    <tr>\n",
       "      <th>63</th>\n",
       "      <td>num_bc_tl</td>\n",
       "      <td>Number of bankcard accounts</td>\n",
       "    </tr>\n",
       "    <tr>\n",
       "      <th>64</th>\n",
       "      <td>num_il_tl</td>\n",
       "      <td>Number of installment accounts</td>\n",
       "    </tr>\n",
       "    <tr>\n",
       "      <th>65</th>\n",
       "      <td>num_op_rev_tl</td>\n",
       "      <td>Number of open revolving accounts</td>\n",
       "    </tr>\n",
       "    <tr>\n",
       "      <th>66</th>\n",
       "      <td>num_rev_accts</td>\n",
       "      <td>Number of revolving accounts</td>\n",
       "    </tr>\n",
       "    <tr>\n",
       "      <th>67</th>\n",
       "      <td>num_rev_tl_bal_gt_0</td>\n",
       "      <td>Number of revolving trades with balance &gt;0</td>\n",
       "    </tr>\n",
       "    <tr>\n",
       "      <th>68</th>\n",
       "      <td>num_sats</td>\n",
       "      <td>Number of satisfactory accounts</td>\n",
       "    </tr>\n",
       "    <tr>\n",
       "      <th>69</th>\n",
       "      <td>num_tl_120dpd_2m</td>\n",
       "      <td>Number of accounts currently 120 days past due (updated in past 2 months)</td>\n",
       "    </tr>\n",
       "    <tr>\n",
       "      <th>70</th>\n",
       "      <td>num_tl_30dpd</td>\n",
       "      <td>Number of accounts currently 30 days past due (updated in past 2 months)</td>\n",
       "    </tr>\n",
       "    <tr>\n",
       "      <th>71</th>\n",
       "      <td>num_tl_90g_dpd_24m</td>\n",
       "      <td>Number of accounts 90 or more days past due in last 24 months</td>\n",
       "    </tr>\n",
       "    <tr>\n",
       "      <th>72</th>\n",
       "      <td>num_tl_op_past_12m</td>\n",
       "      <td>Number of accounts opened in past 12 months</td>\n",
       "    </tr>\n",
       "    <tr>\n",
       "      <th>73</th>\n",
       "      <td>open_acc</td>\n",
       "      <td>The number of open credit lines in the borrower's credit file.</td>\n",
       "    </tr>\n",
       "    <tr>\n",
       "      <th>74</th>\n",
       "      <td>open_acc_6m</td>\n",
       "      <td>Number of open trades in last 6 months</td>\n",
       "    </tr>\n",
       "    <tr>\n",
       "      <th>75</th>\n",
       "      <td>open_il_12m</td>\n",
       "      <td>Number of installment accounts opened in past 12 months</td>\n",
       "    </tr>\n",
       "    <tr>\n",
       "      <th>76</th>\n",
       "      <td>open_il_24m</td>\n",
       "      <td>Number of installment accounts opened in past 24 months</td>\n",
       "    </tr>\n",
       "    <tr>\n",
       "      <th>77</th>\n",
       "      <td>open_il_6m</td>\n",
       "      <td>Number of currently active installment trades</td>\n",
       "    </tr>\n",
       "    <tr>\n",
       "      <th>78</th>\n",
       "      <td>open_rv_12m</td>\n",
       "      <td>Number of revolving trades opened in past 12 months</td>\n",
       "    </tr>\n",
       "    <tr>\n",
       "      <th>79</th>\n",
       "      <td>open_rv_24m</td>\n",
       "      <td>Number of revolving trades opened in past 24 months</td>\n",
       "    </tr>\n",
       "    <tr>\n",
       "      <th>80</th>\n",
       "      <td>out_prncp</td>\n",
       "      <td>Remaining outstanding principal for total amount funded</td>\n",
       "    </tr>\n",
       "    <tr>\n",
       "      <th>81</th>\n",
       "      <td>out_prncp_inv</td>\n",
       "      <td>Remaining outstanding principal for portion of total amount funded by investors</td>\n",
       "    </tr>\n",
       "    <tr>\n",
       "      <th>82</th>\n",
       "      <td>pct_tl_nvr_dlq</td>\n",
       "      <td>Percent of trades never delinquent</td>\n",
       "    </tr>\n",
       "    <tr>\n",
       "      <th>83</th>\n",
       "      <td>percent_bc_gt_75</td>\n",
       "      <td>Percentage of all bankcard accounts &gt; 75% of limit.</td>\n",
       "    </tr>\n",
       "    <tr>\n",
       "      <th>84</th>\n",
       "      <td>policy_code</td>\n",
       "      <td>publicly available policy_code=1\\nnew products not publicly available policy_code=2</td>\n",
       "    </tr>\n",
       "    <tr>\n",
       "      <th>85</th>\n",
       "      <td>pub_rec</td>\n",
       "      <td>Number of derogatory public records</td>\n",
       "    </tr>\n",
       "    <tr>\n",
       "      <th>86</th>\n",
       "      <td>pub_rec_bankruptcies</td>\n",
       "      <td>Number of public record bankruptcies</td>\n",
       "    </tr>\n",
       "    <tr>\n",
       "      <th>87</th>\n",
       "      <td>purpose</td>\n",
       "      <td>A category provided by the borrower for the loan request.</td>\n",
       "    </tr>\n",
       "    <tr>\n",
       "      <th>88</th>\n",
       "      <td>pymnt_plan</td>\n",
       "      <td>Indicates if a payment plan has been put in place for the loan</td>\n",
       "    </tr>\n",
       "    <tr>\n",
       "      <th>89</th>\n",
       "      <td>recoveries</td>\n",
       "      <td>post charge off gross recovery</td>\n",
       "    </tr>\n",
       "    <tr>\n",
       "      <th>90</th>\n",
       "      <td>revol_bal</td>\n",
       "      <td>Total credit revolving balance</td>\n",
       "    </tr>\n",
       "    <tr>\n",
       "      <th>91</th>\n",
       "      <td>revol_util</td>\n",
       "      <td>Revolving line utilization rate, or the amount of credit the borrower is using relative to all available revolving credit.</td>\n",
       "    </tr>\n",
       "    <tr>\n",
       "      <th>92</th>\n",
       "      <td>sub_grade</td>\n",
       "      <td>LC assigned loan subgrade</td>\n",
       "    </tr>\n",
       "    <tr>\n",
       "      <th>93</th>\n",
       "      <td>tax_liens</td>\n",
       "      <td>Number of tax liens</td>\n",
       "    </tr>\n",
       "    <tr>\n",
       "      <th>94</th>\n",
       "      <td>term</td>\n",
       "      <td>The number of payments on the loan. Values are in months and can be either 36 or 60.</td>\n",
       "    </tr>\n",
       "    <tr>\n",
       "      <th>95</th>\n",
       "      <td>title</td>\n",
       "      <td>The loan title provided by the borrower</td>\n",
       "    </tr>\n",
       "    <tr>\n",
       "      <th>96</th>\n",
       "      <td>tot_coll_amt</td>\n",
       "      <td>Total collection amounts ever owed</td>\n",
       "    </tr>\n",
       "    <tr>\n",
       "      <th>97</th>\n",
       "      <td>tot_cur_bal</td>\n",
       "      <td>Total current balance of all accounts</td>\n",
       "    </tr>\n",
       "    <tr>\n",
       "      <th>98</th>\n",
       "      <td>tot_hi_cred_lim</td>\n",
       "      <td>Total high credit/credit limit</td>\n",
       "    </tr>\n",
       "    <tr>\n",
       "      <th>99</th>\n",
       "      <td>total_acc</td>\n",
       "      <td>The total number of credit lines currently in the borrower's credit file</td>\n",
       "    </tr>\n",
       "    <tr>\n",
       "      <th>100</th>\n",
       "      <td>total_bal_ex_mort</td>\n",
       "      <td>Total credit balance excluding mortgage</td>\n",
       "    </tr>\n",
       "    <tr>\n",
       "      <th>101</th>\n",
       "      <td>total_bal_il</td>\n",
       "      <td>Total current balance of all installment accounts</td>\n",
       "    </tr>\n",
       "    <tr>\n",
       "      <th>102</th>\n",
       "      <td>total_bc_limit</td>\n",
       "      <td>Total bankcard high credit/credit limit</td>\n",
       "    </tr>\n",
       "    <tr>\n",
       "      <th>103</th>\n",
       "      <td>total_cu_tl</td>\n",
       "      <td>Number of finance trades</td>\n",
       "    </tr>\n",
       "    <tr>\n",
       "      <th>104</th>\n",
       "      <td>total_il_high_credit_limit</td>\n",
       "      <td>Total installment high credit/credit limit</td>\n",
       "    </tr>\n",
       "    <tr>\n",
       "      <th>105</th>\n",
       "      <td>total_pymnt</td>\n",
       "      <td>Payments received to date for total amount funded</td>\n",
       "    </tr>\n",
       "    <tr>\n",
       "      <th>106</th>\n",
       "      <td>total_pymnt_inv</td>\n",
       "      <td>Payments received to date for portion of total amount funded by investors</td>\n",
       "    </tr>\n",
       "    <tr>\n",
       "      <th>107</th>\n",
       "      <td>total_rec_int</td>\n",
       "      <td>Interest received to date</td>\n",
       "    </tr>\n",
       "    <tr>\n",
       "      <th>108</th>\n",
       "      <td>total_rec_late_fee</td>\n",
       "      <td>Late fees received to date</td>\n",
       "    </tr>\n",
       "    <tr>\n",
       "      <th>109</th>\n",
       "      <td>total_rec_prncp</td>\n",
       "      <td>Principal received to date</td>\n",
       "    </tr>\n",
       "    <tr>\n",
       "      <th>110</th>\n",
       "      <td>total_rev_hi_lim</td>\n",
       "      <td>Total revolving high credit/credit limit</td>\n",
       "    </tr>\n",
       "    <tr>\n",
       "      <th>111</th>\n",
       "      <td>url</td>\n",
       "      <td>URL for the LC page with listing data.</td>\n",
       "    </tr>\n",
       "    <tr>\n",
       "      <th>112</th>\n",
       "      <td>verification_status</td>\n",
       "      <td>Indicates if income was verified by LC, not verified, or if the income source was verified</td>\n",
       "    </tr>\n",
       "    <tr>\n",
       "      <th>113</th>\n",
       "      <td>verified_status_joint</td>\n",
       "      <td>Indicates if the co-borrowers' joint income was verified by LC, not verified, or if the income source was verified</td>\n",
       "    </tr>\n",
       "    <tr>\n",
       "      <th>114</th>\n",
       "      <td>zip_code</td>\n",
       "      <td>The first 3 numbers of the zip code provided by the borrower in the loan application.</td>\n",
       "    </tr>\n",
       "    <tr>\n",
       "      <th>115</th>\n",
       "      <td>NaN</td>\n",
       "      <td>NaN</td>\n",
       "    </tr>\n",
       "    <tr>\n",
       "      <th>116</th>\n",
       "      <td>NaN</td>\n",
       "      <td>* Employer Title replaces Employer Name for all loans listed after 9/23/2013</td>\n",
       "    </tr>\n",
       "  </tbody>\n",
       "</table>\n",
       "</div>"
      ],
      "text/plain": [
       "                        LoanStatNew  \\\n",
       "0                    acc_now_delinq   \n",
       "1              acc_open_past_24mths   \n",
       "2                        addr_state   \n",
       "3                          all_util   \n",
       "4                        annual_inc   \n",
       "5                  annual_inc_joint   \n",
       "6                  application_type   \n",
       "7                       avg_cur_bal   \n",
       "8                    bc_open_to_buy   \n",
       "9                           bc_util   \n",
       "10         chargeoff_within_12_mths   \n",
       "11          collection_recovery_fee   \n",
       "12       collections_12_mths_ex_med   \n",
       "13                      delinq_2yrs   \n",
       "14                      delinq_amnt   \n",
       "15                             desc   \n",
       "16                              dti   \n",
       "17                        dti_joint   \n",
       "18                 earliest_cr_line   \n",
       "19                       emp_length   \n",
       "20                        emp_title   \n",
       "21                  fico_range_high   \n",
       "22                   fico_range_low   \n",
       "23                      funded_amnt   \n",
       "24                  funded_amnt_inv   \n",
       "25                            grade   \n",
       "26                   home_ownership   \n",
       "27                               id   \n",
       "28                          il_util   \n",
       "29              initial_list_status   \n",
       "30                           inq_fi   \n",
       "31                     inq_last_12m   \n",
       "32                   inq_last_6mths   \n",
       "33                      installment   \n",
       "34                         int_rate   \n",
       "35                          issue_d   \n",
       "36               last_credit_pull_d   \n",
       "37             last_fico_range_high   \n",
       "38              last_fico_range_low   \n",
       "39                  last_pymnt_amnt   \n",
       "40                     last_pymnt_d   \n",
       "41                        loan_amnt   \n",
       "42                      loan_status   \n",
       "43                       max_bal_bc   \n",
       "44                        member_id   \n",
       "45               mo_sin_old_il_acct   \n",
       "46             mo_sin_old_rev_tl_op   \n",
       "47            mo_sin_rcnt_rev_tl_op   \n",
       "48                   mo_sin_rcnt_tl   \n",
       "49                         mort_acc   \n",
       "50           mths_since_last_delinq   \n",
       "51      mths_since_last_major_derog   \n",
       "52           mths_since_last_record   \n",
       "53               mths_since_rcnt_il   \n",
       "54             mths_since_recent_bc   \n",
       "55         mths_since_recent_bc_dlq   \n",
       "56            mths_since_recent_inq   \n",
       "57   mths_since_recent_revol_delinq   \n",
       "58                     next_pymnt_d   \n",
       "59            num_accts_ever_120_pd   \n",
       "60                   num_actv_bc_tl   \n",
       "61                  num_actv_rev_tl   \n",
       "62                      num_bc_sats   \n",
       "63                        num_bc_tl   \n",
       "64                        num_il_tl   \n",
       "65                    num_op_rev_tl   \n",
       "66                    num_rev_accts   \n",
       "67              num_rev_tl_bal_gt_0   \n",
       "68                         num_sats   \n",
       "69                 num_tl_120dpd_2m   \n",
       "70                     num_tl_30dpd   \n",
       "71               num_tl_90g_dpd_24m   \n",
       "72               num_tl_op_past_12m   \n",
       "73                         open_acc   \n",
       "74                      open_acc_6m   \n",
       "75                      open_il_12m   \n",
       "76                      open_il_24m   \n",
       "77                       open_il_6m   \n",
       "78                      open_rv_12m   \n",
       "79                      open_rv_24m   \n",
       "80                        out_prncp   \n",
       "81                    out_prncp_inv   \n",
       "82                   pct_tl_nvr_dlq   \n",
       "83                 percent_bc_gt_75   \n",
       "84                      policy_code   \n",
       "85                          pub_rec   \n",
       "86             pub_rec_bankruptcies   \n",
       "87                          purpose   \n",
       "88                       pymnt_plan   \n",
       "89                       recoveries   \n",
       "90                        revol_bal   \n",
       "91                       revol_util   \n",
       "92                        sub_grade   \n",
       "93                        tax_liens   \n",
       "94                             term   \n",
       "95                            title   \n",
       "96                     tot_coll_amt   \n",
       "97                      tot_cur_bal   \n",
       "98                  tot_hi_cred_lim   \n",
       "99                        total_acc   \n",
       "100               total_bal_ex_mort   \n",
       "101                    total_bal_il   \n",
       "102                  total_bc_limit   \n",
       "103                     total_cu_tl   \n",
       "104      total_il_high_credit_limit   \n",
       "105                     total_pymnt   \n",
       "106                 total_pymnt_inv   \n",
       "107                   total_rec_int   \n",
       "108              total_rec_late_fee   \n",
       "109                 total_rec_prncp   \n",
       "110              total_rev_hi_lim     \n",
       "111                             url   \n",
       "112             verification_status   \n",
       "113           verified_status_joint   \n",
       "114                        zip_code   \n",
       "115                             NaN   \n",
       "116                             NaN   \n",
       "\n",
       "                                                                                                                                                                                                            Description  \n",
       "0                                                                                                                                                       The number of accounts on which the borrower is now delinquent.  \n",
       "1                                                                                                                                                                            Number of trades opened in past 24 months.  \n",
       "2                                                                                                                                                            The state provided by the borrower in the loan application  \n",
       "3                                                                                                                                                                                 Balance to credit limit on all trades  \n",
       "4                                                                                                                                         The self-reported annual income provided by the borrower during registration.  \n",
       "5                                                                                                                             The combined self-reported annual income provided by the co-borrowers during registration  \n",
       "6                                                                                                                  Indicates whether the loan is an individual application or a joint application with two co-borrowers  \n",
       "7                                                                                                                                                                               Average current balance of all accounts  \n",
       "8                                                                                                                                                                             Total open to buy on revolving bankcards.  \n",
       "9                                                                                                                                 Ratio of total current balance to high credit/credit limit for all bankcard accounts.  \n",
       "10                                                                                                                                                                               Number of charge-offs within 12 months  \n",
       "11                                                                                                                                                                                       post charge off collection fee  \n",
       "12                                                                                                                                                     Number of collections in 12 months excluding medical collections  \n",
       "13                                                                                                         The number of 30+ days past-due incidences of delinquency in the borrower's credit file for the past 2 years  \n",
       "14                                                                                                                                   The past-due amount owed for the accounts on which the borrower is now delinquent.  \n",
       "15                                                                                                                                                                            Loan description provided by the borrower  \n",
       "16             A ratio calculated using the borrower’s total monthly debt payments on the total debt obligations, excluding mortgage and the requested LC loan, divided by the borrower’s self-reported monthly income.  \n",
       "17   A ratio calculated using the co-borrowers' total monthly payments on the total debt obligations, excluding mortgages and the requested LC loan, divided by the co-borrowers' combined self-reported monthly income  \n",
       "18                                                                                                                                                    The month the borrower's earliest reported credit line was opened  \n",
       "19                                                                                   Employment length in years. Possible values are between 0 and 10 where 0 means less than one year and 10 means ten or more years.   \n",
       "20                                                                                                                                                  The job title supplied by the Borrower when applying for the loan.*  \n",
       "21                                                                                                                                         The upper boundary range the borrower’s FICO at loan origination belongs to.  \n",
       "22                                                                                                                                         The lower boundary range the borrower’s FICO at loan origination belongs to.  \n",
       "23                                                                                                                                                       The total amount committed to that loan at that point in time.  \n",
       "24                                                                                                                                         The total amount committed by investors for that loan at that point in time.  \n",
       "25                                                                                                                                                                                               LC assigned loan grade  \n",
       "26                                                                                                  The home ownership status provided by the borrower during registration. Our values are: RENT, OWN, MORTGAGE, OTHER.  \n",
       "27                                                                                                                                                                        A unique LC assigned ID for the loan listing.  \n",
       "28                                                                                                                                       Ratio of total current balance to high credit/credit limit on all install acct  \n",
       "29                                                                                                                                                   The initial listing status of the loan. Possible values are – W, F  \n",
       "30                                                                                                                                                                                 Number of personal finance inquiries  \n",
       "31                                                                                                                                                                         Number of credit inquiries in past 12 months  \n",
       "32                                                                                                                                     The number of inquiries in past 6 months (excluding auto and mortgage inquiries)  \n",
       "33                                                                                                                                                     The monthly payment owed by the borrower if the loan originates.  \n",
       "34                                                                                                                                                                                            Interest Rate on the loan  \n",
       "35                                                                                                                                                                                  The month which the loan was funded  \n",
       "36                                                                                                                                                                 The most recent month LC pulled credit for this loan  \n",
       "37                                                                                                                                                 The upper boundary range the borrower’s last FICO pulled belongs to.  \n",
       "38                                                                                                                                                 The lower boundary range the borrower’s last FICO pulled belongs to.  \n",
       "39                                                                                                                                                                                   Last total payment amount received  \n",
       "40                                                                                                                                                                                      Last month payment was received  \n",
       "41                                         The listed amount of the loan applied for by the borrower. If at some point in time, the credit department reduces the loan amount, then it will be reflected in this value.  \n",
       "42                                                                                                                                                                                           Current status of the loan  \n",
       "43                                                                                                                                                               Maximum current balance owed on all revolving accounts  \n",
       "44                                                                                                                                                                     A unique LC assigned Id for the borrower member.  \n",
       "45                                                                                                                                                                  Months since oldest bank installment account opened  \n",
       "46                                                                                                                                                                         Months since oldest revolving account opened  \n",
       "47                                                                                                                                                                    Months since most recent revolving account opened  \n",
       "48                                                                                                                                                                              Months since most recent account opened  \n",
       "49                                                                                                                                                                                         Number of mortgage accounts.  \n",
       "50                                                                                                                                                          The number of months since the borrower's last delinquency.  \n",
       "51                                                                                                                                                                      Months since most recent 90-day or worse rating  \n",
       "52                                                                                                                                                                   The number of months since the last public record.  \n",
       "53                                                                                                                                                                 Months since most recent installment accounts opened  \n",
       "54                                                                                                                                                                    Months since most recent bankcard account opened.  \n",
       "55                                                                                                                                                                        Months since most recent bankcard delinquency  \n",
       "56                                                                                                                                                                                    Months since most recent inquiry.  \n",
       "57                                                                                                                                                                      Months since most recent revolving delinquency.  \n",
       "58                                                                                                                                                                                          Next scheduled payment date  \n",
       "59                                                                                                                                                                    Number of accounts ever 120 or more days past due  \n",
       "60                                                                                                                                                                         Number of currently active bankcard accounts  \n",
       "61                                                                                                                                                                          Number of currently active revolving trades  \n",
       "62                                                                                                                                                                             Number of satisfactory bankcard accounts  \n",
       "63                                                                                                                                                                                          Number of bankcard accounts  \n",
       "64                                                                                                                                                                                       Number of installment accounts  \n",
       "65                                                                                                                                                                                    Number of open revolving accounts  \n",
       "66                                                                                                                                                                                         Number of revolving accounts  \n",
       "67                                                                                                                                                                           Number of revolving trades with balance >0  \n",
       "68                                                                                                                                                                                      Number of satisfactory accounts  \n",
       "69                                                                                                                                            Number of accounts currently 120 days past due (updated in past 2 months)  \n",
       "70                                                                                                                                             Number of accounts currently 30 days past due (updated in past 2 months)  \n",
       "71                                                                                                                                                        Number of accounts 90 or more days past due in last 24 months  \n",
       "72                                                                                                                                                                          Number of accounts opened in past 12 months  \n",
       "73                                                                                                                                                       The number of open credit lines in the borrower's credit file.  \n",
       "74                                                                                                                                                                               Number of open trades in last 6 months  \n",
       "75                                                                                                                                                              Number of installment accounts opened in past 12 months  \n",
       "76                                                                                                                                                              Number of installment accounts opened in past 24 months  \n",
       "77                                                                                                                                                                        Number of currently active installment trades  \n",
       "78                                                                                                                                                                  Number of revolving trades opened in past 12 months  \n",
       "79                                                                                                                                                                  Number of revolving trades opened in past 24 months  \n",
       "80                                                                                                                                                              Remaining outstanding principal for total amount funded  \n",
       "81                                                                                                                                      Remaining outstanding principal for portion of total amount funded by investors  \n",
       "82                                                                                                                                                                                   Percent of trades never delinquent  \n",
       "83                                                                                                                                                                  Percentage of all bankcard accounts > 75% of limit.  \n",
       "84                                                                                                                                  publicly available policy_code=1\\nnew products not publicly available policy_code=2  \n",
       "85                                                                                                                                                                                  Number of derogatory public records  \n",
       "86                                                                                                                                                                                 Number of public record bankruptcies  \n",
       "87                                                                                                                                                           A category provided by the borrower for the loan request.   \n",
       "88                                                                                                                                                       Indicates if a payment plan has been put in place for the loan  \n",
       "89                                                                                                                                                                                       post charge off gross recovery  \n",
       "90                                                                                                                                                                                       Total credit revolving balance  \n",
       "91                                                                                           Revolving line utilization rate, or the amount of credit the borrower is using relative to all available revolving credit.  \n",
       "92                                                                                                                                                                                            LC assigned loan subgrade  \n",
       "93                                                                                                                                                                                                  Number of tax liens  \n",
       "94                                                                                                                                 The number of payments on the loan. Values are in months and can be either 36 or 60.  \n",
       "95                                                                                                                                                                              The loan title provided by the borrower  \n",
       "96                                                                                                                                                                                   Total collection amounts ever owed  \n",
       "97                                                                                                                                                                                Total current balance of all accounts  \n",
       "98                                                                                                                                                                                       Total high credit/credit limit  \n",
       "99                                                                                                                                             The total number of credit lines currently in the borrower's credit file  \n",
       "100                                                                                                                                                                             Total credit balance excluding mortgage  \n",
       "101                                                                                                                                                                   Total current balance of all installment accounts  \n",
       "102                                                                                                                                                                             Total bankcard high credit/credit limit  \n",
       "103                                                                                                                                                                                            Number of finance trades  \n",
       "104                                                                                                                                                                          Total installment high credit/credit limit  \n",
       "105                                                                                                                                                                   Payments received to date for total amount funded  \n",
       "106                                                                                                                                           Payments received to date for portion of total amount funded by investors  \n",
       "107                                                                                                                                                                                           Interest received to date  \n",
       "108                                                                                                                                                                                          Late fees received to date  \n",
       "109                                                                                                                                                                                          Principal received to date  \n",
       "110                                                                                                                                                                            Total revolving high credit/credit limit  \n",
       "111                                                                                                                                                                              URL for the LC page with listing data.  \n",
       "112                                                                                                                          Indicates if income was verified by LC, not verified, or if the income source was verified  \n",
       "113                                                                                                  Indicates if the co-borrowers' joint income was verified by LC, not verified, or if the income source was verified  \n",
       "114                                                                                                                               The first 3 numbers of the zip code provided by the borrower in the loan application.  \n",
       "115                                                                                                                                                                                                                 NaN  \n",
       "116                                                                                                                                        * Employer Title replaces Employer Name for all loans listed after 9/23/2013  "
      ]
     },
     "execution_count": 294,
     "metadata": {},
     "output_type": "execute_result"
    }
   ],
   "source": [
    "#pd.set_option('display.max_rows', None)\n",
    "pd.set_option('display.max_colwidth', None)\n",
    "pd.set_option('display.max_columns', None)\n",
    "\n",
    "pd.read_excel(\"Data_Dictionary.xlsx\", header=0)"
   ]
  },
  {
   "cell_type": "markdown",
   "id": "f2861052",
   "metadata": {},
   "source": [
    "#### Load -  `loan.csv`"
   ]
  },
  {
   "cell_type": "code",
   "execution_count": 295,
   "id": "62711283",
   "metadata": {},
   "outputs": [],
   "source": [
    "loan = pd.read_csv('loan.csv', dtype={'next_pymnt_d': object})"
   ]
  },
  {
   "cell_type": "markdown",
   "id": "0f1810e8",
   "metadata": {},
   "source": [
    "## Data Understanding"
   ]
  },
  {
   "cell_type": "code",
   "execution_count": 296,
   "id": "07d03c56",
   "metadata": {},
   "outputs": [
    {
     "name": "stdout",
     "output_type": "stream",
     "text": [
      "<class 'pandas.core.frame.DataFrame'>\n",
      "RangeIndex: 39717 entries, 0 to 39716\n",
      "Columns: 111 entries, id to total_il_high_credit_limit\n",
      "dtypes: float64(74), int64(13), object(24)\n",
      "memory usage: 33.6+ MB\n",
      "None\n"
     ]
    }
   ],
   "source": [
    "print(loan.info())"
   ]
  },
  {
   "cell_type": "code",
   "execution_count": 297,
   "id": "510b0221",
   "metadata": {},
   "outputs": [
    {
     "name": "stdout",
     "output_type": "stream",
     "text": [
      "(39717, 111)\n"
     ]
    }
   ],
   "source": [
    "print(loan.shape)"
   ]
  },
  {
   "cell_type": "code",
   "execution_count": 298,
   "id": "3b43b065",
   "metadata": {},
   "outputs": [
    {
     "name": "stdout",
     "output_type": "stream",
     "text": [
      "Index(['id', 'member_id', 'loan_amnt', 'funded_amnt', 'funded_amnt_inv',\n",
      "       'term', 'int_rate', 'installment', 'grade', 'sub_grade',\n",
      "       ...\n",
      "       'num_tl_90g_dpd_24m', 'num_tl_op_past_12m', 'pct_tl_nvr_dlq',\n",
      "       'percent_bc_gt_75', 'pub_rec_bankruptcies', 'tax_liens',\n",
      "       'tot_hi_cred_lim', 'total_bal_ex_mort', 'total_bc_limit',\n",
      "       'total_il_high_credit_limit'],\n",
      "      dtype='object', length=111)\n"
     ]
    }
   ],
   "source": [
    "print(loan.columns)"
   ]
  },
  {
   "cell_type": "markdown",
   "id": "e9cdc45a",
   "metadata": {},
   "source": [
    "## Data Cleaning"
   ]
  },
  {
   "cell_type": "markdown",
   "id": "469fe4ca",
   "metadata": {},
   "source": [
    "#### Step 1 - Remove Nulls columns over 90%"
   ]
  },
  {
   "cell_type": "code",
   "execution_count": 299,
   "id": "2d00faee",
   "metadata": {},
   "outputs": [
    {
     "data": {
      "text/plain": [
       "id                                  0.000000\n",
       "member_id                           0.000000\n",
       "loan_amnt                           0.000000\n",
       "funded_amnt                         0.000000\n",
       "funded_amnt_inv                     0.000000\n",
       "term                                0.000000\n",
       "int_rate                            0.000000\n",
       "installment                         0.000000\n",
       "grade                               0.000000\n",
       "sub_grade                           0.000000\n",
       "emp_title                           6.191303\n",
       "emp_length                          2.706650\n",
       "home_ownership                      0.000000\n",
       "annual_inc                          0.000000\n",
       "verification_status                 0.000000\n",
       "issue_d                             0.000000\n",
       "loan_status                         0.000000\n",
       "pymnt_plan                          0.000000\n",
       "url                                 0.000000\n",
       "desc                               32.580507\n",
       "purpose                             0.000000\n",
       "title                               0.027696\n",
       "zip_code                            0.000000\n",
       "addr_state                          0.000000\n",
       "dti                                 0.000000\n",
       "delinq_2yrs                         0.000000\n",
       "earliest_cr_line                    0.000000\n",
       "inq_last_6mths                      0.000000\n",
       "mths_since_last_delinq             64.662487\n",
       "mths_since_last_record             92.985372\n",
       "open_acc                            0.000000\n",
       "pub_rec                             0.000000\n",
       "revol_bal                           0.000000\n",
       "revol_util                          0.125891\n",
       "total_acc                           0.000000\n",
       "initial_list_status                 0.000000\n",
       "out_prncp                           0.000000\n",
       "out_prncp_inv                       0.000000\n",
       "total_pymnt                         0.000000\n",
       "total_pymnt_inv                     0.000000\n",
       "total_rec_prncp                     0.000000\n",
       "total_rec_int                       0.000000\n",
       "total_rec_late_fee                  0.000000\n",
       "recoveries                          0.000000\n",
       "collection_recovery_fee             0.000000\n",
       "last_pymnt_d                        0.178765\n",
       "last_pymnt_amnt                     0.000000\n",
       "next_pymnt_d                       97.129693\n",
       "last_credit_pull_d                  0.005036\n",
       "collections_12_mths_ex_med          0.140998\n",
       "mths_since_last_major_derog       100.000000\n",
       "policy_code                         0.000000\n",
       "application_type                    0.000000\n",
       "annual_inc_joint                  100.000000\n",
       "dti_joint                         100.000000\n",
       "verification_status_joint         100.000000\n",
       "acc_now_delinq                      0.000000\n",
       "tot_coll_amt                      100.000000\n",
       "tot_cur_bal                       100.000000\n",
       "open_acc_6m                       100.000000\n",
       "open_il_6m                        100.000000\n",
       "open_il_12m                       100.000000\n",
       "open_il_24m                       100.000000\n",
       "mths_since_rcnt_il                100.000000\n",
       "total_bal_il                      100.000000\n",
       "il_util                           100.000000\n",
       "open_rv_12m                       100.000000\n",
       "open_rv_24m                       100.000000\n",
       "max_bal_bc                        100.000000\n",
       "all_util                          100.000000\n",
       "total_rev_hi_lim                  100.000000\n",
       "inq_fi                            100.000000\n",
       "total_cu_tl                       100.000000\n",
       "inq_last_12m                      100.000000\n",
       "acc_open_past_24mths              100.000000\n",
       "avg_cur_bal                       100.000000\n",
       "bc_open_to_buy                    100.000000\n",
       "bc_util                           100.000000\n",
       "chargeoff_within_12_mths            0.140998\n",
       "delinq_amnt                         0.000000\n",
       "mo_sin_old_il_acct                100.000000\n",
       "mo_sin_old_rev_tl_op              100.000000\n",
       "mo_sin_rcnt_rev_tl_op             100.000000\n",
       "mo_sin_rcnt_tl                    100.000000\n",
       "mort_acc                          100.000000\n",
       "mths_since_recent_bc              100.000000\n",
       "mths_since_recent_bc_dlq          100.000000\n",
       "mths_since_recent_inq             100.000000\n",
       "mths_since_recent_revol_delinq    100.000000\n",
       "num_accts_ever_120_pd             100.000000\n",
       "num_actv_bc_tl                    100.000000\n",
       "num_actv_rev_tl                   100.000000\n",
       "num_bc_sats                       100.000000\n",
       "num_bc_tl                         100.000000\n",
       "num_il_tl                         100.000000\n",
       "num_op_rev_tl                     100.000000\n",
       "num_rev_accts                     100.000000\n",
       "num_rev_tl_bal_gt_0               100.000000\n",
       "num_sats                          100.000000\n",
       "num_tl_120dpd_2m                  100.000000\n",
       "num_tl_30dpd                      100.000000\n",
       "num_tl_90g_dpd_24m                100.000000\n",
       "num_tl_op_past_12m                100.000000\n",
       "pct_tl_nvr_dlq                    100.000000\n",
       "percent_bc_gt_75                  100.000000\n",
       "pub_rec_bankruptcies                1.754916\n",
       "tax_liens                           0.098195\n",
       "tot_hi_cred_lim                   100.000000\n",
       "total_bal_ex_mort                 100.000000\n",
       "total_bc_limit                    100.000000\n",
       "total_il_high_credit_limit        100.000000\n",
       "dtype: float64"
      ]
     },
     "execution_count": 299,
     "metadata": {},
     "output_type": "execute_result"
    }
   ],
   "source": [
    "#Checking Null Values in percentage across the columns\n",
    "loan.isna().sum()*100/len(loan)"
   ]
  },
  {
   "cell_type": "code",
   "execution_count": 300,
   "id": "79ecb3d2",
   "metadata": {},
   "outputs": [],
   "source": [
    "loan = loan.loc[:, loan.isna().sum() < len(loan)*.9]"
   ]
  },
  {
   "cell_type": "code",
   "execution_count": 301,
   "id": "0895c041",
   "metadata": {},
   "outputs": [
    {
     "data": {
      "text/plain": [
       "(39717, 55)"
      ]
     },
     "execution_count": 301,
     "metadata": {},
     "output_type": "execute_result"
    }
   ],
   "source": [
    "loan.shape"
   ]
  },
  {
   "cell_type": "code",
   "execution_count": 302,
   "id": "fe6bb36e",
   "metadata": {},
   "outputs": [
    {
     "data": {
      "text/plain": [
       "Index(['id', 'member_id', 'loan_amnt', 'funded_amnt', 'funded_amnt_inv',\n",
       "       'term', 'int_rate', 'installment', 'grade', 'sub_grade', 'emp_title',\n",
       "       'emp_length', 'home_ownership', 'annual_inc', 'verification_status',\n",
       "       'issue_d', 'loan_status', 'pymnt_plan', 'url', 'desc', 'purpose',\n",
       "       'title', 'zip_code', 'addr_state', 'dti', 'delinq_2yrs',\n",
       "       'earliest_cr_line', 'inq_last_6mths', 'mths_since_last_delinq',\n",
       "       'open_acc', 'pub_rec', 'revol_bal', 'revol_util', 'total_acc',\n",
       "       'initial_list_status', 'out_prncp', 'out_prncp_inv', 'total_pymnt',\n",
       "       'total_pymnt_inv', 'total_rec_prncp', 'total_rec_int',\n",
       "       'total_rec_late_fee', 'recoveries', 'collection_recovery_fee',\n",
       "       'last_pymnt_d', 'last_pymnt_amnt', 'last_credit_pull_d',\n",
       "       'collections_12_mths_ex_med', 'policy_code', 'application_type',\n",
       "       'acc_now_delinq', 'chargeoff_within_12_mths', 'delinq_amnt',\n",
       "       'pub_rec_bankruptcies', 'tax_liens'],\n",
       "      dtype='object')"
      ]
     },
     "execution_count": 302,
     "metadata": {},
     "output_type": "execute_result"
    }
   ],
   "source": [
    "loan.columns"
   ]
  },
  {
   "cell_type": "markdown",
   "id": "50ad7612",
   "metadata": {},
   "source": [
    "#### Step 2: Remove duplicates based on ID column"
   ]
  },
  {
   "cell_type": "code",
   "execution_count": 303,
   "id": "45d70e36",
   "metadata": {},
   "outputs": [
    {
     "data": {
      "text/plain": [
       "False"
      ]
     },
     "execution_count": 303,
     "metadata": {},
     "output_type": "execute_result"
    }
   ],
   "source": [
    "loan['id'].duplicated().any() # No Duplicates"
   ]
  },
  {
   "cell_type": "markdown",
   "id": "f4be40f9",
   "metadata": {},
   "source": [
    "#### Step 3 - Dropping Column with constant or unexplained values."
   ]
  },
  {
   "cell_type": "code",
   "execution_count": 304,
   "id": "7f6b18fb",
   "metadata": {},
   "outputs": [],
   "source": [
    "loan.drop([\"id\", \"member_id\", \"grade\", \"sub_grade\", \"emp_title\", \"pymnt_plan\", \"url\",\n",
    "          \"desc\", \"purpose\", \"title\", \"delinq_2yrs\", \"earliest_cr_line\", \"mths_since_last_delinq\",\n",
    "          \"revol_bal\", \"revol_util\", \"total_pymnt_inv\", \"initial_list_status\", \"out_prncp\", \"out_prncp_inv\",\n",
    "          \"total_pymnt\", \"total_pymnt_inv\", \"total_rec_prncp\", \"total_rec_int\", \"total_rec_late_fee\", \n",
    "          \"recoveries\", \"collection_recovery_fee\", \"last_pymnt_d\", \"last_pymnt_amnt\", \"last_credit_pull_d\",\n",
    "          \"collections_12_mths_ex_med\", \"policy_code\", \"application_type\", \"acc_now_delinq\", \"chargeoff_within_12_mths\",\n",
    "          \"delinq_amnt\", \"tax_liens\", \"zip_code\"],axis = 1, inplace=True)"
   ]
  },
  {
   "cell_type": "code",
   "execution_count": 305,
   "id": "78f0595a",
   "metadata": {},
   "outputs": [
    {
     "data": {
      "text/plain": [
       "(39717, 19)"
      ]
     },
     "execution_count": 305,
     "metadata": {},
     "output_type": "execute_result"
    }
   ],
   "source": [
    "loan.shape"
   ]
  },
  {
   "cell_type": "code",
   "execution_count": 306,
   "id": "e6be9645",
   "metadata": {},
   "outputs": [
    {
     "data": {
      "text/plain": [
       "Index(['loan_amnt', 'funded_amnt', 'funded_amnt_inv', 'term', 'int_rate',\n",
       "       'installment', 'emp_length', 'home_ownership', 'annual_inc',\n",
       "       'verification_status', 'issue_d', 'loan_status', 'addr_state', 'dti',\n",
       "       'inq_last_6mths', 'open_acc', 'pub_rec', 'total_acc',\n",
       "       'pub_rec_bankruptcies'],\n",
       "      dtype='object')"
      ]
     },
     "execution_count": 306,
     "metadata": {},
     "output_type": "execute_result"
    }
   ],
   "source": [
    "loan.columns"
   ]
  },
  {
   "cell_type": "code",
   "execution_count": 307,
   "id": "707bb2cc",
   "metadata": {},
   "outputs": [],
   "source": [
    "# \"funded_amnt\", \"funded_amnt_inv\" coluns to \"loan_amnt\"\n",
    "loan.drop([\"funded_amnt\", \"funded_amnt_inv\"] ,axis = 1, inplace=True)"
   ]
  },
  {
   "cell_type": "code",
   "execution_count": 308,
   "id": "3384118c",
   "metadata": {},
   "outputs": [
    {
     "data": {
      "text/plain": [
       "(39717, 17)"
      ]
     },
     "execution_count": 308,
     "metadata": {},
     "output_type": "execute_result"
    }
   ],
   "source": [
    "loan.shape"
   ]
  },
  {
   "cell_type": "markdown",
   "id": "df100a55",
   "metadata": {},
   "source": [
    "#### Step 4 - Removing rows `loan_status` == `Current`"
   ]
  },
  {
   "cell_type": "code",
   "execution_count": 309,
   "id": "b796e0fa",
   "metadata": {},
   "outputs": [
    {
     "name": "stdout",
     "output_type": "stream",
     "text": [
      "Fully Paid     32950\n",
      "Charged Off     5627\n",
      "Current         1140\n",
      "Name: loan_status, dtype: int64\n"
     ]
    }
   ],
   "source": [
    "print(loan[\"loan_status\"].value_counts())"
   ]
  },
  {
   "cell_type": "code",
   "execution_count": 310,
   "id": "fae00780",
   "metadata": {},
   "outputs": [],
   "source": [
    "loan = loan[loan[\"loan_status\"] != 'Current']"
   ]
  },
  {
   "cell_type": "code",
   "execution_count": 311,
   "id": "e06b08e1",
   "metadata": {},
   "outputs": [
    {
     "data": {
      "text/plain": [
       "(38577, 17)"
      ]
     },
     "execution_count": 311,
     "metadata": {},
     "output_type": "execute_result"
    }
   ],
   "source": [
    "loan.shape"
   ]
  },
  {
   "cell_type": "markdown",
   "id": "f9ed642b",
   "metadata": {},
   "source": [
    "#### Step 5 - Fixing `term` column (Removing `month`)"
   ]
  },
  {
   "cell_type": "code",
   "execution_count": 312,
   "id": "77400a28",
   "metadata": {},
   "outputs": [
    {
     "data": {
      "text/plain": [
       "array([' 36 months', ' 60 months'], dtype=object)"
      ]
     },
     "execution_count": 312,
     "metadata": {},
     "output_type": "execute_result"
    }
   ],
   "source": [
    "loan.term.unique()"
   ]
  },
  {
   "cell_type": "code",
   "execution_count": 313,
   "id": "9c6c519c",
   "metadata": {},
   "outputs": [],
   "source": [
    "loan.term = loan.term.apply(lambda x: int(x.replace(\" months\", \"\")))"
   ]
  },
  {
   "cell_type": "code",
   "execution_count": 314,
   "id": "e820702a",
   "metadata": {},
   "outputs": [
    {
     "data": {
      "text/plain": [
       "36    29096\n",
       "60     9481\n",
       "Name: term, dtype: int64"
      ]
     },
     "execution_count": 314,
     "metadata": {},
     "output_type": "execute_result"
    }
   ],
   "source": [
    "loan.term.value_counts()"
   ]
  },
  {
   "cell_type": "markdown",
   "id": "42370d69",
   "metadata": {},
   "source": [
    "#### Step 5 - Fixing `int_rate` column (Removing `%`)"
   ]
  },
  {
   "cell_type": "code",
   "execution_count": 315,
   "id": "4782ab0c",
   "metadata": {},
   "outputs": [],
   "source": [
    "loan.int_rate = loan.int_rate.apply(lambda x: float(x[:-1]))"
   ]
  },
  {
   "cell_type": "code",
   "execution_count": 316,
   "id": "5f577546",
   "metadata": {},
   "outputs": [
    {
     "data": {
      "text/plain": [
       "0    10.65\n",
       "1    15.27\n",
       "2    15.96\n",
       "3    13.49\n",
       "5     7.90\n",
       "Name: int_rate, dtype: float64"
      ]
     },
     "execution_count": 316,
     "metadata": {},
     "output_type": "execute_result"
    }
   ],
   "source": [
    "loan.int_rate.head()"
   ]
  },
  {
   "cell_type": "markdown",
   "id": "b69a6673",
   "metadata": {},
   "source": [
    "#### Step 6 - Fixing column `emp_length` (removing `years` and `+`)  "
   ]
  },
  {
   "cell_type": "code",
   "execution_count": 317,
   "id": "62fc9319",
   "metadata": {},
   "outputs": [
    {
     "data": {
      "text/plain": [
       "array(['10+ years', '< 1 year', '3 years', '8 years', '9 years',\n",
       "       '4 years', '5 years', '1 year', '6 years', '2 years', '7 years',\n",
       "       nan], dtype=object)"
      ]
     },
     "execution_count": 317,
     "metadata": {},
     "output_type": "execute_result"
    }
   ],
   "source": [
    "loan.emp_length.unique()"
   ]
  },
  {
   "cell_type": "code",
   "execution_count": 318,
   "id": "77742fba",
   "metadata": {},
   "outputs": [],
   "source": [
    "loan.emp_length = loan.emp_length.astype('str')"
   ]
  },
  {
   "cell_type": "code",
   "execution_count": 319,
   "id": "2a6f8397",
   "metadata": {},
   "outputs": [],
   "source": [
    "loan.emp_length = loan.emp_length.apply(lambda x: x.strip(\" years\"))"
   ]
  },
  {
   "cell_type": "code",
   "execution_count": 320,
   "id": "f3b26c99",
   "metadata": {},
   "outputs": [
    {
     "data": {
      "text/plain": [
       "array(['10+', '< 1', '3', '8', '9', '4', '5', '1', '6', '2', '7', 'nan'],\n",
       "      dtype=object)"
      ]
     },
     "execution_count": 320,
     "metadata": {},
     "output_type": "execute_result"
    }
   ],
   "source": [
    "loan.emp_length.unique()"
   ]
  },
  {
   "cell_type": "code",
   "execution_count": 321,
   "id": "75fc38e8",
   "metadata": {},
   "outputs": [],
   "source": [
    "def clean(input):\n",
    "    if \"nan\" in input:\n",
    "        return int(-1)\n",
    "    elif \"+\" in input:\n",
    "        return int(input.replace(\"+\", \"\"))\n",
    "    elif \"<\" in input:\n",
    "        return int(input.replace(\"< \", \"\"))\n",
    "    else:\n",
    "        return int(input)\n",
    "\n",
    "loan.emp_length = loan.emp_length.apply(clean)"
   ]
  },
  {
   "cell_type": "code",
   "execution_count": 322,
   "id": "f081bb01",
   "metadata": {},
   "outputs": [
    {
     "data": {
      "text/plain": [
       "array([10,  1,  3,  8,  9,  4,  5,  6,  2,  7, -1])"
      ]
     },
     "execution_count": 322,
     "metadata": {},
     "output_type": "execute_result"
    }
   ],
   "source": [
    "loan.emp_length.unique()"
   ]
  },
  {
   "cell_type": "code",
   "execution_count": 323,
   "id": "a3303276",
   "metadata": {},
   "outputs": [
    {
     "data": {
      "text/plain": [
       "array(['Verified', 'Source Verified', 'Not Verified'], dtype=object)"
      ]
     },
     "execution_count": 323,
     "metadata": {},
     "output_type": "execute_result"
    }
   ],
   "source": [
    "loan.verification_status.unique()"
   ]
  },
  {
   "cell_type": "code",
   "execution_count": 324,
   "id": "2c22717f",
   "metadata": {},
   "outputs": [
    {
     "data": {
      "text/plain": [
       "array(['RENT', 'OWN', 'MORTGAGE', 'OTHER', 'NONE'], dtype=object)"
      ]
     },
     "execution_count": 324,
     "metadata": {},
     "output_type": "execute_result"
    }
   ],
   "source": [
    "loan.home_ownership.unique()"
   ]
  },
  {
   "cell_type": "code",
   "execution_count": 325,
   "id": "41da04e0",
   "metadata": {},
   "outputs": [
    {
     "data": {
      "text/plain": [
       "array(['Fully Paid', 'Charged Off'], dtype=object)"
      ]
     },
     "execution_count": 325,
     "metadata": {},
     "output_type": "execute_result"
    }
   ],
   "source": [
    "loan.loan_status.unique()"
   ]
  },
  {
   "cell_type": "markdown",
   "id": "5e76827e",
   "metadata": {},
   "source": [
    "#### Step 7 - Deriving `issue_month` and `issue_year` from `issue_d`"
   ]
  },
  {
   "cell_type": "code",
   "execution_count": 332,
   "id": "1d9dbf82",
   "metadata": {},
   "outputs": [],
   "source": [
    "from datetime import datetime\n",
    "loan[\"issued_month\"] = pd.DatetimeIndex(loan.issue_d.apply(lambda x : datetime.strptime(x, '%b-%y'))).month"
   ]
  },
  {
   "cell_type": "code",
   "execution_count": 333,
   "id": "1836c1c6",
   "metadata": {},
   "outputs": [
    {
     "data": {
      "text/plain": [
       "Int64Index([12, 11, 10, 9, 8, 7, 6, 5, 4, 3, 2, 1], dtype='int64', name='issue_d')"
      ]
     },
     "execution_count": 333,
     "metadata": {},
     "output_type": "execute_result"
    }
   ],
   "source": [
    "loan.issued_month.unique()"
   ]
  },
  {
   "cell_type": "code",
   "execution_count": 335,
   "id": "9f05672e",
   "metadata": {},
   "outputs": [],
   "source": [
    "loan[\"issued_year\"] = pd.DatetimeIndex(loan.issue_d.apply(lambda x : datetime.strptime(x, '%b-%y'))).year"
   ]
  },
  {
   "cell_type": "code",
   "execution_count": 336,
   "id": "99904dc1",
   "metadata": {},
   "outputs": [
    {
     "data": {
      "text/plain": [
       "array([2011, 2010, 2009, 2008, 2007])"
      ]
     },
     "execution_count": 336,
     "metadata": {},
     "output_type": "execute_result"
    }
   ],
   "source": [
    "loan.issued_year.unique()"
   ]
  },
  {
   "cell_type": "code",
   "execution_count": 338,
   "id": "b8eff5b1",
   "metadata": {},
   "outputs": [],
   "source": [
    "loan.drop([\"issue_d\"] ,axis = 1, inplace=True)"
   ]
  },
  {
   "cell_type": "code",
   "execution_count": 339,
   "id": "5ab3122f",
   "metadata": {},
   "outputs": [
    {
     "data": {
      "text/plain": [
       "Index(['loan_amnt', 'term', 'int_rate', 'installment', 'emp_length',\n",
       "       'home_ownership', 'annual_inc', 'verification_status', 'loan_status',\n",
       "       'addr_state', 'dti', 'inq_last_6mths', 'open_acc', 'pub_rec',\n",
       "       'total_acc', 'pub_rec_bankruptcies', 'issued_month', 'issued_year'],\n",
       "      dtype='object')"
      ]
     },
     "execution_count": 339,
     "metadata": {},
     "output_type": "execute_result"
    }
   ],
   "source": [
    "loan.columns"
   ]
  },
  {
   "cell_type": "code",
   "execution_count": null,
   "id": "0a3613d0",
   "metadata": {},
   "outputs": [],
   "source": []
  }
 ],
 "metadata": {
  "kernelspec": {
   "display_name": "Python 3 (ipykernel)",
   "language": "python",
   "name": "python3"
  },
  "language_info": {
   "codemirror_mode": {
    "name": "ipython",
    "version": 3
   },
   "file_extension": ".py",
   "mimetype": "text/x-python",
   "name": "python",
   "nbconvert_exporter": "python",
   "pygments_lexer": "ipython3",
   "version": "3.9.13"
  }
 },
 "nbformat": 4,
 "nbformat_minor": 5
}
