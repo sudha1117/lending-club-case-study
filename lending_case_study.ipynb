{
 "cells": [
  {
   "cell_type": "markdown",
   "id": "a9acb6d4",
   "metadata": {},
   "source": [
    "# LENDING CLUB CASE STUDY"
   ]
  },
  {
   "cell_type": "code",
   "execution_count": 625,
   "id": "af04cce3",
   "metadata": {},
   "outputs": [],
   "source": [
    "import pandas as pd\n",
    "import numpy as np\n",
    "import matplotlib.pyplot as plt\n",
    "import seaborn as sns\n",
    "import warnings\n",
    "warnings.filterwarnings('ignore')"
   ]
  },
  {
   "cell_type": "markdown",
   "id": "e4eb6f3c",
   "metadata": {},
   "source": [
    "## 1. Data Sourcing"
   ]
  },
  {
   "cell_type": "markdown",
   "id": "669e2cdd",
   "metadata": {},
   "source": [
    "#### Load `Data_Dictionary.xlsx`"
   ]
  },
  {
   "cell_type": "code",
   "execution_count": 626,
   "id": "1f4191c0",
   "metadata": {},
   "outputs": [
    {
     "data": {
      "text/html": [
       "<div>\n",
       "<style scoped>\n",
       "    .dataframe tbody tr th:only-of-type {\n",
       "        vertical-align: middle;\n",
       "    }\n",
       "\n",
       "    .dataframe tbody tr th {\n",
       "        vertical-align: top;\n",
       "    }\n",
       "\n",
       "    .dataframe thead th {\n",
       "        text-align: right;\n",
       "    }\n",
       "</style>\n",
       "<table border=\"1\" class=\"dataframe\">\n",
       "  <thead>\n",
       "    <tr style=\"text-align: right;\">\n",
       "      <th></th>\n",
       "      <th>LoanStatNew</th>\n",
       "      <th>Description</th>\n",
       "    </tr>\n",
       "  </thead>\n",
       "  <tbody>\n",
       "    <tr>\n",
       "      <th>0</th>\n",
       "      <td>acc_now_delinq</td>\n",
       "      <td>The number of accounts on which the borrower is now delinquent.</td>\n",
       "    </tr>\n",
       "    <tr>\n",
       "      <th>1</th>\n",
       "      <td>acc_open_past_24mths</td>\n",
       "      <td>Number of trades opened in past 24 months.</td>\n",
       "    </tr>\n",
       "    <tr>\n",
       "      <th>2</th>\n",
       "      <td>addr_state</td>\n",
       "      <td>The state provided by the borrower in the loan application</td>\n",
       "    </tr>\n",
       "    <tr>\n",
       "      <th>3</th>\n",
       "      <td>all_util</td>\n",
       "      <td>Balance to credit limit on all trades</td>\n",
       "    </tr>\n",
       "    <tr>\n",
       "      <th>4</th>\n",
       "      <td>annual_inc</td>\n",
       "      <td>The self-reported annual income provided by the borrower during registration.</td>\n",
       "    </tr>\n",
       "    <tr>\n",
       "      <th>...</th>\n",
       "      <td>...</td>\n",
       "      <td>...</td>\n",
       "    </tr>\n",
       "    <tr>\n",
       "      <th>112</th>\n",
       "      <td>verification_status</td>\n",
       "      <td>Indicates if income was verified by LC, not verified, or if the income source was verified</td>\n",
       "    </tr>\n",
       "    <tr>\n",
       "      <th>113</th>\n",
       "      <td>verified_status_joint</td>\n",
       "      <td>Indicates if the co-borrowers' joint income was verified by LC, not verified, or if the income source was verified</td>\n",
       "    </tr>\n",
       "    <tr>\n",
       "      <th>114</th>\n",
       "      <td>zip_code</td>\n",
       "      <td>The first 3 numbers of the zip code provided by the borrower in the loan application.</td>\n",
       "    </tr>\n",
       "    <tr>\n",
       "      <th>115</th>\n",
       "      <td>NaN</td>\n",
       "      <td>NaN</td>\n",
       "    </tr>\n",
       "    <tr>\n",
       "      <th>116</th>\n",
       "      <td>NaN</td>\n",
       "      <td>* Employer Title replaces Employer Name for all loans listed after 9/23/2013</td>\n",
       "    </tr>\n",
       "  </tbody>\n",
       "</table>\n",
       "<p>117 rows × 2 columns</p>\n",
       "</div>"
      ],
      "text/plain": [
       "               LoanStatNew  \\\n",
       "0           acc_now_delinq   \n",
       "1     acc_open_past_24mths   \n",
       "2               addr_state   \n",
       "3                 all_util   \n",
       "4               annual_inc   \n",
       "..                     ...   \n",
       "112    verification_status   \n",
       "113  verified_status_joint   \n",
       "114               zip_code   \n",
       "115                    NaN   \n",
       "116                    NaN   \n",
       "\n",
       "                                                                                                            Description  \n",
       "0                                                       The number of accounts on which the borrower is now delinquent.  \n",
       "1                                                                            Number of trades opened in past 24 months.  \n",
       "2                                                            The state provided by the borrower in the loan application  \n",
       "3                                                                                 Balance to credit limit on all trades  \n",
       "4                                         The self-reported annual income provided by the borrower during registration.  \n",
       "..                                                                                                                  ...  \n",
       "112                          Indicates if income was verified by LC, not verified, or if the income source was verified  \n",
       "113  Indicates if the co-borrowers' joint income was verified by LC, not verified, or if the income source was verified  \n",
       "114                               The first 3 numbers of the zip code provided by the borrower in the loan application.  \n",
       "115                                                                                                                 NaN  \n",
       "116                                        * Employer Title replaces Employer Name for all loans listed after 9/23/2013  \n",
       "\n",
       "[117 rows x 2 columns]"
      ]
     },
     "execution_count": 626,
     "metadata": {},
     "output_type": "execute_result"
    }
   ],
   "source": [
    "#pd.set_option('display.max_rows', None)\n",
    "pd.set_option('display.max_colwidth', None)\n",
    "pd.set_option('display.max_columns', None)\n",
    "\n",
    "pd.read_excel(\"Data_Dictionary.xlsx\", header=0)"
   ]
  },
  {
   "cell_type": "markdown",
   "id": "d91de622",
   "metadata": {},
   "source": [
    "#### Load -  `loan.csv`"
   ]
  },
  {
   "cell_type": "code",
   "execution_count": 627,
   "id": "5bf0c92e",
   "metadata": {},
   "outputs": [],
   "source": [
    "loan = pd.read_csv('loan.csv', dtype={'next_pymnt_d': object})"
   ]
  },
  {
   "cell_type": "markdown",
   "id": "93604f32",
   "metadata": {},
   "source": [
    "## 2. Data Understanding"
   ]
  },
  {
   "cell_type": "code",
   "execution_count": 628,
   "id": "0002330a",
   "metadata": {},
   "outputs": [
    {
     "name": "stdout",
     "output_type": "stream",
     "text": [
      "<class 'pandas.core.frame.DataFrame'>\n",
      "RangeIndex: 39717 entries, 0 to 39716\n",
      "Columns: 111 entries, id to total_il_high_credit_limit\n",
      "dtypes: float64(74), int64(13), object(24)\n",
      "memory usage: 33.6+ MB\n",
      "None\n"
     ]
    }
   ],
   "source": [
    "print(loan.info())"
   ]
  },
  {
   "cell_type": "code",
   "execution_count": 629,
   "id": "11cd7e85",
   "metadata": {},
   "outputs": [
    {
     "name": "stdout",
     "output_type": "stream",
     "text": [
      "(39717, 111)\n"
     ]
    }
   ],
   "source": [
    "print(loan.shape)"
   ]
  },
  {
   "cell_type": "code",
   "execution_count": 630,
   "id": "c12a1dca",
   "metadata": {},
   "outputs": [
    {
     "name": "stdout",
     "output_type": "stream",
     "text": [
      "Index(['id', 'member_id', 'loan_amnt', 'funded_amnt', 'funded_amnt_inv',\n",
      "       'term', 'int_rate', 'installment', 'grade', 'sub_grade',\n",
      "       ...\n",
      "       'num_tl_90g_dpd_24m', 'num_tl_op_past_12m', 'pct_tl_nvr_dlq',\n",
      "       'percent_bc_gt_75', 'pub_rec_bankruptcies', 'tax_liens',\n",
      "       'tot_hi_cred_lim', 'total_bal_ex_mort', 'total_bc_limit',\n",
      "       'total_il_high_credit_limit'],\n",
      "      dtype='object', length=111)\n"
     ]
    }
   ],
   "source": [
    "print(loan.columns)"
   ]
  },
  {
   "cell_type": "markdown",
   "id": "a453f00c",
   "metadata": {},
   "source": [
    "## 3. Data Cleaning"
   ]
  },
  {
   "cell_type": "markdown",
   "id": "f5a33a02",
   "metadata": {},
   "source": [
    "#### Step 3.1 - Remove Nulls columns over 90%"
   ]
  },
  {
   "cell_type": "code",
   "execution_count": 631,
   "id": "63a68add",
   "metadata": {},
   "outputs": [
    {
     "data": {
      "text/plain": [
       "id                              0.000000\n",
       "member_id                       0.000000\n",
       "loan_amnt                       0.000000\n",
       "funded_amnt                     0.000000\n",
       "funded_amnt_inv                 0.000000\n",
       "                                 ...    \n",
       "tax_liens                       0.098195\n",
       "tot_hi_cred_lim               100.000000\n",
       "total_bal_ex_mort             100.000000\n",
       "total_bc_limit                100.000000\n",
       "total_il_high_credit_limit    100.000000\n",
       "Length: 111, dtype: float64"
      ]
     },
     "execution_count": 631,
     "metadata": {},
     "output_type": "execute_result"
    }
   ],
   "source": [
    "#Checking Null Values in percentage across the columns\n",
    "loan.isna().sum()*100/len(loan)"
   ]
  },
  {
   "cell_type": "code",
   "execution_count": 556,
   "id": "5a23a5bf",
   "metadata": {},
   "outputs": [],
   "source": [
    "loan = loan.loc[:, loan.isna().sum() < len(loan)*.9]"
   ]
  },
  {
   "cell_type": "code",
   "execution_count": 557,
   "id": "d75ae071",
   "metadata": {},
   "outputs": [
    {
     "data": {
      "text/plain": [
       "(39717, 55)"
      ]
     },
     "execution_count": 557,
     "metadata": {},
     "output_type": "execute_result"
    }
   ],
   "source": [
    "loan.shape"
   ]
  },
  {
   "cell_type": "code",
   "execution_count": 558,
   "id": "b74e582f",
   "metadata": {},
   "outputs": [
    {
     "data": {
      "text/plain": [
       "Index(['id', 'member_id', 'loan_amnt', 'funded_amnt', 'funded_amnt_inv',\n",
       "       'term', 'int_rate', 'installment', 'grade', 'sub_grade', 'emp_title',\n",
       "       'emp_length', 'home_ownership', 'annual_inc', 'verification_status',\n",
       "       'issue_d', 'loan_status', 'pymnt_plan', 'url', 'desc', 'purpose',\n",
       "       'title', 'zip_code', 'addr_state', 'dti', 'delinq_2yrs',\n",
       "       'earliest_cr_line', 'inq_last_6mths', 'mths_since_last_delinq',\n",
       "       'open_acc', 'pub_rec', 'revol_bal', 'revol_util', 'total_acc',\n",
       "       'initial_list_status', 'out_prncp', 'out_prncp_inv', 'total_pymnt',\n",
       "       'total_pymnt_inv', 'total_rec_prncp', 'total_rec_int',\n",
       "       'total_rec_late_fee', 'recoveries', 'collection_recovery_fee',\n",
       "       'last_pymnt_d', 'last_pymnt_amnt', 'last_credit_pull_d',\n",
       "       'collections_12_mths_ex_med', 'policy_code', 'application_type',\n",
       "       'acc_now_delinq', 'chargeoff_within_12_mths', 'delinq_amnt',\n",
       "       'pub_rec_bankruptcies', 'tax_liens'],\n",
       "      dtype='object')"
      ]
     },
     "execution_count": 558,
     "metadata": {},
     "output_type": "execute_result"
    }
   ],
   "source": [
    "loan.columns"
   ]
  },
  {
   "cell_type": "markdown",
   "id": "e172f732",
   "metadata": {},
   "source": [
    "#### Step 3.2: Remove duplicates based on ID column"
   ]
  },
  {
   "cell_type": "code",
   "execution_count": 559,
   "id": "7d029bdb",
   "metadata": {},
   "outputs": [
    {
     "data": {
      "text/plain": [
       "False"
      ]
     },
     "execution_count": 559,
     "metadata": {},
     "output_type": "execute_result"
    }
   ],
   "source": [
    "loan['id'].duplicated().any() # No Duplicates"
   ]
  },
  {
   "cell_type": "markdown",
   "id": "cbfc7730",
   "metadata": {},
   "source": [
    "#### Step 3.3 Removing Columns"
   ]
  },
  {
   "cell_type": "code",
   "execution_count": 560,
   "id": "0d420642",
   "metadata": {},
   "outputs": [],
   "source": [
    "#Customer Behaviour Variables\n",
    "loan.drop([\"delinq_2yrs\",\n",
    "           \"earliest_cr_line\",\n",
    "           \"inq_last_6mths\",\n",
    "           \"open_acc\",\n",
    "           \"pub_rec\",\n",
    "           \"revol_bal\",\n",
    "           \"revol_util\",\n",
    "           \"total_acc\",\n",
    "           \"out_prncp\",\n",
    "           \"out_prncp_inv\",\n",
    "           \"total_pymnt\",\n",
    "           \"total_pymnt_inv\",\n",
    "           \"total_rec_prncp\",\n",
    "           \"total_rec_int\",\n",
    "           \"total_rec_late_fee\", \n",
    "           \"recoveries\",\n",
    "           \"collection_recovery_fee\",\n",
    "           \"last_pymnt_d\",\n",
    "           \"last_pymnt_amnt\",\n",
    "           \"last_credit_pull_d\",\n",
    "           \"application_type\"\n",
    "           ],axis = 1, inplace=True)"
   ]
  },
  {
   "cell_type": "code",
   "execution_count": 561,
   "id": "6d8261ff",
   "metadata": {},
   "outputs": [
    {
     "data": {
      "text/plain": [
       "(39717, 34)"
      ]
     },
     "execution_count": 561,
     "metadata": {},
     "output_type": "execute_result"
    }
   ],
   "source": [
    "loan.shape"
   ]
  },
  {
   "cell_type": "code",
   "execution_count": 562,
   "id": "5447fc54",
   "metadata": {},
   "outputs": [
    {
     "data": {
      "text/plain": [
       "Index(['id', 'member_id', 'loan_amnt', 'funded_amnt', 'funded_amnt_inv',\n",
       "       'term', 'int_rate', 'installment', 'grade', 'sub_grade', 'emp_title',\n",
       "       'emp_length', 'home_ownership', 'annual_inc', 'verification_status',\n",
       "       'issue_d', 'loan_status', 'pymnt_plan', 'url', 'desc', 'purpose',\n",
       "       'title', 'zip_code', 'addr_state', 'dti', 'mths_since_last_delinq',\n",
       "       'initial_list_status', 'collections_12_mths_ex_med', 'policy_code',\n",
       "       'acc_now_delinq', 'chargeoff_within_12_mths', 'delinq_amnt',\n",
       "       'pub_rec_bankruptcies', 'tax_liens'],\n",
       "      dtype='object')"
      ]
     },
     "execution_count": 562,
     "metadata": {},
     "output_type": "execute_result"
    }
   ],
   "source": [
    "loan.columns"
   ]
  },
  {
   "cell_type": "code",
   "execution_count": 563,
   "id": "e3703d08",
   "metadata": {},
   "outputs": [],
   "source": [
    "# Removing Columns - Single Value in each column\n",
    "loan.drop([\"pymnt_plan\",\n",
    "           'collections_12_mths_ex_med',\n",
    "           'policy_code',\n",
    "           'acc_now_delinq',\n",
    "           'chargeoff_within_12_mths',\n",
    "           'delinq_amnt',\n",
    "           'pub_rec_bankruptcies',\n",
    "           'tax_liens'\n",
    "          ],axis = 1, inplace=True)"
   ]
  },
  {
   "cell_type": "code",
   "execution_count": 564,
   "id": "17db2e7e",
   "metadata": {},
   "outputs": [],
   "source": [
    "# Removing Columns - Columns assinged when loan is approved\n",
    "loan.drop(['id',\n",
    "           'member_id',\n",
    "           \"emp_title\",\n",
    "           \"url\",\n",
    "           'desc',\n",
    "           'purpose',\n",
    "           'title',\n",
    "           \"zip_code\", # Incomplete zip code\n",
    "           \"mths_since_last_delinq\",\n",
    "           \"initial_list_status\"\n",
    "          ],axis = 1, inplace=True)"
   ]
  },
  {
   "cell_type": "code",
   "execution_count": 565,
   "id": "e6b8bd62",
   "metadata": {},
   "outputs": [],
   "source": [
    "# Removing Columns - Similar Columns\n",
    "loan.drop([\"funded_amnt\", \n",
    "           \"funded_amnt_inv\"] ,axis = 1, inplace=True)"
   ]
  },
  {
   "cell_type": "code",
   "execution_count": 566,
   "id": "b615e870",
   "metadata": {},
   "outputs": [
    {
     "data": {
      "text/plain": [
       "(39717, 14)"
      ]
     },
     "execution_count": 566,
     "metadata": {},
     "output_type": "execute_result"
    }
   ],
   "source": [
    "loan.shape"
   ]
  },
  {
   "cell_type": "code",
   "execution_count": 567,
   "id": "1abcf06d",
   "metadata": {},
   "outputs": [
    {
     "data": {
      "text/plain": [
       "Index(['loan_amnt', 'term', 'int_rate', 'installment', 'grade', 'sub_grade',\n",
       "       'emp_length', 'home_ownership', 'annual_inc', 'verification_status',\n",
       "       'issue_d', 'loan_status', 'addr_state', 'dti'],\n",
       "      dtype='object')"
      ]
     },
     "execution_count": 567,
     "metadata": {},
     "output_type": "execute_result"
    }
   ],
   "source": [
    "# Final List of columns to work on.\n",
    "loan.columns"
   ]
  },
  {
   "cell_type": "markdown",
   "id": "b0b4ca4e",
   "metadata": {},
   "source": [
    "#### Step 3.4 - Removing rows `loan_status` == `Current`"
   ]
  },
  {
   "cell_type": "code",
   "execution_count": 568,
   "id": "a2aee2b4",
   "metadata": {},
   "outputs": [
    {
     "name": "stdout",
     "output_type": "stream",
     "text": [
      "Fully Paid     32950\n",
      "Charged Off     5627\n",
      "Current         1140\n",
      "Name: loan_status, dtype: int64\n"
     ]
    }
   ],
   "source": [
    "print(loan[\"loan_status\"].value_counts())"
   ]
  },
  {
   "cell_type": "code",
   "execution_count": 569,
   "id": "24de5d4c",
   "metadata": {},
   "outputs": [],
   "source": [
    "loan = loan[loan[\"loan_status\"] != 'Current']"
   ]
  },
  {
   "cell_type": "code",
   "execution_count": 570,
   "id": "6d2731bc",
   "metadata": {},
   "outputs": [
    {
     "data": {
      "text/plain": [
       "(38577, 14)"
      ]
     },
     "execution_count": 570,
     "metadata": {},
     "output_type": "execute_result"
    }
   ],
   "source": [
    "loan.shape"
   ]
  },
  {
   "cell_type": "markdown",
   "id": "3a36c3ec",
   "metadata": {},
   "source": [
    "#### Step 3.5 - Fixing `term` column (Removing `month`)"
   ]
  },
  {
   "cell_type": "code",
   "execution_count": 571,
   "id": "d6e4a4a7",
   "metadata": {},
   "outputs": [
    {
     "data": {
      "text/plain": [
       "array([' 36 months', ' 60 months'], dtype=object)"
      ]
     },
     "execution_count": 571,
     "metadata": {},
     "output_type": "execute_result"
    }
   ],
   "source": [
    "loan.term.unique()"
   ]
  },
  {
   "cell_type": "code",
   "execution_count": 572,
   "id": "0d305688",
   "metadata": {},
   "outputs": [],
   "source": [
    "loan.term = loan.term.apply(lambda x: int(x.replace(\" months\", \"\")))"
   ]
  },
  {
   "cell_type": "code",
   "execution_count": 573,
   "id": "b30d639e",
   "metadata": {},
   "outputs": [
    {
     "data": {
      "text/plain": [
       "36    29096\n",
       "60     9481\n",
       "Name: term, dtype: int64"
      ]
     },
     "execution_count": 573,
     "metadata": {},
     "output_type": "execute_result"
    }
   ],
   "source": [
    "loan.term.value_counts()"
   ]
  },
  {
   "cell_type": "markdown",
   "id": "7cc531c1",
   "metadata": {},
   "source": [
    "#### Step 3.6 - Fixing `int_rate` column (Removing `%`)"
   ]
  },
  {
   "cell_type": "code",
   "execution_count": 574,
   "id": "84ad7cca",
   "metadata": {},
   "outputs": [],
   "source": [
    "loan.int_rate = loan.int_rate.apply(lambda x: float(x[:-1]))"
   ]
  },
  {
   "cell_type": "code",
   "execution_count": 575,
   "id": "ae15831c",
   "metadata": {},
   "outputs": [
    {
     "data": {
      "text/plain": [
       "0    10.65\n",
       "1    15.27\n",
       "2    15.96\n",
       "3    13.49\n",
       "5     7.90\n",
       "Name: int_rate, dtype: float64"
      ]
     },
     "execution_count": 575,
     "metadata": {},
     "output_type": "execute_result"
    }
   ],
   "source": [
    "loan.int_rate.head()"
   ]
  },
  {
   "cell_type": "markdown",
   "id": "d2bc0d30",
   "metadata": {},
   "source": [
    "#### Step 3.7 - Fixing column `emp_length` (removing `years` and `+`)  "
   ]
  },
  {
   "cell_type": "code",
   "execution_count": 576,
   "id": "1c379afe",
   "metadata": {},
   "outputs": [
    {
     "data": {
      "text/plain": [
       "array(['10+ years', '< 1 year', '3 years', '8 years', '9 years',\n",
       "       '4 years', '5 years', '1 year', '6 years', '2 years', '7 years',\n",
       "       nan], dtype=object)"
      ]
     },
     "execution_count": 576,
     "metadata": {},
     "output_type": "execute_result"
    }
   ],
   "source": [
    "loan.emp_length.unique()"
   ]
  },
  {
   "cell_type": "code",
   "execution_count": 577,
   "id": "c2b75084",
   "metadata": {},
   "outputs": [],
   "source": [
    "loan.emp_length = loan.emp_length.astype('str')"
   ]
  },
  {
   "cell_type": "code",
   "execution_count": 578,
   "id": "6201a001",
   "metadata": {},
   "outputs": [],
   "source": [
    "loan.emp_length = loan.emp_length.apply(lambda x: x.strip(\" years\"))"
   ]
  },
  {
   "cell_type": "code",
   "execution_count": 579,
   "id": "ea74810c",
   "metadata": {},
   "outputs": [
    {
     "data": {
      "text/plain": [
       "array(['10+', '< 1', '3', '8', '9', '4', '5', '1', '6', '2', '7', 'nan'],\n",
       "      dtype=object)"
      ]
     },
     "execution_count": 579,
     "metadata": {},
     "output_type": "execute_result"
    }
   ],
   "source": [
    "loan.emp_length.unique()"
   ]
  },
  {
   "cell_type": "code",
   "execution_count": 580,
   "id": "c791514d",
   "metadata": {},
   "outputs": [],
   "source": [
    "def clean(input):\n",
    "    if \"nan\" in input:\n",
    "        return int(-1)\n",
    "    elif \"+\" in input:\n",
    "        return int(input.replace(\"+\", \"\"))\n",
    "    elif \"<\" in input:\n",
    "        return int(input.replace(\"< \", \"\"))\n",
    "    else:\n",
    "        return int(input)\n",
    "\n",
    "loan.emp_length = loan.emp_length.apply(clean)"
   ]
  },
  {
   "cell_type": "code",
   "execution_count": 581,
   "id": "fba85081",
   "metadata": {},
   "outputs": [
    {
     "data": {
      "text/plain": [
       "array([10,  1,  3,  8,  9,  4,  5,  6,  2,  7, -1])"
      ]
     },
     "execution_count": 581,
     "metadata": {},
     "output_type": "execute_result"
    }
   ],
   "source": [
    "loan.emp_length.unique()"
   ]
  },
  {
   "cell_type": "code",
   "execution_count": 582,
   "id": "09bcda0b",
   "metadata": {},
   "outputs": [
    {
     "data": {
      "text/plain": [
       "array(['Verified', 'Source Verified', 'Not Verified'], dtype=object)"
      ]
     },
     "execution_count": 582,
     "metadata": {},
     "output_type": "execute_result"
    }
   ],
   "source": [
    "loan.verification_status.unique()"
   ]
  },
  {
   "cell_type": "code",
   "execution_count": 583,
   "id": "53bc01c7",
   "metadata": {},
   "outputs": [
    {
     "data": {
      "text/plain": [
       "array(['RENT', 'OWN', 'MORTGAGE', 'OTHER', 'NONE'], dtype=object)"
      ]
     },
     "execution_count": 583,
     "metadata": {},
     "output_type": "execute_result"
    }
   ],
   "source": [
    "loan.home_ownership.unique()"
   ]
  },
  {
   "cell_type": "code",
   "execution_count": 584,
   "id": "fa8675e1",
   "metadata": {},
   "outputs": [
    {
     "data": {
      "text/plain": [
       "array(['Fully Paid', 'Charged Off'], dtype=object)"
      ]
     },
     "execution_count": 584,
     "metadata": {},
     "output_type": "execute_result"
    }
   ],
   "source": [
    "loan.loan_status.unique()"
   ]
  },
  {
   "cell_type": "markdown",
   "id": "b73c8606",
   "metadata": {},
   "source": [
    "#### Step 3.8 - Deriving `issue_month` and `issue_year` from `issue_d`"
   ]
  },
  {
   "cell_type": "code",
   "execution_count": 585,
   "id": "1c6b06c7",
   "metadata": {},
   "outputs": [],
   "source": [
    "from datetime import datetime\n",
    "loan[\"issued_month\"] = pd.DatetimeIndex(loan.issue_d.apply(lambda x : datetime.strptime(x, '%b-%y'))).month"
   ]
  },
  {
   "cell_type": "code",
   "execution_count": 586,
   "id": "f7248264",
   "metadata": {},
   "outputs": [
    {
     "data": {
      "text/plain": [
       "array([12, 11, 10,  9,  8,  7,  6,  5,  4,  3,  2,  1])"
      ]
     },
     "execution_count": 586,
     "metadata": {},
     "output_type": "execute_result"
    }
   ],
   "source": [
    "loan.issued_month.unique()"
   ]
  },
  {
   "cell_type": "code",
   "execution_count": 587,
   "id": "2350ffb2",
   "metadata": {},
   "outputs": [],
   "source": [
    "loan[\"issued_year\"] = pd.DatetimeIndex(loan.issue_d.apply(lambda x : datetime.strptime(x, '%b-%y'))).year"
   ]
  },
  {
   "cell_type": "code",
   "execution_count": 588,
   "id": "1595515d",
   "metadata": {},
   "outputs": [
    {
     "data": {
      "text/plain": [
       "array([2011, 2010, 2009, 2008, 2007])"
      ]
     },
     "execution_count": 588,
     "metadata": {},
     "output_type": "execute_result"
    }
   ],
   "source": [
    "loan.issued_year.unique()"
   ]
  },
  {
   "cell_type": "code",
   "execution_count": 589,
   "id": "dd8ca157",
   "metadata": {},
   "outputs": [],
   "source": [
    "loan.drop([\"issue_d\"] ,axis = 1, inplace=True)"
   ]
  },
  {
   "cell_type": "markdown",
   "id": "4244768d",
   "metadata": {},
   "source": [
    "#### Step 3.9 - Driving numeric value from `sub_grade`"
   ]
  },
  {
   "cell_type": "code",
   "execution_count": 590,
   "id": "7f9feca8",
   "metadata": {},
   "outputs": [],
   "source": [
    "loan.sub_grade = loan.sub_grade.astype(\"string\")"
   ]
  },
  {
   "cell_type": "code",
   "execution_count": 591,
   "id": "7c38dbc6",
   "metadata": {},
   "outputs": [],
   "source": [
    "loan.sub_grade = loan.sub_grade.apply(lambda x: int(x[-1]))"
   ]
  },
  {
   "cell_type": "code",
   "execution_count": 592,
   "id": "d9f2760b",
   "metadata": {},
   "outputs": [
    {
     "data": {
      "text/plain": [
       "Index(['loan_amnt', 'term', 'int_rate', 'installment', 'grade', 'sub_grade',\n",
       "       'emp_length', 'home_ownership', 'annual_inc', 'verification_status',\n",
       "       'loan_status', 'addr_state', 'dti', 'issued_month', 'issued_year'],\n",
       "      dtype='object')"
      ]
     },
     "execution_count": 592,
     "metadata": {},
     "output_type": "execute_result"
    }
   ],
   "source": [
    "loan.columns"
   ]
  },
  {
   "cell_type": "code",
   "execution_count": 593,
   "id": "d542d5d1",
   "metadata": {},
   "outputs": [
    {
     "data": {
      "text/html": [
       "<div>\n",
       "<style scoped>\n",
       "    .dataframe tbody tr th:only-of-type {\n",
       "        vertical-align: middle;\n",
       "    }\n",
       "\n",
       "    .dataframe tbody tr th {\n",
       "        vertical-align: top;\n",
       "    }\n",
       "\n",
       "    .dataframe thead th {\n",
       "        text-align: right;\n",
       "    }\n",
       "</style>\n",
       "<table border=\"1\" class=\"dataframe\">\n",
       "  <thead>\n",
       "    <tr style=\"text-align: right;\">\n",
       "      <th></th>\n",
       "      <th>loan_amnt</th>\n",
       "      <th>term</th>\n",
       "      <th>int_rate</th>\n",
       "      <th>installment</th>\n",
       "      <th>grade</th>\n",
       "      <th>sub_grade</th>\n",
       "      <th>emp_length</th>\n",
       "      <th>home_ownership</th>\n",
       "      <th>annual_inc</th>\n",
       "      <th>verification_status</th>\n",
       "      <th>loan_status</th>\n",
       "      <th>addr_state</th>\n",
       "      <th>dti</th>\n",
       "      <th>issued_month</th>\n",
       "      <th>issued_year</th>\n",
       "    </tr>\n",
       "  </thead>\n",
       "  <tbody>\n",
       "    <tr>\n",
       "      <th>0</th>\n",
       "      <td>5000</td>\n",
       "      <td>36</td>\n",
       "      <td>10.65</td>\n",
       "      <td>162.87</td>\n",
       "      <td>B</td>\n",
       "      <td>2</td>\n",
       "      <td>10</td>\n",
       "      <td>RENT</td>\n",
       "      <td>24000.0</td>\n",
       "      <td>Verified</td>\n",
       "      <td>Fully Paid</td>\n",
       "      <td>AZ</td>\n",
       "      <td>27.65</td>\n",
       "      <td>12</td>\n",
       "      <td>2011</td>\n",
       "    </tr>\n",
       "    <tr>\n",
       "      <th>1</th>\n",
       "      <td>2500</td>\n",
       "      <td>60</td>\n",
       "      <td>15.27</td>\n",
       "      <td>59.83</td>\n",
       "      <td>C</td>\n",
       "      <td>4</td>\n",
       "      <td>1</td>\n",
       "      <td>RENT</td>\n",
       "      <td>30000.0</td>\n",
       "      <td>Source Verified</td>\n",
       "      <td>Charged Off</td>\n",
       "      <td>GA</td>\n",
       "      <td>1.00</td>\n",
       "      <td>12</td>\n",
       "      <td>2011</td>\n",
       "    </tr>\n",
       "    <tr>\n",
       "      <th>2</th>\n",
       "      <td>2400</td>\n",
       "      <td>36</td>\n",
       "      <td>15.96</td>\n",
       "      <td>84.33</td>\n",
       "      <td>C</td>\n",
       "      <td>5</td>\n",
       "      <td>10</td>\n",
       "      <td>RENT</td>\n",
       "      <td>12252.0</td>\n",
       "      <td>Not Verified</td>\n",
       "      <td>Fully Paid</td>\n",
       "      <td>IL</td>\n",
       "      <td>8.72</td>\n",
       "      <td>12</td>\n",
       "      <td>2011</td>\n",
       "    </tr>\n",
       "    <tr>\n",
       "      <th>3</th>\n",
       "      <td>10000</td>\n",
       "      <td>36</td>\n",
       "      <td>13.49</td>\n",
       "      <td>339.31</td>\n",
       "      <td>C</td>\n",
       "      <td>1</td>\n",
       "      <td>10</td>\n",
       "      <td>RENT</td>\n",
       "      <td>49200.0</td>\n",
       "      <td>Source Verified</td>\n",
       "      <td>Fully Paid</td>\n",
       "      <td>CA</td>\n",
       "      <td>20.00</td>\n",
       "      <td>12</td>\n",
       "      <td>2011</td>\n",
       "    </tr>\n",
       "    <tr>\n",
       "      <th>5</th>\n",
       "      <td>5000</td>\n",
       "      <td>36</td>\n",
       "      <td>7.90</td>\n",
       "      <td>156.46</td>\n",
       "      <td>A</td>\n",
       "      <td>4</td>\n",
       "      <td>3</td>\n",
       "      <td>RENT</td>\n",
       "      <td>36000.0</td>\n",
       "      <td>Source Verified</td>\n",
       "      <td>Fully Paid</td>\n",
       "      <td>AZ</td>\n",
       "      <td>11.20</td>\n",
       "      <td>12</td>\n",
       "      <td>2011</td>\n",
       "    </tr>\n",
       "  </tbody>\n",
       "</table>\n",
       "</div>"
      ],
      "text/plain": [
       "   loan_amnt  term  int_rate  installment grade  sub_grade  emp_length  \\\n",
       "0       5000    36     10.65       162.87     B          2          10   \n",
       "1       2500    60     15.27        59.83     C          4           1   \n",
       "2       2400    36     15.96        84.33     C          5          10   \n",
       "3      10000    36     13.49       339.31     C          1          10   \n",
       "5       5000    36      7.90       156.46     A          4           3   \n",
       "\n",
       "  home_ownership  annual_inc verification_status  loan_status addr_state  \\\n",
       "0           RENT     24000.0            Verified   Fully Paid         AZ   \n",
       "1           RENT     30000.0     Source Verified  Charged Off         GA   \n",
       "2           RENT     12252.0        Not Verified   Fully Paid         IL   \n",
       "3           RENT     49200.0     Source Verified   Fully Paid         CA   \n",
       "5           RENT     36000.0     Source Verified   Fully Paid         AZ   \n",
       "\n",
       "     dti  issued_month  issued_year  \n",
       "0  27.65            12         2011  \n",
       "1   1.00            12         2011  \n",
       "2   8.72            12         2011  \n",
       "3  20.00            12         2011  \n",
       "5  11.20            12         2011  "
      ]
     },
     "execution_count": 593,
     "metadata": {},
     "output_type": "execute_result"
    }
   ],
   "source": [
    "loan.head()"
   ]
  },
  {
   "cell_type": "markdown",
   "id": "0bfc7217",
   "metadata": {},
   "source": [
    "## 4. Outlier Treatment"
   ]
  },
  {
   "cell_type": "markdown",
   "id": "c7311dfb",
   "metadata": {},
   "source": [
    "#### Step 4.1 - Treating `annual_inc`"
   ]
  },
  {
   "cell_type": "code",
   "execution_count": 594,
   "id": "3ae53491",
   "metadata": {},
   "outputs": [
    {
     "data": {
      "text/plain": [
       "<AxesSubplot:xlabel='annual_inc'>"
      ]
     },
     "execution_count": 594,
     "metadata": {},
     "output_type": "execute_result"
    },
    {
     "data": {
      "image/png": "[encoded data removed]",
      "text/plain": [
       "<Figure size 640x480 with 1 Axes>"
      ]
     },
     "metadata": {},
     "output_type": "display_data"
    }
   ],
   "source": [
    "sns.boxplot(loan['annual_inc'])"
   ]
  },
  {
   "cell_type": "code",
   "execution_count": 595,
   "id": "6dcf90b1",
   "metadata": {},
   "outputs": [
    {
     "data": {
      "text/plain": [
       "0.50     58868.0\n",
       "0.75     82000.0\n",
       "0.90    115000.0\n",
       "0.95    140004.0\n",
       "0.97    165000.0\n",
       "0.98    187000.0\n",
       "0.99    234144.0\n",
       "Name: annual_inc, dtype: float64"
      ]
     },
     "execution_count": 595,
     "metadata": {},
     "output_type": "execute_result"
    }
   ],
   "source": [
    "quantile_info = loan.annual_inc.quantile([0.5, 0.75,0.90, 0.95, 0.97,0.98, 0.99])\n",
    "quantile_info"
   ]
  },
  {
   "cell_type": "code",
   "execution_count": 596,
   "id": "f830d639",
   "metadata": {},
   "outputs": [],
   "source": [
    "annual_inc_99_per = loan['annual_inc'].quantile(0.99)\n",
    "loan = loan[loan.annual_inc <= annual_inc_99_per]"
   ]
  },
  {
   "cell_type": "code",
   "execution_count": 597,
   "id": "64564ef3",
   "metadata": {},
   "outputs": [
    {
     "data": {
      "text/plain": [
       "<AxesSubplot:xlabel='annual_inc'>"
      ]
     },
     "execution_count": 597,
     "metadata": {},
     "output_type": "execute_result"
    },
    {
     "data": {
      "image/png": "[encoded data removed]",
      "text/plain": [
       "<Figure size 640x480 with 1 Axes>"
      ]
     },
     "metadata": {},
     "output_type": "display_data"
    }
   ],
   "source": [
    "sns.boxplot(loan.annual_inc)"
   ]
  },
  {
   "cell_type": "markdown",
   "id": "f5fb4ef5",
   "metadata": {},
   "source": [
    "## 5. Univariant Analysis"
   ]
  },
  {
   "cell_type": "markdown",
   "id": "c391ebb4",
   "metadata": {},
   "source": [
    "#### Step 5.1 -  `loan_status` "
   ]
  },
  {
   "cell_type": "code",
   "execution_count": 598,
   "id": "3d5fa07f",
   "metadata": {},
   "outputs": [
    {
     "data": {
      "text/plain": [
       "<AxesSubplot:xlabel='loan_status', ylabel='count'>"
      ]
     },
     "execution_count": 598,
     "metadata": {},
     "output_type": "execute_result"
    },
    {
     "data": {
      "image/png": "[encoded data removed]",
      "text/plain": [
       "<Figure size 640x480 with 1 Axes>"
      ]
     },
     "metadata": {},
     "output_type": "display_data"
    }
   ],
   "source": [
    "sns.countplot(x = 'loan_status', data = loan)"
   ]
  },
  {
   "cell_type": "markdown",
   "id": "2c40fa8f",
   "metadata": {},
   "source": [
    "#### Step 5.2 - `term` "
   ]
  },
  {
   "cell_type": "code",
   "execution_count": 599,
   "id": "4294a1da",
   "metadata": {},
   "outputs": [
    {
     "data": {
      "text/plain": [
       "<AxesSubplot:xlabel='term', ylabel='count'>"
      ]
     },
     "execution_count": 599,
     "metadata": {},
     "output_type": "execute_result"
    },
    {
     "data": {
      "image/png": "[encoded data removed]",
      "text/plain": [
       "<Figure size 640x480 with 1 Axes>"
      ]
     },
     "metadata": {},
     "output_type": "display_data"
    }
   ],
   "source": [
    "sns.countplot(x = 'term', data = loan)"
   ]
  },
  {
   "cell_type": "markdown",
   "id": "51d83d08",
   "metadata": {},
   "source": [
    "#### Step 5.3 - `home_ownership` "
   ]
  },
  {
   "cell_type": "code",
   "execution_count": 600,
   "id": "135e0277",
   "metadata": {},
   "outputs": [
    {
     "data": {
      "text/plain": [
       "array(['RENT', 'OWN', 'MORTGAGE', 'OTHER', 'NONE'], dtype=object)"
      ]
     },
     "execution_count": 600,
     "metadata": {},
     "output_type": "execute_result"
    }
   ],
   "source": [
    "loan['home_ownership'].unique()"
   ]
  },
  {
   "cell_type": "code",
   "execution_count": 601,
   "id": "c32991b4",
   "metadata": {},
   "outputs": [],
   "source": [
    "#replacing 'NONE' with 'OTHERS'\n",
    "loan['home_ownership'].replace(to_replace = ['NONE'],value='OTHER',inplace = True)"
   ]
  },
  {
   "cell_type": "code",
   "execution_count": 602,
   "id": "b43593db",
   "metadata": {},
   "outputs": [
    {
     "data": {
      "text/plain": [
       "array(['RENT', 'OWN', 'MORTGAGE', 'OTHER'], dtype=object)"
      ]
     },
     "execution_count": 602,
     "metadata": {},
     "output_type": "execute_result"
    }
   ],
   "source": [
    "loan['home_ownership'].unique()"
   ]
  },
  {
   "cell_type": "code",
   "execution_count": 603,
   "id": "4d048c1f",
   "metadata": {},
   "outputs": [
    {
     "data": {
      "text/plain": [
       "<AxesSubplot:xlabel='home_ownership', ylabel='count'>"
      ]
     },
     "execution_count": 603,
     "metadata": {},
     "output_type": "execute_result"
    },
    {
     "data": {
      "image/png": "[encoded data removed]",
      "text/plain": [
       "<Figure size 640x480 with 1 Axes>"
      ]
     },
     "metadata": {},
     "output_type": "display_data"
    }
   ],
   "source": [
    "sns.countplot(x = 'home_ownership', data = loan)"
   ]
  },
  {
   "cell_type": "markdown",
   "id": "ab8df7a6",
   "metadata": {},
   "source": [
    "#### Step 5.4 - `addr_state` "
   ]
  },
  {
   "cell_type": "code",
   "execution_count": 604,
   "id": "0de2c788",
   "metadata": {},
   "outputs": [
    {
     "data": {
      "text/plain": [
       "[Text(0, 0, 'AZ'),\n",
       " Text(1, 0, 'GA'),\n",
       " Text(2, 0, 'IL'),\n",
       " Text(3, 0, 'CA'),\n",
       " Text(4, 0, 'NC'),\n",
       " Text(5, 0, 'TX'),\n",
       " Text(6, 0, 'VA'),\n",
       " Text(7, 0, 'MO'),\n",
       " Text(8, 0, 'CT'),\n",
       " Text(9, 0, 'UT'),\n",
       " Text(10, 0, 'FL'),\n",
       " Text(11, 0, 'NY'),\n",
       " Text(12, 0, 'PA'),\n",
       " Text(13, 0, 'MN'),\n",
       " Text(14, 0, 'NJ'),\n",
       " Text(15, 0, 'OR'),\n",
       " Text(16, 0, 'KY'),\n",
       " Text(17, 0, 'OH'),\n",
       " Text(18, 0, 'SC'),\n",
       " Text(19, 0, 'RI'),\n",
       " Text(20, 0, 'LA'),\n",
       " Text(21, 0, 'MA'),\n",
       " Text(22, 0, 'WA'),\n",
       " Text(23, 0, 'WI'),\n",
       " Text(24, 0, 'AL'),\n",
       " Text(25, 0, 'NV'),\n",
       " Text(26, 0, 'AK'),\n",
       " Text(27, 0, 'CO'),\n",
       " Text(28, 0, 'MD'),\n",
       " Text(29, 0, 'WV'),\n",
       " Text(30, 0, 'VT'),\n",
       " Text(31, 0, 'MI'),\n",
       " Text(32, 0, 'DC'),\n",
       " Text(33, 0, 'SD'),\n",
       " Text(34, 0, 'NH'),\n",
       " Text(35, 0, 'AR'),\n",
       " Text(36, 0, 'NM'),\n",
       " Text(37, 0, 'KS'),\n",
       " Text(38, 0, 'HI'),\n",
       " Text(39, 0, 'OK'),\n",
       " Text(40, 0, 'MT'),\n",
       " Text(41, 0, 'WY'),\n",
       " Text(42, 0, 'DE'),\n",
       " Text(43, 0, 'MS'),\n",
       " Text(44, 0, 'TN'),\n",
       " Text(45, 0, 'IA'),\n",
       " Text(46, 0, 'NE'),\n",
       " Text(47, 0, 'ID'),\n",
       " Text(48, 0, 'IN'),\n",
       " Text(49, 0, 'ME')]"
      ]
     },
     "execution_count": 604,
     "metadata": {},
     "output_type": "execute_result"
    },
    {
     "data": {
      "image/png": "[encoded data removed]",
      "text/plain": [
       "<Figure size 640x480 with 1 Axes>"
      ]
     },
     "metadata": {},
     "output_type": "display_data"
    }
   ],
   "source": [
    "g = sns.countplot(x = 'addr_state', data = loan)\n",
    "g.set_xticklabels(g.get_xticklabels(), rotation=90)"
   ]
  },
  {
   "cell_type": "markdown",
   "id": "dfb0e78c",
   "metadata": {},
   "source": [
    "#### Step 5.5 -  `int_rate` "
   ]
  },
  {
   "cell_type": "code",
   "execution_count": 605,
   "id": "30e4d80f",
   "metadata": {},
   "outputs": [
    {
     "data": {
      "image/png": "[encoded data removed]",
      "text/plain": [
       "<Figure size 640x480 with 1 Axes>"
      ]
     },
     "metadata": {},
     "output_type": "display_data"
    }
   ],
   "source": [
    "x = [7.5, 12.5, 17.5, 22.5]\n",
    "labels = ['5 - 10', '11 - 15','16 - 20','21 - 25']\n",
    "plt.hist(loan['int_rate'], bins = [5,10,15,20,25],rwidth = 0.7, color = \"orange\", edgecolor = 'k')\n",
    "plt.xticks(x, labels, rotation ='vertical')\n",
    "plt.show()"
   ]
  },
  {
   "cell_type": "code",
   "execution_count": null,
   "id": "97d1b555",
   "metadata": {},
   "outputs": [],
   "source": []
  },
  {
   "cell_type": "code",
   "execution_count": 606,
   "id": "bc90e839",
   "metadata": {},
   "outputs": [
    {
     "data": {
      "image/png": "[encoded data removed]",
      "text/plain": [
       "<Figure size 1200x600 with 1 Axes>"
      ]
     },
     "metadata": {},
     "output_type": "display_data"
    }
   ],
   "source": [
    "plt.figure(figsize=(12,6), facecolor='Cyan')\n",
    "plt.title('Univariate Analysis: Loan amount', fontdict={'fontsize': 15, 'fontweight' : 5, 'color' : 'black'})\n",
    "sns.histplot(x = loan.loan_amnt)\n",
    "xy_fontdict = {'fontsize':15, 'fontweight':5, 'color':'black'}\n",
    "plt.xlabel('Loan Amount', fontdict=xy_fontdict)\n",
    "plt.ylabel('Loam Amount Frequency', fontdict=xy_fontdict)\n",
    "plt.show()"
   ]
  },
  {
   "cell_type": "code",
   "execution_count": null,
   "id": "6fc87fcc",
   "metadata": {},
   "outputs": [],
   "source": []
  },
  {
   "cell_type": "code",
   "execution_count": 607,
   "id": "46c0c4ab",
   "metadata": {},
   "outputs": [
    {
     "data": {
      "text/plain": [
       "<AxesSubplot:ylabel='Density'>"
      ]
     },
     "execution_count": 607,
     "metadata": {},
     "output_type": "execute_result"
    },
    {
     "data": {
      "image/png": "[encoded data removed]",
      "text/plain": [
       "<Figure size 640x480 with 1 Axes>"
      ]
     },
     "metadata": {},
     "output_type": "display_data"
    }
   ],
   "source": [
    "loan['dti'].plot(kind='kde')\n",
    "#Most loans are lent to borrowers with DTI ratio in between 10 and 20."
   ]
  },
  {
   "cell_type": "code",
   "execution_count": 608,
   "id": "8b4a517e",
   "metadata": {},
   "outputs": [
    {
     "data": {
      "text/plain": [
       "Text(0.5, 9.444444444444438, 'Employment length (in years)')"
      ]
     },
     "execution_count": 608,
     "metadata": {},
     "output_type": "execute_result"
    },
    {
     "data": {
      "image/png": "[encoded data removed]",
      "text/plain": [
       "<Figure size 500x500 with 1 Axes>"
      ]
     },
     "metadata": {},
     "output_type": "display_data"
    }
   ],
   "source": [
    "sns.displot(loan.emp_length)\n",
    "plt.xlabel('Employment length (in years)')"
   ]
  },
  {
   "cell_type": "markdown",
   "id": "80064e76",
   "metadata": {},
   "source": [
    "#### Step 5.6 Observation from Univariant Analysis\n",
    "- Majority of the loans are fully paid, only about ~5500(15%) loans are charged-off\n",
    "- Majority of the loan applications opts for 36 months loan term. About ~30,000 (75%)\n",
    "- Minority of the folks who has loan are actually home owners (about ~2500 home owners only)\n",
    "- Majority of the loan applications are from California State\n",
    "- Majority of the loan amount are from ~5K to ~15K\n",
    "- Most loans are lent to borrowers with DTI ratio in between 10 and 20.\n",
    "- Majority of the home owners have either high work experience of 10 + years or 1 year. "
   ]
  },
  {
   "cell_type": "markdown",
   "id": "25b1f36d",
   "metadata": {},
   "source": [
    "## 6. Segmented Univariate Analysis"
   ]
  },
  {
   "cell_type": "code",
   "execution_count": 609,
   "id": "cd0746f2",
   "metadata": {},
   "outputs": [
    {
     "data": {
      "text/plain": [
       "loan_status  home_ownership\n",
       "Charged Off  MORTGAGE          14010.469157\n",
       "             OTHER             13747.222222\n",
       "             OWN               10996.306818\n",
       "             RENT              10591.058782\n",
       "Fully Paid   MORTGAGE          12081.579676\n",
       "             OTHER              9559.567901\n",
       "             OWN                9868.617870\n",
       "             RENT               9719.859693\n",
       "Name: loan_amnt, dtype: float64"
      ]
     },
     "execution_count": 609,
     "metadata": {},
     "output_type": "execute_result"
    }
   ],
   "source": [
    "loan.groupby([\"loan_status\", 'home_ownership'])[\"loan_amnt\"].agg(np.mean)"
   ]
  },
  {
   "cell_type": "code",
   "execution_count": 610,
   "id": "0700c0f5",
   "metadata": {},
   "outputs": [
    {
     "data": {
      "text/plain": [
       "loan_status  emp_length\n",
       "Charged Off  -1             8824.669604\n",
       "              1            10411.995413\n",
       "              2            10656.149733\n",
       "              3            11297.731397\n",
       "              4            11430.592105\n",
       "              5            12029.276316\n",
       "              6            12596.803279\n",
       "              7            12810.591603\n",
       "              8            13050.862069\n",
       "              9            12996.815287\n",
       "              10           14518.028116\n",
       "Fully Paid   -1             8321.941323\n",
       "              1             9588.533374\n",
       "              2             9901.092562\n",
       "              3            10405.633392\n",
       "              4            10675.839454\n",
       "              5            10900.672935\n",
       "              6            11123.808234\n",
       "              7            11247.473868\n",
       "              8            11401.562500\n",
       "              9            11676.984877\n",
       "              10           12363.064791\n",
       "Name: loan_amnt, dtype: float64"
      ]
     },
     "execution_count": 610,
     "metadata": {},
     "output_type": "execute_result"
    }
   ],
   "source": [
    "loan.groupby([\"loan_status\", 'emp_length'])[\"loan_amnt\"].agg(np.mean)"
   ]
  },
  {
   "cell_type": "code",
   "execution_count": 611,
   "id": "699c6a1b",
   "metadata": {},
   "outputs": [
    {
     "data": {
      "text/plain": [
       "loan_status\n",
       "Charged Off    13.808626\n",
       "Fully Paid     11.594082\n",
       "Name: int_rate, dtype: float64"
      ]
     },
     "execution_count": 611,
     "metadata": {},
     "output_type": "execute_result"
    }
   ],
   "source": [
    "loan.groupby([\"loan_status\"])[\"int_rate\"].agg(np.mean)"
   ]
  },
  {
   "cell_type": "code",
   "execution_count": 612,
   "id": "4785b4ab",
   "metadata": {},
   "outputs": [
    {
     "data": {
      "text/plain": [
       "loan_status\n",
       "Charged Off    14.044989\n",
       "Fully Paid     13.211646\n",
       "Name: dti, dtype: float64"
      ]
     },
     "execution_count": 612,
     "metadata": {},
     "output_type": "execute_result"
    }
   ],
   "source": [
    "loan.groupby([\"loan_status\"])[\"dti\"].agg(np.mean)"
   ]
  },
  {
   "cell_type": "code",
   "execution_count": 613,
   "id": "c714361a",
   "metadata": {},
   "outputs": [
    {
     "data": {
      "text/plain": [
       "loan_status\n",
       "Charged Off    59840.876109\n",
       "Fully Paid     66250.824386\n",
       "Name: annual_inc, dtype: float64"
      ]
     },
     "execution_count": 613,
     "metadata": {},
     "output_type": "execute_result"
    }
   ],
   "source": [
    "loan.groupby([\"loan_status\"])[\"annual_inc\"].agg(np.mean)"
   ]
  },
  {
   "cell_type": "code",
   "execution_count": 614,
   "id": "b234787e",
   "metadata": {},
   "outputs": [
    {
     "data": {
      "text/plain": [
       "loan_status\n",
       "Charged Off    334.277242\n",
       "Fully Paid     317.483484\n",
       "Name: installment, dtype: float64"
      ]
     },
     "execution_count": 614,
     "metadata": {},
     "output_type": "execute_result"
    }
   ],
   "source": [
    "loan.groupby([\"loan_status\"])[\"installment\"].agg(np.mean)"
   ]
  },
  {
   "cell_type": "code",
   "execution_count": 615,
   "id": "e1b689f7",
   "metadata": {},
   "outputs": [
    {
     "data": {
      "text/plain": [
       "loan_status  grade\n",
       "Charged Off  A         7801.247920\n",
       "             B        10852.422207\n",
       "             C        11006.054396\n",
       "             D        12184.172662\n",
       "             E        15782.137784\n",
       "             F        19059.134615\n",
       "             G        18557.575758\n",
       "Fully Paid   A         8625.871907\n",
       "             B        10870.165732\n",
       "             C        10691.705662\n",
       "             D        12006.730524\n",
       "             E        15446.432319\n",
       "             F        17244.158879\n",
       "             G        20827.105263\n",
       "Name: loan_amnt, dtype: float64"
      ]
     },
     "execution_count": 615,
     "metadata": {},
     "output_type": "execute_result"
    }
   ],
   "source": [
    "loan.groupby([\"loan_status\", \"grade\"])[\"loan_amnt\"].agg(np.mean)"
   ]
  },
  {
   "cell_type": "code",
   "execution_count": 616,
   "id": "0671f1ac",
   "metadata": {},
   "outputs": [
    {
     "data": {
      "text/plain": [
       "loan_status  home_ownership\n",
       "Charged Off  MORTGAGE          14010.469157\n",
       "             OTHER             13747.222222\n",
       "             OWN               10996.306818\n",
       "             RENT              10591.058782\n",
       "Fully Paid   MORTGAGE          12081.579676\n",
       "             OTHER              9559.567901\n",
       "             OWN                9868.617870\n",
       "             RENT               9719.859693\n",
       "Name: loan_amnt, dtype: float64"
      ]
     },
     "execution_count": 616,
     "metadata": {},
     "output_type": "execute_result"
    }
   ],
   "source": [
    "loan.groupby([\"loan_status\", \"home_ownership\"])[\"loan_amnt\"].agg(np.mean)"
   ]
  },
  {
   "cell_type": "code",
   "execution_count": 617,
   "id": "139ce11e",
   "metadata": {},
   "outputs": [
    {
     "data": {
      "text/plain": [
       "loan_status  verification_status\n",
       "Charged Off  Not Verified            8630.622066\n",
       "             Source Verified        10625.562588\n",
       "             Verified               16611.368110\n",
       "Fully Paid   Not Verified            8314.532956\n",
       "             Source Verified         9708.796410\n",
       "             Verified               15211.213621\n",
       "Name: loan_amnt, dtype: float64"
      ]
     },
     "execution_count": 617,
     "metadata": {},
     "output_type": "execute_result"
    }
   ],
   "source": [
    "loan.groupby([\"loan_status\", \"verification_status\"])[\"loan_amnt\"].agg(np.mean)"
   ]
  },
  {
   "cell_type": "markdown",
   "id": "98f17bb8",
   "metadata": {},
   "source": [
    "#### Step 6.1 Observation from Segmented Univariate Analysis\n",
    "- Loan amount for charged-off loans are higher than fully paid loans\n",
    "- Interests rate are higher for charged off loans.\n",
    "- DTI ration for charged-off loans are higher.\n",
    "- Annual income for fully paid loan are higher.\n",
    "- Interestingly, loan amount goes up with pooper grade.\n",
    "- The loan amounts are higher for people with Mortage then people with own houses.\n",
    "- The loan amounts are higer for verified individuals"
   ]
  },
  {
   "cell_type": "code",
   "execution_count": null,
   "id": "2718dbff",
   "metadata": {},
   "outputs": [],
   "source": []
  },
  {
   "cell_type": "markdown",
   "id": "94e239cd",
   "metadata": {},
   "source": [
    "## 7. Bivariate Analysis"
   ]
  },
  {
   "cell_type": "markdown",
   "id": "6bf2d7f3",
   "metadata": {},
   "source": [
    "#### Step 7.1 - Continous Variable - Bivariant Analysis"
   ]
  },
  {
   "cell_type": "code",
   "execution_count": 618,
   "id": "93c1805b",
   "metadata": {},
   "outputs": [
    {
     "data": {
      "text/plain": [
       "(9.5, -0.5)"
      ]
     },
     "execution_count": 618,
     "metadata": {},
     "output_type": "execute_result"
    },
    {
     "data": {
      "image/png": "[encoded data removed]",
      "text/plain": [
       "<Figure size 1500x1500 with 2 Axes>"
      ]
     },
     "metadata": {},
     "output_type": "display_data"
    }
   ],
   "source": [
    "plt.figure(figsize=(15,15))\n",
    "cont_var= ['loan_amnt', 'int_rate', 'installment','annual_inc','dti', 'issued_year', 'issued_month', 'term', 'emp_length']\n",
    "corr = loan[cont_var].corr()\n",
    "g=sns.heatmap(corr, annot=True, center=0.5)\n",
    "bottom, top = g.get_ylim()\n",
    "g.set_ylim(bottom + 0.5,top - 0.5)"
   ]
  },
  {
   "cell_type": "markdown",
   "id": "fba4d0c7",
   "metadata": {},
   "source": [
    "#### Step 7.2 - Categorical Variable - Bivariant Analysis"
   ]
  },
  {
   "cell_type": "code",
   "execution_count": 619,
   "id": "489c94b5",
   "metadata": {},
   "outputs": [
    {
     "data": {
      "text/html": [
       "<div>\n",
       "<style scoped>\n",
       "    .dataframe tbody tr th:only-of-type {\n",
       "        vertical-align: middle;\n",
       "    }\n",
       "\n",
       "    .dataframe tbody tr th {\n",
       "        vertical-align: top;\n",
       "    }\n",
       "\n",
       "    .dataframe thead tr th {\n",
       "        text-align: left;\n",
       "    }\n",
       "\n",
       "    .dataframe thead tr:last-of-type th {\n",
       "        text-align: right;\n",
       "    }\n",
       "</style>\n",
       "<table border=\"1\" class=\"dataframe\">\n",
       "  <thead>\n",
       "    <tr>\n",
       "      <th></th>\n",
       "      <th colspan=\"2\" halign=\"left\">annual_inc</th>\n",
       "      <th colspan=\"2\" halign=\"left\">dti</th>\n",
       "      <th colspan=\"2\" halign=\"left\">emp_length</th>\n",
       "      <th colspan=\"2\" halign=\"left\">installment</th>\n",
       "      <th colspan=\"2\" halign=\"left\">int_rate</th>\n",
       "      <th colspan=\"2\" halign=\"left\">issued_month</th>\n",
       "      <th colspan=\"2\" halign=\"left\">issued_year</th>\n",
       "      <th colspan=\"2\" halign=\"left\">loan_amnt</th>\n",
       "      <th colspan=\"2\" halign=\"left\">sub_grade</th>\n",
       "      <th colspan=\"2\" halign=\"left\">term</th>\n",
       "    </tr>\n",
       "    <tr>\n",
       "      <th>loan_status</th>\n",
       "      <th>Charged Off</th>\n",
       "      <th>Fully Paid</th>\n",
       "      <th>Charged Off</th>\n",
       "      <th>Fully Paid</th>\n",
       "      <th>Charged Off</th>\n",
       "      <th>Fully Paid</th>\n",
       "      <th>Charged Off</th>\n",
       "      <th>Fully Paid</th>\n",
       "      <th>Charged Off</th>\n",
       "      <th>Fully Paid</th>\n",
       "      <th>Charged Off</th>\n",
       "      <th>Fully Paid</th>\n",
       "      <th>Charged Off</th>\n",
       "      <th>Fully Paid</th>\n",
       "      <th>Charged Off</th>\n",
       "      <th>Fully Paid</th>\n",
       "      <th>Charged Off</th>\n",
       "      <th>Fully Paid</th>\n",
       "      <th>Charged Off</th>\n",
       "      <th>Fully Paid</th>\n",
       "    </tr>\n",
       "    <tr>\n",
       "      <th>grade</th>\n",
       "      <th></th>\n",
       "      <th></th>\n",
       "      <th></th>\n",
       "      <th></th>\n",
       "      <th></th>\n",
       "      <th></th>\n",
       "      <th></th>\n",
       "      <th></th>\n",
       "      <th></th>\n",
       "      <th></th>\n",
       "      <th></th>\n",
       "      <th></th>\n",
       "      <th></th>\n",
       "      <th></th>\n",
       "      <th></th>\n",
       "      <th></th>\n",
       "      <th></th>\n",
       "      <th></th>\n",
       "      <th></th>\n",
       "      <th></th>\n",
       "    </tr>\n",
       "  </thead>\n",
       "  <tbody>\n",
       "    <tr>\n",
       "      <th>A</th>\n",
       "      <td>52181.767671</td>\n",
       "      <td>64846.519149</td>\n",
       "      <td>13.362679</td>\n",
       "      <td>12.011012</td>\n",
       "      <td>4.747088</td>\n",
       "      <td>4.950405</td>\n",
       "      <td>231.631730</td>\n",
       "      <td>257.125358</td>\n",
       "      <td>7.595890</td>\n",
       "      <td>7.312759</td>\n",
       "      <td>7.517471</td>\n",
       "      <td>7.238268</td>\n",
       "      <td>2010.424293</td>\n",
       "      <td>2010.372867</td>\n",
       "      <td>7801.247920</td>\n",
       "      <td>8625.871907</td>\n",
       "      <td>3.792013</td>\n",
       "      <td>3.426728</td>\n",
       "      <td>37.477537</td>\n",
       "      <td>36.911263</td>\n",
       "    </tr>\n",
       "    <tr>\n",
       "      <th>B</th>\n",
       "      <td>56968.265969</td>\n",
       "      <td>65706.901148</td>\n",
       "      <td>13.885778</td>\n",
       "      <td>13.382458</td>\n",
       "      <td>4.798444</td>\n",
       "      <td>4.862005</td>\n",
       "      <td>298.684335</td>\n",
       "      <td>320.117623</td>\n",
       "      <td>11.127023</td>\n",
       "      <td>10.992697</td>\n",
       "      <td>7.398868</td>\n",
       "      <td>7.122652</td>\n",
       "      <td>2010.326733</td>\n",
       "      <td>2010.311891</td>\n",
       "      <td>10852.422207</td>\n",
       "      <td>10870.165732</td>\n",
       "      <td>3.335926</td>\n",
       "      <td>3.157372</td>\n",
       "      <td>43.451202</td>\n",
       "      <td>40.473296</td>\n",
       "    </tr>\n",
       "    <tr>\n",
       "      <th>C</th>\n",
       "      <td>56669.875075</td>\n",
       "      <td>64714.140894</td>\n",
       "      <td>14.436699</td>\n",
       "      <td>13.815119</td>\n",
       "      <td>4.875559</td>\n",
       "      <td>4.725160</td>\n",
       "      <td>308.060209</td>\n",
       "      <td>317.249153</td>\n",
       "      <td>13.600894</td>\n",
       "      <td>13.518200</td>\n",
       "      <td>7.193741</td>\n",
       "      <td>7.036968</td>\n",
       "      <td>2010.253353</td>\n",
       "      <td>2010.157542</td>\n",
       "      <td>11006.054396</td>\n",
       "      <td>10691.705662</td>\n",
       "      <td>2.731744</td>\n",
       "      <td>2.666043</td>\n",
       "      <td>44.941878</td>\n",
       "      <td>41.843706</td>\n",
       "    </tr>\n",
       "    <tr>\n",
       "      <th>D</th>\n",
       "      <td>60738.125665</td>\n",
       "      <td>66402.922496</td>\n",
       "      <td>13.995504</td>\n",
       "      <td>13.970176</td>\n",
       "      <td>5.017986</td>\n",
       "      <td>4.839336</td>\n",
       "      <td>344.696835</td>\n",
       "      <td>364.560054</td>\n",
       "      <td>15.840207</td>\n",
       "      <td>15.611267</td>\n",
       "      <td>7.211331</td>\n",
       "      <td>6.821967</td>\n",
       "      <td>2010.329137</td>\n",
       "      <td>2010.247510</td>\n",
       "      <td>12184.172662</td>\n",
       "      <td>12006.730524</td>\n",
       "      <td>3.026079</td>\n",
       "      <td>2.850319</td>\n",
       "      <td>47.568345</td>\n",
       "      <td>44.000000</td>\n",
       "    </tr>\n",
       "    <tr>\n",
       "      <th>E</th>\n",
       "      <td>68215.209702</td>\n",
       "      <td>73831.602975</td>\n",
       "      <td>14.290227</td>\n",
       "      <td>14.105855</td>\n",
       "      <td>5.103693</td>\n",
       "      <td>5.093389</td>\n",
       "      <td>418.563310</td>\n",
       "      <td>424.668284</td>\n",
       "      <td>17.862372</td>\n",
       "      <td>17.535829</td>\n",
       "      <td>7.281250</td>\n",
       "      <td>6.891920</td>\n",
       "      <td>2010.522727</td>\n",
       "      <td>2010.380902</td>\n",
       "      <td>15782.137784</td>\n",
       "      <td>15446.432319</td>\n",
       "      <td>2.698864</td>\n",
       "      <td>2.655299</td>\n",
       "      <td>54.136364</td>\n",
       "      <td>51.462749</td>\n",
       "    </tr>\n",
       "    <tr>\n",
       "      <th>F</th>\n",
       "      <td>74858.985224</td>\n",
       "      <td>80107.243364</td>\n",
       "      <td>14.120929</td>\n",
       "      <td>14.389564</td>\n",
       "      <td>5.580128</td>\n",
       "      <td>5.063863</td>\n",
       "      <td>515.169519</td>\n",
       "      <td>473.103925</td>\n",
       "      <td>20.005449</td>\n",
       "      <td>19.448115</td>\n",
       "      <td>7.544872</td>\n",
       "      <td>6.679128</td>\n",
       "      <td>2010.592949</td>\n",
       "      <td>2010.496885</td>\n",
       "      <td>19059.134615</td>\n",
       "      <td>17244.158879</td>\n",
       "      <td>2.721154</td>\n",
       "      <td>2.411215</td>\n",
       "      <td>56.000000</td>\n",
       "      <td>54.280374</td>\n",
       "    </tr>\n",
       "    <tr>\n",
       "      <th>G</th>\n",
       "      <td>73391.945758</td>\n",
       "      <td>90504.836211</td>\n",
       "      <td>13.723838</td>\n",
       "      <td>14.376895</td>\n",
       "      <td>5.131313</td>\n",
       "      <td>5.678947</td>\n",
       "      <td>534.673333</td>\n",
       "      <td>591.859632</td>\n",
       "      <td>21.465758</td>\n",
       "      <td>21.204053</td>\n",
       "      <td>7.535354</td>\n",
       "      <td>6.884211</td>\n",
       "      <td>2010.525253</td>\n",
       "      <td>2010.484211</td>\n",
       "      <td>18557.575758</td>\n",
       "      <td>20827.105263</td>\n",
       "      <td>2.424242</td>\n",
       "      <td>2.505263</td>\n",
       "      <td>55.151515</td>\n",
       "      <td>55.578947</td>\n",
       "    </tr>\n",
       "  </tbody>\n",
       "</table>\n",
       "</div>"
      ],
      "text/plain": [
       "               annual_inc                       dti             emp_length  \\\n",
       "loan_status   Charged Off    Fully Paid Charged Off Fully Paid Charged Off   \n",
       "grade                                                                        \n",
       "A            52181.767671  64846.519149   13.362679  12.011012    4.747088   \n",
       "B            56968.265969  65706.901148   13.885778  13.382458    4.798444   \n",
       "C            56669.875075  64714.140894   14.436699  13.815119    4.875559   \n",
       "D            60738.125665  66402.922496   13.995504  13.970176    5.017986   \n",
       "E            68215.209702  73831.602975   14.290227  14.105855    5.103693   \n",
       "F            74858.985224  80107.243364   14.120929  14.389564    5.580128   \n",
       "G            73391.945758  90504.836211   13.723838  14.376895    5.131313   \n",
       "\n",
       "                       installment                int_rate             \\\n",
       "loan_status Fully Paid Charged Off  Fully Paid Charged Off Fully Paid   \n",
       "grade                                                                   \n",
       "A             4.950405  231.631730  257.125358    7.595890   7.312759   \n",
       "B             4.862005  298.684335  320.117623   11.127023  10.992697   \n",
       "C             4.725160  308.060209  317.249153   13.600894  13.518200   \n",
       "D             4.839336  344.696835  364.560054   15.840207  15.611267   \n",
       "E             5.093389  418.563310  424.668284   17.862372  17.535829   \n",
       "F             5.063863  515.169519  473.103925   20.005449  19.448115   \n",
       "G             5.678947  534.673333  591.859632   21.465758  21.204053   \n",
       "\n",
       "            issued_month             issued_year                  loan_amnt  \\\n",
       "loan_status  Charged Off Fully Paid  Charged Off   Fully Paid   Charged Off   \n",
       "grade                                                                         \n",
       "A               7.517471   7.238268  2010.424293  2010.372867   7801.247920   \n",
       "B               7.398868   7.122652  2010.326733  2010.311891  10852.422207   \n",
       "C               7.193741   7.036968  2010.253353  2010.157542  11006.054396   \n",
       "D               7.211331   6.821967  2010.329137  2010.247510  12184.172662   \n",
       "E               7.281250   6.891920  2010.522727  2010.380902  15782.137784   \n",
       "F               7.544872   6.679128  2010.592949  2010.496885  19059.134615   \n",
       "G               7.535354   6.884211  2010.525253  2010.484211  18557.575758   \n",
       "\n",
       "                            sub_grade                   term             \n",
       "loan_status    Fully Paid Charged Off Fully Paid Charged Off Fully Paid  \n",
       "grade                                                                    \n",
       "A             8625.871907    3.792013   3.426728   37.477537  36.911263  \n",
       "B            10870.165732    3.335926   3.157372   43.451202  40.473296  \n",
       "C            10691.705662    2.731744   2.666043   44.941878  41.843706  \n",
       "D            12006.730524    3.026079   2.850319   47.568345  44.000000  \n",
       "E            15446.432319    2.698864   2.655299   54.136364  51.462749  \n",
       "F            17244.158879    2.721154   2.411215   56.000000  54.280374  \n",
       "G            20827.105263    2.424242   2.505263   55.151515  55.578947  "
      ]
     },
     "execution_count": 619,
     "metadata": {},
     "output_type": "execute_result"
    }
   ],
   "source": [
    "pd.pivot_table(loan, index=[\"grade\"],columns=['loan_status'], aggfunc=np.mean)"
   ]
  },
  {
   "cell_type": "code",
   "execution_count": 620,
   "id": "ed28a7d1",
   "metadata": {},
   "outputs": [
    {
     "data": {
      "text/html": [
       "<div>\n",
       "<style scoped>\n",
       "    .dataframe tbody tr th:only-of-type {\n",
       "        vertical-align: middle;\n",
       "    }\n",
       "\n",
       "    .dataframe tbody tr th {\n",
       "        vertical-align: top;\n",
       "    }\n",
       "\n",
       "    .dataframe thead tr th {\n",
       "        text-align: left;\n",
       "    }\n",
       "\n",
       "    .dataframe thead tr:last-of-type th {\n",
       "        text-align: right;\n",
       "    }\n",
       "</style>\n",
       "<table border=\"1\" class=\"dataframe\">\n",
       "  <thead>\n",
       "    <tr>\n",
       "      <th></th>\n",
       "      <th colspan=\"2\" halign=\"left\">annual_inc</th>\n",
       "      <th colspan=\"2\" halign=\"left\">dti</th>\n",
       "      <th colspan=\"2\" halign=\"left\">emp_length</th>\n",
       "      <th colspan=\"2\" halign=\"left\">installment</th>\n",
       "      <th colspan=\"2\" halign=\"left\">int_rate</th>\n",
       "      <th colspan=\"2\" halign=\"left\">issued_month</th>\n",
       "      <th colspan=\"2\" halign=\"left\">issued_year</th>\n",
       "      <th colspan=\"2\" halign=\"left\">loan_amnt</th>\n",
       "      <th colspan=\"2\" halign=\"left\">sub_grade</th>\n",
       "      <th colspan=\"2\" halign=\"left\">term</th>\n",
       "    </tr>\n",
       "    <tr>\n",
       "      <th>loan_status</th>\n",
       "      <th>Charged Off</th>\n",
       "      <th>Fully Paid</th>\n",
       "      <th>Charged Off</th>\n",
       "      <th>Fully Paid</th>\n",
       "      <th>Charged Off</th>\n",
       "      <th>Fully Paid</th>\n",
       "      <th>Charged Off</th>\n",
       "      <th>Fully Paid</th>\n",
       "      <th>Charged Off</th>\n",
       "      <th>Fully Paid</th>\n",
       "      <th>Charged Off</th>\n",
       "      <th>Fully Paid</th>\n",
       "      <th>Charged Off</th>\n",
       "      <th>Fully Paid</th>\n",
       "      <th>Charged Off</th>\n",
       "      <th>Fully Paid</th>\n",
       "      <th>Charged Off</th>\n",
       "      <th>Fully Paid</th>\n",
       "      <th>Charged Off</th>\n",
       "      <th>Fully Paid</th>\n",
       "    </tr>\n",
       "    <tr>\n",
       "      <th>home_ownership</th>\n",
       "      <th></th>\n",
       "      <th></th>\n",
       "      <th></th>\n",
       "      <th></th>\n",
       "      <th></th>\n",
       "      <th></th>\n",
       "      <th></th>\n",
       "      <th></th>\n",
       "      <th></th>\n",
       "      <th></th>\n",
       "      <th></th>\n",
       "      <th></th>\n",
       "      <th></th>\n",
       "      <th></th>\n",
       "      <th></th>\n",
       "      <th></th>\n",
       "      <th></th>\n",
       "      <th></th>\n",
       "      <th></th>\n",
       "      <th></th>\n",
       "    </tr>\n",
       "  </thead>\n",
       "  <tbody>\n",
       "    <tr>\n",
       "      <th>MORTGAGE</th>\n",
       "      <td>71541.635248</td>\n",
       "      <td>78657.233157</td>\n",
       "      <td>14.280026</td>\n",
       "      <td>13.027207</td>\n",
       "      <td>5.817550</td>\n",
       "      <td>5.825696</td>\n",
       "      <td>377.370821</td>\n",
       "      <td>346.361754</td>\n",
       "      <td>13.777255</td>\n",
       "      <td>11.301053</td>\n",
       "      <td>7.289314</td>\n",
       "      <td>7.092275</td>\n",
       "      <td>2010.387489</td>\n",
       "      <td>2010.362315</td>\n",
       "      <td>14010.469157</td>\n",
       "      <td>12081.579676</td>\n",
       "      <td>3.052129</td>\n",
       "      <td>3.044787</td>\n",
       "      <td>47.833189</td>\n",
       "      <td>42.326457</td>\n",
       "    </tr>\n",
       "    <tr>\n",
       "      <th>OTHER</th>\n",
       "      <td>63433.055556</td>\n",
       "      <td>64750.086420</td>\n",
       "      <td>13.128889</td>\n",
       "      <td>10.871235</td>\n",
       "      <td>4.500000</td>\n",
       "      <td>4.061728</td>\n",
       "      <td>444.305556</td>\n",
       "      <td>300.613580</td>\n",
       "      <td>13.185556</td>\n",
       "      <td>11.600000</td>\n",
       "      <td>4.777778</td>\n",
       "      <td>6.432099</td>\n",
       "      <td>2009.111111</td>\n",
       "      <td>2008.641975</td>\n",
       "      <td>13747.222222</td>\n",
       "      <td>9559.567901</td>\n",
       "      <td>3.000000</td>\n",
       "      <td>3.246914</td>\n",
       "      <td>37.333333</td>\n",
       "      <td>36.000000</td>\n",
       "    </tr>\n",
       "    <tr>\n",
       "      <th>OWN</th>\n",
       "      <td>51251.331864</td>\n",
       "      <td>56723.451855</td>\n",
       "      <td>13.859432</td>\n",
       "      <td>13.139753</td>\n",
       "      <td>4.663636</td>\n",
       "      <td>4.944555</td>\n",
       "      <td>306.891659</td>\n",
       "      <td>293.531328</td>\n",
       "      <td>13.688705</td>\n",
       "      <td>11.322513</td>\n",
       "      <td>7.225000</td>\n",
       "      <td>7.262864</td>\n",
       "      <td>2010.388636</td>\n",
       "      <td>2010.256881</td>\n",
       "      <td>10996.306818</td>\n",
       "      <td>9868.617870</td>\n",
       "      <td>3.086364</td>\n",
       "      <td>3.046669</td>\n",
       "      <td>46.363636</td>\n",
       "      <td>40.575987</td>\n",
       "    </tr>\n",
       "    <tr>\n",
       "      <th>RENT</th>\n",
       "      <td>51618.352277</td>\n",
       "      <td>56283.811067</td>\n",
       "      <td>13.888148</td>\n",
       "      <td>13.406484</td>\n",
       "      <td>4.276912</td>\n",
       "      <td>3.996725</td>\n",
       "      <td>302.714823</td>\n",
       "      <td>294.638754</td>\n",
       "      <td>13.856856</td>\n",
       "      <td>11.909592</td>\n",
       "      <td>7.377479</td>\n",
       "      <td>7.041161</td>\n",
       "      <td>2010.347380</td>\n",
       "      <td>2010.257818</td>\n",
       "      <td>10591.058782</td>\n",
       "      <td>9719.859693</td>\n",
       "      <td>3.037535</td>\n",
       "      <td>3.061709</td>\n",
       "      <td>44.983003</td>\n",
       "      <td>40.165671</td>\n",
       "    </tr>\n",
       "  </tbody>\n",
       "</table>\n",
       "</div>"
      ],
      "text/plain": [
       "                  annual_inc                       dti             emp_length  \\\n",
       "loan_status      Charged Off    Fully Paid Charged Off Fully Paid Charged Off   \n",
       "home_ownership                                                                  \n",
       "MORTGAGE        71541.635248  78657.233157   14.280026  13.027207    5.817550   \n",
       "OTHER           63433.055556  64750.086420   13.128889  10.871235    4.500000   \n",
       "OWN             51251.331864  56723.451855   13.859432  13.139753    4.663636   \n",
       "RENT            51618.352277  56283.811067   13.888148  13.406484    4.276912   \n",
       "\n",
       "                          installment                int_rate             \\\n",
       "loan_status    Fully Paid Charged Off  Fully Paid Charged Off Fully Paid   \n",
       "home_ownership                                                             \n",
       "MORTGAGE         5.825696  377.370821  346.361754   13.777255  11.301053   \n",
       "OTHER            4.061728  444.305556  300.613580   13.185556  11.600000   \n",
       "OWN              4.944555  306.891659  293.531328   13.688705  11.322513   \n",
       "RENT             3.996725  302.714823  294.638754   13.856856  11.909592   \n",
       "\n",
       "               issued_month             issued_year               \\\n",
       "loan_status     Charged Off Fully Paid  Charged Off   Fully Paid   \n",
       "home_ownership                                                     \n",
       "MORTGAGE           7.289314   7.092275  2010.387489  2010.362315   \n",
       "OTHER              4.777778   6.432099  2009.111111  2008.641975   \n",
       "OWN                7.225000   7.262864  2010.388636  2010.256881   \n",
       "RENT               7.377479   7.041161  2010.347380  2010.257818   \n",
       "\n",
       "                   loan_amnt                 sub_grade                   term  \\\n",
       "loan_status      Charged Off    Fully Paid Charged Off Fully Paid Charged Off   \n",
       "home_ownership                                                                  \n",
       "MORTGAGE        14010.469157  12081.579676    3.052129   3.044787   47.833189   \n",
       "OTHER           13747.222222   9559.567901    3.000000   3.246914   37.333333   \n",
       "OWN             10996.306818   9868.617870    3.086364   3.046669   46.363636   \n",
       "RENT            10591.058782   9719.859693    3.037535   3.061709   44.983003   \n",
       "\n",
       "                           \n",
       "loan_status    Fully Paid  \n",
       "home_ownership             \n",
       "MORTGAGE        42.326457  \n",
       "OTHER           36.000000  \n",
       "OWN             40.575987  \n",
       "RENT            40.165671  "
      ]
     },
     "execution_count": 620,
     "metadata": {},
     "output_type": "execute_result"
    }
   ],
   "source": [
    "pd.pivot_table(loan, index=[\"home_ownership\"],columns=['loan_status'], aggfunc=np.mean)"
   ]
  },
  {
   "cell_type": "code",
   "execution_count": 621,
   "id": "8b0824c9",
   "metadata": {},
   "outputs": [
    {
     "data": {
      "text/html": [
       "<div>\n",
       "<style scoped>\n",
       "    .dataframe tbody tr th:only-of-type {\n",
       "        vertical-align: middle;\n",
       "    }\n",
       "\n",
       "    .dataframe tbody tr th {\n",
       "        vertical-align: top;\n",
       "    }\n",
       "\n",
       "    .dataframe thead tr th {\n",
       "        text-align: left;\n",
       "    }\n",
       "\n",
       "    .dataframe thead tr:last-of-type th {\n",
       "        text-align: right;\n",
       "    }\n",
       "</style>\n",
       "<table border=\"1\" class=\"dataframe\">\n",
       "  <thead>\n",
       "    <tr>\n",
       "      <th></th>\n",
       "      <th colspan=\"2\" halign=\"left\">annual_inc</th>\n",
       "      <th colspan=\"2\" halign=\"left\">dti</th>\n",
       "      <th colspan=\"2\" halign=\"left\">emp_length</th>\n",
       "      <th colspan=\"2\" halign=\"left\">installment</th>\n",
       "      <th colspan=\"2\" halign=\"left\">int_rate</th>\n",
       "      <th colspan=\"2\" halign=\"left\">issued_month</th>\n",
       "      <th colspan=\"2\" halign=\"left\">issued_year</th>\n",
       "      <th colspan=\"2\" halign=\"left\">loan_amnt</th>\n",
       "      <th colspan=\"2\" halign=\"left\">sub_grade</th>\n",
       "    </tr>\n",
       "    <tr>\n",
       "      <th>loan_status</th>\n",
       "      <th>Charged Off</th>\n",
       "      <th>Fully Paid</th>\n",
       "      <th>Charged Off</th>\n",
       "      <th>Fully Paid</th>\n",
       "      <th>Charged Off</th>\n",
       "      <th>Fully Paid</th>\n",
       "      <th>Charged Off</th>\n",
       "      <th>Fully Paid</th>\n",
       "      <th>Charged Off</th>\n",
       "      <th>Fully Paid</th>\n",
       "      <th>Charged Off</th>\n",
       "      <th>Fully Paid</th>\n",
       "      <th>Charged Off</th>\n",
       "      <th>Fully Paid</th>\n",
       "      <th>Charged Off</th>\n",
       "      <th>Fully Paid</th>\n",
       "      <th>Charged Off</th>\n",
       "      <th>Fully Paid</th>\n",
       "    </tr>\n",
       "    <tr>\n",
       "      <th>term</th>\n",
       "      <th></th>\n",
       "      <th></th>\n",
       "      <th></th>\n",
       "      <th></th>\n",
       "      <th></th>\n",
       "      <th></th>\n",
       "      <th></th>\n",
       "      <th></th>\n",
       "      <th></th>\n",
       "      <th></th>\n",
       "      <th></th>\n",
       "      <th></th>\n",
       "      <th></th>\n",
       "      <th></th>\n",
       "      <th></th>\n",
       "      <th></th>\n",
       "      <th></th>\n",
       "      <th></th>\n",
       "    </tr>\n",
       "  </thead>\n",
       "  <tbody>\n",
       "    <tr>\n",
       "      <th>36</th>\n",
       "      <td>56582.413240</td>\n",
       "      <td>64753.875804</td>\n",
       "      <td>13.689053</td>\n",
       "      <td>12.958569</td>\n",
       "      <td>4.495158</td>\n",
       "      <td>4.707354</td>\n",
       "      <td>308.689547</td>\n",
       "      <td>309.268172</td>\n",
       "      <td>12.370347</td>\n",
       "      <td>10.823664</td>\n",
       "      <td>7.135583</td>\n",
       "      <td>7.040714</td>\n",
       "      <td>2010.088097</td>\n",
       "      <td>2010.202631</td>\n",
       "      <td>9319.900031</td>\n",
       "      <td>9542.342298</td>\n",
       "      <td>3.030303</td>\n",
       "      <td>3.043719</td>\n",
       "    </tr>\n",
       "    <tr>\n",
       "      <th>60</th>\n",
       "      <td>64217.854557</td>\n",
       "      <td>71737.850966</td>\n",
       "      <td>14.523105</td>\n",
       "      <td>14.139295</td>\n",
       "      <td>5.545111</td>\n",
       "      <td>5.513092</td>\n",
       "      <td>368.648292</td>\n",
       "      <td>347.596499</td>\n",
       "      <td>15.740617</td>\n",
       "      <td>14.418028</td>\n",
       "      <td>7.569450</td>\n",
       "      <td>7.220919</td>\n",
       "      <td>2010.732690</td>\n",
       "      <td>2010.657032</td>\n",
       "      <td>15700.409148</td>\n",
       "      <td>15303.634282</td>\n",
       "      <td>3.070080</td>\n",
       "      <td>3.089426</td>\n",
       "    </tr>\n",
       "  </tbody>\n",
       "</table>\n",
       "</div>"
      ],
      "text/plain": [
       "               annual_inc                       dti             emp_length  \\\n",
       "loan_status   Charged Off    Fully Paid Charged Off Fully Paid Charged Off   \n",
       "term                                                                         \n",
       "36           56582.413240  64753.875804   13.689053  12.958569    4.495158   \n",
       "60           64217.854557  71737.850966   14.523105  14.139295    5.545111   \n",
       "\n",
       "                       installment                int_rate             \\\n",
       "loan_status Fully Paid Charged Off  Fully Paid Charged Off Fully Paid   \n",
       "term                                                                    \n",
       "36            4.707354  308.689547  309.268172   12.370347  10.823664   \n",
       "60            5.513092  368.648292  347.596499   15.740617  14.418028   \n",
       "\n",
       "            issued_month             issued_year                  loan_amnt  \\\n",
       "loan_status  Charged Off Fully Paid  Charged Off   Fully Paid   Charged Off   \n",
       "term                                                                          \n",
       "36              7.135583   7.040714  2010.088097  2010.202631   9319.900031   \n",
       "60              7.569450   7.220919  2010.732690  2010.657032  15700.409148   \n",
       "\n",
       "                            sub_grade             \n",
       "loan_status    Fully Paid Charged Off Fully Paid  \n",
       "term                                              \n",
       "36            9542.342298    3.030303   3.043719  \n",
       "60           15303.634282    3.070080   3.089426  "
      ]
     },
     "execution_count": 621,
     "metadata": {},
     "output_type": "execute_result"
    }
   ],
   "source": [
    "pd.pivot_table(loan, index=[\"term\"],columns=['loan_status'], aggfunc=np.mean)"
   ]
  },
  {
   "cell_type": "code",
   "execution_count": 624,
   "id": "db17fc0c",
   "metadata": {},
   "outputs": [
    {
     "data": {
      "text/html": [
       "<div>\n",
       "<style scoped>\n",
       "    .dataframe tbody tr th:only-of-type {\n",
       "        vertical-align: middle;\n",
       "    }\n",
       "\n",
       "    .dataframe tbody tr th {\n",
       "        vertical-align: top;\n",
       "    }\n",
       "\n",
       "    .dataframe thead tr th {\n",
       "        text-align: left;\n",
       "    }\n",
       "\n",
       "    .dataframe thead tr:last-of-type th {\n",
       "        text-align: right;\n",
       "    }\n",
       "</style>\n",
       "<table border=\"1\" class=\"dataframe\">\n",
       "  <thead>\n",
       "    <tr>\n",
       "      <th></th>\n",
       "      <th colspan=\"2\" halign=\"left\">annual_inc</th>\n",
       "      <th colspan=\"2\" halign=\"left\">dti</th>\n",
       "      <th colspan=\"2\" halign=\"left\">emp_length</th>\n",
       "      <th colspan=\"2\" halign=\"left\">installment</th>\n",
       "      <th colspan=\"2\" halign=\"left\">int_rate</th>\n",
       "      <th colspan=\"2\" halign=\"left\">issued_month</th>\n",
       "      <th colspan=\"2\" halign=\"left\">issued_year</th>\n",
       "      <th colspan=\"2\" halign=\"left\">loan_amnt</th>\n",
       "      <th colspan=\"2\" halign=\"left\">sub_grade</th>\n",
       "      <th colspan=\"2\" halign=\"left\">term</th>\n",
       "    </tr>\n",
       "    <tr>\n",
       "      <th>loan_status</th>\n",
       "      <th>Charged Off</th>\n",
       "      <th>Fully Paid</th>\n",
       "      <th>Charged Off</th>\n",
       "      <th>Fully Paid</th>\n",
       "      <th>Charged Off</th>\n",
       "      <th>Fully Paid</th>\n",
       "      <th>Charged Off</th>\n",
       "      <th>Fully Paid</th>\n",
       "      <th>Charged Off</th>\n",
       "      <th>Fully Paid</th>\n",
       "      <th>Charged Off</th>\n",
       "      <th>Fully Paid</th>\n",
       "      <th>Charged Off</th>\n",
       "      <th>Fully Paid</th>\n",
       "      <th>Charged Off</th>\n",
       "      <th>Fully Paid</th>\n",
       "      <th>Charged Off</th>\n",
       "      <th>Fully Paid</th>\n",
       "      <th>Charged Off</th>\n",
       "      <th>Fully Paid</th>\n",
       "    </tr>\n",
       "    <tr>\n",
       "      <th>verification_status</th>\n",
       "      <th></th>\n",
       "      <th></th>\n",
       "      <th></th>\n",
       "      <th></th>\n",
       "      <th></th>\n",
       "      <th></th>\n",
       "      <th></th>\n",
       "      <th></th>\n",
       "      <th></th>\n",
       "      <th></th>\n",
       "      <th></th>\n",
       "      <th></th>\n",
       "      <th></th>\n",
       "      <th></th>\n",
       "      <th></th>\n",
       "      <th></th>\n",
       "      <th></th>\n",
       "      <th></th>\n",
       "      <th></th>\n",
       "      <th></th>\n",
       "    </tr>\n",
       "  </thead>\n",
       "  <tbody>\n",
       "    <tr>\n",
       "      <th>Not Verified</th>\n",
       "      <td>53288.366376</td>\n",
       "      <td>59359.072320</td>\n",
       "      <td>13.848554</td>\n",
       "      <td>12.916756</td>\n",
       "      <td>4.588732</td>\n",
       "      <td>4.702225</td>\n",
       "      <td>260.640991</td>\n",
       "      <td>257.319224</td>\n",
       "      <td>12.683061</td>\n",
       "      <td>10.941369</td>\n",
       "      <td>6.982160</td>\n",
       "      <td>6.797568</td>\n",
       "      <td>2010.007512</td>\n",
       "      <td>2010.034130</td>\n",
       "      <td>8630.622066</td>\n",
       "      <td>8314.532956</td>\n",
       "      <td>3.033803</td>\n",
       "      <td>3.029225</td>\n",
       "      <td>41.509859</td>\n",
       "      <td>38.785685</td>\n",
       "    </tr>\n",
       "    <tr>\n",
       "      <th>Source Verified</th>\n",
       "      <td>58072.269951</td>\n",
       "      <td>64523.209738</td>\n",
       "      <td>12.945823</td>\n",
       "      <td>12.632513</td>\n",
       "      <td>4.709564</td>\n",
       "      <td>4.662651</td>\n",
       "      <td>289.629761</td>\n",
       "      <td>284.203666</td>\n",
       "      <td>14.126512</td>\n",
       "      <td>11.622092</td>\n",
       "      <td>7.413502</td>\n",
       "      <td>7.204942</td>\n",
       "      <td>2010.693390</td>\n",
       "      <td>2010.613474</td>\n",
       "      <td>10625.562588</td>\n",
       "      <td>9708.796410</td>\n",
       "      <td>3.016174</td>\n",
       "      <td>3.040816</td>\n",
       "      <td>48.016878</td>\n",
       "      <td>41.789034</td>\n",
       "    </tr>\n",
       "    <tr>\n",
       "      <th>Verified</th>\n",
       "      <td>67947.078711</td>\n",
       "      <td>77632.326230</td>\n",
       "      <td>15.020098</td>\n",
       "      <td>14.109627</td>\n",
       "      <td>5.478346</td>\n",
       "      <td>5.314331</td>\n",
       "      <td>442.709296</td>\n",
       "      <td>431.646454</td>\n",
       "      <td>14.766019</td>\n",
       "      <td>12.516126</td>\n",
       "      <td>7.610728</td>\n",
       "      <td>7.385039</td>\n",
       "      <td>2010.504921</td>\n",
       "      <td>2010.429943</td>\n",
       "      <td>16611.368110</td>\n",
       "      <td>15211.213621</td>\n",
       "      <td>3.083169</td>\n",
       "      <td>3.099010</td>\n",
       "      <td>49.960630</td>\n",
       "      <td>44.033603</td>\n",
       "    </tr>\n",
       "  </tbody>\n",
       "</table>\n",
       "</div>"
      ],
      "text/plain": [
       "                       annual_inc                       dti             \\\n",
       "loan_status           Charged Off    Fully Paid Charged Off Fully Paid   \n",
       "verification_status                                                      \n",
       "Not Verified         53288.366376  59359.072320   13.848554  12.916756   \n",
       "Source Verified      58072.269951  64523.209738   12.945823  12.632513   \n",
       "Verified             67947.078711  77632.326230   15.020098  14.109627   \n",
       "\n",
       "                     emp_length            installment              \\\n",
       "loan_status         Charged Off Fully Paid Charged Off  Fully Paid   \n",
       "verification_status                                                  \n",
       "Not Verified           4.588732   4.702225  260.640991  257.319224   \n",
       "Source Verified        4.709564   4.662651  289.629761  284.203666   \n",
       "Verified               5.478346   5.314331  442.709296  431.646454   \n",
       "\n",
       "                       int_rate            issued_month             \\\n",
       "loan_status         Charged Off Fully Paid  Charged Off Fully Paid   \n",
       "verification_status                                                  \n",
       "Not Verified          12.683061  10.941369     6.982160   6.797568   \n",
       "Source Verified       14.126512  11.622092     7.413502   7.204942   \n",
       "Verified              14.766019  12.516126     7.610728   7.385039   \n",
       "\n",
       "                     issued_year                  loan_amnt                \\\n",
       "loan_status          Charged Off   Fully Paid   Charged Off    Fully Paid   \n",
       "verification_status                                                         \n",
       "Not Verified         2010.007512  2010.034130   8630.622066   8314.532956   \n",
       "Source Verified      2010.693390  2010.613474  10625.562588   9708.796410   \n",
       "Verified             2010.504921  2010.429943  16611.368110  15211.213621   \n",
       "\n",
       "                      sub_grade                   term             \n",
       "loan_status         Charged Off Fully Paid Charged Off Fully Paid  \n",
       "verification_status                                                \n",
       "Not Verified           3.033803   3.029225   41.509859  38.785685  \n",
       "Source Verified        3.016174   3.040816   48.016878  41.789034  \n",
       "Verified               3.083169   3.099010   49.960630  44.033603  "
      ]
     },
     "execution_count": 624,
     "metadata": {},
     "output_type": "execute_result"
    }
   ],
   "source": [
    "pd.pivot_table(loan, index=[\"verification_status\"],columns=['loan_status'], aggfunc=np.mean)"
   ]
  },
  {
   "cell_type": "markdown",
   "id": "f465da79",
   "metadata": {},
   "source": [
    "## 8. Recommendations/Observations from Case Study"
   ]
  },
  {
   "cell_type": "markdown",
   "id": "61cb823d",
   "metadata": {},
   "source": [
    "The below analysis is for the chanrged-off loans. The probability for defaulting increases with following:\n",
    "- If the applicant home ownership is mortgage and loan amount is greater than 14K.\n",
    "- if the applicant employment duration is 10+ years and loan amount is greater than 14k.\n",
    "- Higher interest rate with around 14% rate, increasses the default posibility.\n",
    "- DTI ration of over 14, increasses the default posibility.\n",
    "- Lower annual income of about 60K, increasses the default posibility.\n",
    "- Grade G loan, with annual income of about 74K are more likely to default.\n",
    "- Owners on Rent with about 50K annual income, and 14% interest are more likely to default.\n",
    "- When the loan is verified and loan amount is over 16K and interest rate is around 15%."
   ]
  },
  {
   "cell_type": "code",
   "execution_count": null,
   "id": "7dea1e17",
   "metadata": {},
   "outputs": [],
   "source": []
  },
  {
   "cell_type": "code",
   "execution_count": null,
   "id": "b91193ce",
   "metadata": {},
   "outputs": [],
   "source": []
  },
  {
   "cell_type": "code",
   "execution_count": null,
   "id": "7d23b4b5",
   "metadata": {},
   "outputs": [],
   "source": []
  }
 ],
 "metadata": {
  "kernelspec": {
   "display_name": "Python 3 (ipykernel)",
   "language": "python",
   "name": "python3"
  },
  "language_info": {
   "codemirror_mode": {
    "name": "ipython",
    "version": 3
   },
   "file_extension": ".py",
   "mimetype": "text/x-python",
   "name": "python",
   "nbconvert_exporter": "python",
   "pygments_lexer": "ipython3",
   "version": "3.9.13"
  }
 },
 "nbformat": 4,
 "nbformat_minor": 5
}
